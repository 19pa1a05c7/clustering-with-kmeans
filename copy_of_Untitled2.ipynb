{
  "nbformat": 4,
  "nbformat_minor": 0,
  "metadata": {
    "colab": {
      "name": "Copy of Untitled2.ipynb",
      "provenance": [],
      "authorship_tag": "ABX9TyMUavlYIC7S3x/7E8ijzjEn",
      "include_colab_link": true
    },
    "kernelspec": {
      "name": "python3",
      "display_name": "Python 3"
    }
  },
  "cells": [
    {
      "cell_type": "markdown",
      "metadata": {
        "id": "view-in-github",
        "colab_type": "text"
      },
      "source": [
        "<a href=\"https://colab.research.google.com/github/19pa1a05c7/clustering-with-kmeans/blob/master/copy_of_Untitled2.ipynb\" target=\"_parent\"><img src=\"https://colab.research.google.com/assets/colab-badge.svg\" alt=\"Open In Colab\"/></a>"
      ]
    },
    {
      "cell_type": "code",
      "metadata": {
        "id": "JOPcMAL8BBXp",
        "colab_type": "code",
        "colab": {}
      },
      "source": [
        "import numpy as np\n",
        "import pandas as pd\n",
        "import matplotlib.pyplot as plt\n",
        "from sklearn.cluster import KMeans\n",
        "%matplotlib inline"
      ],
      "execution_count": 0,
      "outputs": []
    },
    {
      "cell_type": "code",
      "metadata": {
        "id": "6NlRJqOgB6Ay",
        "colab_type": "code",
        "outputId": "b2090031-abcf-4daa-c65e-9f5513b74f0e",
        "colab": {
          "base_uri": "https://localhost:8080/",
          "height": 557
        }
      },
      "source": [
        "d1=pd.read_csv(\"covid1.csv\")\n",
        "d2=pd.read_csv(\"covid2.csv\")\n",
        "d3=pd.read_csv(\"covid3.csv\")\n",
        "d4=pd.read_csv(\"covid4.csv\")\n",
        "d5=pd.read_csv(\"covid5.csv\")\n",
        "d6=pd.read_csv(\"covid6.csv\")\n",
        "d7=pd.read_csv(\"covid7.csv\")\n",
        "d8=pd.read_csv(\"01-29-2020.csv\")\n",
        "d9=pd.read_csv(\"01-30-2020.csv\")\n",
        "d10=pd.read_csv(\"01-31-2020.csv\")\n",
        "d11=pd.read_csv(\"02-01-2020.csv\")\n",
        "d12=pd.read_csv(\"02-02-2020.csv\")\n",
        "d13=pd.read_csv(\"02-03-2020.csv\")\n",
        "d14=pd.read_csv(\"02-04-2020.csv\")\n",
        "d15=pd.read_csv(\"02-05-2020.csv\")\n",
        "d16=pd.read_csv(\"02-06-2020.csv\")\n",
        "d17=pd.read_csv(\"02-07-2020.csv\")\n",
        "d18=pd.read_csv(\"02-08-2020.csv\")\n",
        "d19=pd.read_csv(\"02-09-2020.csv\")\n",
        "d20=pd.read_csv(\"02-10-2020.csv\")\n",
        "d21=pd.read_csv(\"02-11-2020.csv\")\n",
        "d22=pd.read_csv(\"02-12-2020.csv\")\n",
        "d23=pd.read_csv(\"02-13-2020.csv\")\n",
        "d24=pd.read_csv(\"02-14-2020.csv\")\n",
        "d25=pd.read_csv(\"02-15-2020.csv\")\n",
        "d26=pd.read_csv(\"02-16-2020.csv\")\n",
        "d27=pd.read_csv(\"02-17-2020.csv\")\n",
        "d28=pd.read_csv(\"02-18-2020.csv\")\n",
        "d29=pd.read_csv(\"02-19-2020.csv\")\n",
        "d30=pd.read_csv(\"02-20-2020.csv\")\n",
        "d31=pd.read_csv(\"02-21-2020.csv\")\n",
        "d32=pd.read_csv(\"02-22-2020.csv\")\n",
        "d33=pd.read_csv(\"02-23-2020.csv\")\n",
        "d34=pd.read_csv(\"02-24-2020.csv\")\n",
        "d35=pd.read_csv(\"02-25-2020.csv\")\n",
        "d36=pd.read_csv(\"02-26-2020.csv\")\n",
        "d37=pd.read_csv(\"02-27-2020.csv\")\n",
        "d38=pd.read_csv(\"02-28-2020.csv\")\n",
        "d39=pd.read_csv(\"02-29-2020.csv\")\n",
        "d40=pd.read_csv(\"03-01-2020.csv\")\n",
        "d41=pd.read_csv(\"03-02-2020.csv\")\n",
        "d42=pd.read_csv(\"03-03-2020.csv\")\n",
        "d43=pd.read_csv(\"03-04-2020.csv\")\n",
        "d44=pd.read_csv(\"03-05-2020.csv\")\n",
        "d45=pd.read_csv(\"03-06-2020.csv\")\n",
        "d46=pd.read_csv(\"03-07-2020.csv\")\n",
        "d47=pd.read_csv(\"03-08-2020.csv\")\n",
        "d48=pd.read_csv(\"03-09-2020.csv\")\n",
        "d49=pd.read_csv(\"03-10-2020.csv\")\n",
        "d50=pd.read_csv(\"03-11-2020.csv\")\n",
        "d51=pd.read_csv(\"03-12-2020.csv\")\n",
        "d52=pd.read_csv(\"03-13-2020.csv\")\n",
        "d53=pd.read_csv(\"03-14-2020.csv\")\n",
        "d54=pd.read_csv(\"03-15-2020.csv\")\n",
        "d55=pd.read_csv(\"03-16-2020.csv\")\n",
        "d56=pd.read_csv(\"03-17-2020.csv\")\n",
        "d57=pd.read_csv(\"03-18-2020.csv\")\n",
        "d58=pd.read_csv(\"03-19-2020.csv\")\n",
        "d59=pd.read_csv(\"03-20-2020.csv\")\n",
        "d60=pd.read_csv(\"03-21-2020.csv\")\n",
        "frame=[d1,d2,d3,d4,d5,d6,d7,d8,d9,d10,d11,d12,d13,d14,d15,d16,d17,d18,d19,d20,d21,d22,d23,d24,d25,d26,d27,d28,d29,d30,d31,d32,d33,d34,d35,d36,d37,d38,d39,d40,d41,d42,d43,d44,d45,d46,d47,d48,d49,d50,d51,d52,d53,d54,d56,d57,d58,d59,d60]\n",
        "covid=pd.concat(frame)\n",
        "covid\n"
      ],
      "execution_count": 158,
      "outputs": [
        {
          "output_type": "stream",
          "text": [
            "/usr/local/lib/python3.6/dist-packages/ipykernel_launcher.py:62: FutureWarning: Sorting because non-concatenation axis is not aligned. A future version\n",
            "of pandas will change to not sort by default.\n",
            "\n",
            "To accept the future behavior, pass 'sort=False'.\n",
            "\n",
            "To retain the current behavior and silence the warning, pass 'sort=True'.\n",
            "\n"
          ],
          "name": "stderr"
        },
        {
          "output_type": "execute_result",
          "data": {
            "text/html": [
              "<div>\n",
              "<style scoped>\n",
              "    .dataframe tbody tr th:only-of-type {\n",
              "        vertical-align: middle;\n",
              "    }\n",
              "\n",
              "    .dataframe tbody tr th {\n",
              "        vertical-align: top;\n",
              "    }\n",
              "\n",
              "    .dataframe thead th {\n",
              "        text-align: right;\n",
              "    }\n",
              "</style>\n",
              "<table border=\"1\" class=\"dataframe\">\n",
              "  <thead>\n",
              "    <tr style=\"text-align: right;\">\n",
              "      <th></th>\n",
              "      <th>Confirmed</th>\n",
              "      <th>Country/Region</th>\n",
              "      <th>Deaths</th>\n",
              "      <th>Last Update</th>\n",
              "      <th>Latitude</th>\n",
              "      <th>Longitude</th>\n",
              "      <th>Province/State</th>\n",
              "      <th>Recovered</th>\n",
              "    </tr>\n",
              "  </thead>\n",
              "  <tbody>\n",
              "    <tr>\n",
              "      <th>0</th>\n",
              "      <td>1.0</td>\n",
              "      <td>Mainland China</td>\n",
              "      <td>NaN</td>\n",
              "      <td>1/22/2020 17:00</td>\n",
              "      <td>NaN</td>\n",
              "      <td>NaN</td>\n",
              "      <td>Anhui</td>\n",
              "      <td>NaN</td>\n",
              "    </tr>\n",
              "    <tr>\n",
              "      <th>1</th>\n",
              "      <td>14.0</td>\n",
              "      <td>Mainland China</td>\n",
              "      <td>NaN</td>\n",
              "      <td>1/22/2020 17:00</td>\n",
              "      <td>NaN</td>\n",
              "      <td>NaN</td>\n",
              "      <td>Beijing</td>\n",
              "      <td>NaN</td>\n",
              "    </tr>\n",
              "    <tr>\n",
              "      <th>2</th>\n",
              "      <td>6.0</td>\n",
              "      <td>Mainland China</td>\n",
              "      <td>NaN</td>\n",
              "      <td>1/22/2020 17:00</td>\n",
              "      <td>NaN</td>\n",
              "      <td>NaN</td>\n",
              "      <td>Chongqing</td>\n",
              "      <td>NaN</td>\n",
              "    </tr>\n",
              "    <tr>\n",
              "      <th>3</th>\n",
              "      <td>1.0</td>\n",
              "      <td>Mainland China</td>\n",
              "      <td>NaN</td>\n",
              "      <td>1/22/2020 17:00</td>\n",
              "      <td>NaN</td>\n",
              "      <td>NaN</td>\n",
              "      <td>Fujian</td>\n",
              "      <td>NaN</td>\n",
              "    </tr>\n",
              "    <tr>\n",
              "      <th>4</th>\n",
              "      <td>NaN</td>\n",
              "      <td>Mainland China</td>\n",
              "      <td>NaN</td>\n",
              "      <td>1/22/2020 17:00</td>\n",
              "      <td>NaN</td>\n",
              "      <td>NaN</td>\n",
              "      <td>Gansu</td>\n",
              "      <td>NaN</td>\n",
              "    </tr>\n",
              "    <tr>\n",
              "      <th>...</th>\n",
              "      <td>...</td>\n",
              "      <td>...</td>\n",
              "      <td>...</td>\n",
              "      <td>...</td>\n",
              "      <td>...</td>\n",
              "      <td>...</td>\n",
              "      <td>...</td>\n",
              "      <td>...</td>\n",
              "    </tr>\n",
              "    <tr>\n",
              "      <th>299</th>\n",
              "      <td>0.0</td>\n",
              "      <td>Jersey</td>\n",
              "      <td>0.0</td>\n",
              "      <td>2020-03-17T18:33:03</td>\n",
              "      <td>49.1900</td>\n",
              "      <td>-2.110</td>\n",
              "      <td>NaN</td>\n",
              "      <td>0.0</td>\n",
              "    </tr>\n",
              "    <tr>\n",
              "      <th>300</th>\n",
              "      <td>0.0</td>\n",
              "      <td>Puerto Rico</td>\n",
              "      <td>0.0</td>\n",
              "      <td>2020-03-17T16:13:14</td>\n",
              "      <td>18.2000</td>\n",
              "      <td>-66.500</td>\n",
              "      <td>NaN</td>\n",
              "      <td>0.0</td>\n",
              "    </tr>\n",
              "    <tr>\n",
              "      <th>301</th>\n",
              "      <td>0.0</td>\n",
              "      <td>Republic of the Congo</td>\n",
              "      <td>0.0</td>\n",
              "      <td>2020-03-17T21:33:03</td>\n",
              "      <td>-1.4400</td>\n",
              "      <td>15.556</td>\n",
              "      <td>NaN</td>\n",
              "      <td>0.0</td>\n",
              "    </tr>\n",
              "    <tr>\n",
              "      <th>302</th>\n",
              "      <td>0.0</td>\n",
              "      <td>The Bahamas</td>\n",
              "      <td>0.0</td>\n",
              "      <td>2020-03-19T12:13:38</td>\n",
              "      <td>24.2500</td>\n",
              "      <td>-76.000</td>\n",
              "      <td>NaN</td>\n",
              "      <td>0.0</td>\n",
              "    </tr>\n",
              "    <tr>\n",
              "      <th>303</th>\n",
              "      <td>0.0</td>\n",
              "      <td>The Gambia</td>\n",
              "      <td>0.0</td>\n",
              "      <td>2020-03-18T14:13:56</td>\n",
              "      <td>13.4667</td>\n",
              "      <td>-16.600</td>\n",
              "      <td>NaN</td>\n",
              "      <td>0.0</td>\n",
              "    </tr>\n",
              "  </tbody>\n",
              "</table>\n",
              "<p>7345 rows × 8 columns</p>\n",
              "</div>"
            ],
            "text/plain": [
              "     Confirmed         Country/Region  ...  Province/State Recovered\n",
              "0          1.0         Mainland China  ...           Anhui       NaN\n",
              "1         14.0         Mainland China  ...         Beijing       NaN\n",
              "2          6.0         Mainland China  ...       Chongqing       NaN\n",
              "3          1.0         Mainland China  ...          Fujian       NaN\n",
              "4          NaN         Mainland China  ...           Gansu       NaN\n",
              "..         ...                    ...  ...             ...       ...\n",
              "299        0.0                 Jersey  ...             NaN       0.0\n",
              "300        0.0            Puerto Rico  ...             NaN       0.0\n",
              "301        0.0  Republic of the Congo  ...             NaN       0.0\n",
              "302        0.0            The Bahamas  ...             NaN       0.0\n",
              "303        0.0             The Gambia  ...             NaN       0.0\n",
              "\n",
              "[7345 rows x 8 columns]"
            ]
          },
          "metadata": {
            "tags": []
          },
          "execution_count": 158
        }
      ]
    },
    {
      "cell_type": "code",
      "metadata": {
        "id": "otPzPAhoylgZ",
        "colab_type": "code",
        "colab": {}
      },
      "source": [
        "covid[\"Confirmed\"].fillna(0,inplace=True) \n",
        "covid[\"Deaths\"].fillna(0,inplace=True)\n",
        "covid[\"Recovered\"].fillna(0,inplace=True)\n",
        "covid[\"Province/State\"].fillna(covid[\"Province/State\"].mode()[0],inplace=True)"
      ],
      "execution_count": 0,
      "outputs": []
    },
    {
      "cell_type": "code",
      "metadata": {
        "id": "sH-xQXkYylc4",
        "colab_type": "code",
        "colab": {
          "base_uri": "https://localhost:8080/",
          "height": 243
        },
        "outputId": "1a658ef9-8ae7-4d46-bf9b-0f9441903918"
      },
      "source": [
        "covid.info()"
      ],
      "execution_count": 160,
      "outputs": [
        {
          "output_type": "stream",
          "text": [
            "<class 'pandas.core.frame.DataFrame'>\n",
            "Int64Index: 7345 entries, 0 to 303\n",
            "Data columns (total 8 columns):\n",
            "Confirmed         7345 non-null float64\n",
            "Country/Region    7345 non-null object\n",
            "Deaths            7345 non-null float64\n",
            "Last Update       7345 non-null object\n",
            "Latitude          4527 non-null float64\n",
            "Longitude         4527 non-null float64\n",
            "Province/State    7345 non-null object\n",
            "Recovered         7345 non-null float64\n",
            "dtypes: float64(5), object(3)\n",
            "memory usage: 516.4+ KB\n"
          ],
          "name": "stdout"
        }
      ]
    },
    {
      "cell_type": "code",
      "metadata": {
        "id": "Fwgx1PeAEuRl",
        "colab_type": "code",
        "colab": {
          "base_uri": "https://localhost:8080/",
          "height": 415
        },
        "outputId": "87d35002-c0b3-4ffb-e16b-5806f4ef93ba"
      },
      "source": [
        "covid19=covid.iloc[:,[6,0,2,7]]\n",
        "covid19"
      ],
      "execution_count": 161,
      "outputs": [
        {
          "output_type": "execute_result",
          "data": {
            "text/html": [
              "<div>\n",
              "<style scoped>\n",
              "    .dataframe tbody tr th:only-of-type {\n",
              "        vertical-align: middle;\n",
              "    }\n",
              "\n",
              "    .dataframe tbody tr th {\n",
              "        vertical-align: top;\n",
              "    }\n",
              "\n",
              "    .dataframe thead th {\n",
              "        text-align: right;\n",
              "    }\n",
              "</style>\n",
              "<table border=\"1\" class=\"dataframe\">\n",
              "  <thead>\n",
              "    <tr style=\"text-align: right;\">\n",
              "      <th></th>\n",
              "      <th>Province/State</th>\n",
              "      <th>Confirmed</th>\n",
              "      <th>Deaths</th>\n",
              "      <th>Recovered</th>\n",
              "    </tr>\n",
              "  </thead>\n",
              "  <tbody>\n",
              "    <tr>\n",
              "      <th>0</th>\n",
              "      <td>Anhui</td>\n",
              "      <td>1.0</td>\n",
              "      <td>0.0</td>\n",
              "      <td>0.0</td>\n",
              "    </tr>\n",
              "    <tr>\n",
              "      <th>1</th>\n",
              "      <td>Beijing</td>\n",
              "      <td>14.0</td>\n",
              "      <td>0.0</td>\n",
              "      <td>0.0</td>\n",
              "    </tr>\n",
              "    <tr>\n",
              "      <th>2</th>\n",
              "      <td>Chongqing</td>\n",
              "      <td>6.0</td>\n",
              "      <td>0.0</td>\n",
              "      <td>0.0</td>\n",
              "    </tr>\n",
              "    <tr>\n",
              "      <th>3</th>\n",
              "      <td>Fujian</td>\n",
              "      <td>1.0</td>\n",
              "      <td>0.0</td>\n",
              "      <td>0.0</td>\n",
              "    </tr>\n",
              "    <tr>\n",
              "      <th>4</th>\n",
              "      <td>Gansu</td>\n",
              "      <td>0.0</td>\n",
              "      <td>0.0</td>\n",
              "      <td>0.0</td>\n",
              "    </tr>\n",
              "    <tr>\n",
              "      <th>...</th>\n",
              "      <td>...</td>\n",
              "      <td>...</td>\n",
              "      <td>...</td>\n",
              "      <td>...</td>\n",
              "    </tr>\n",
              "    <tr>\n",
              "      <th>299</th>\n",
              "      <td>Gansu</td>\n",
              "      <td>0.0</td>\n",
              "      <td>0.0</td>\n",
              "      <td>0.0</td>\n",
              "    </tr>\n",
              "    <tr>\n",
              "      <th>300</th>\n",
              "      <td>Gansu</td>\n",
              "      <td>0.0</td>\n",
              "      <td>0.0</td>\n",
              "      <td>0.0</td>\n",
              "    </tr>\n",
              "    <tr>\n",
              "      <th>301</th>\n",
              "      <td>Gansu</td>\n",
              "      <td>0.0</td>\n",
              "      <td>0.0</td>\n",
              "      <td>0.0</td>\n",
              "    </tr>\n",
              "    <tr>\n",
              "      <th>302</th>\n",
              "      <td>Gansu</td>\n",
              "      <td>0.0</td>\n",
              "      <td>0.0</td>\n",
              "      <td>0.0</td>\n",
              "    </tr>\n",
              "    <tr>\n",
              "      <th>303</th>\n",
              "      <td>Gansu</td>\n",
              "      <td>0.0</td>\n",
              "      <td>0.0</td>\n",
              "      <td>0.0</td>\n",
              "    </tr>\n",
              "  </tbody>\n",
              "</table>\n",
              "<p>7345 rows × 4 columns</p>\n",
              "</div>"
            ],
            "text/plain": [
              "    Province/State  Confirmed  Deaths  Recovered\n",
              "0            Anhui        1.0     0.0        0.0\n",
              "1          Beijing       14.0     0.0        0.0\n",
              "2        Chongqing        6.0     0.0        0.0\n",
              "3           Fujian        1.0     0.0        0.0\n",
              "4            Gansu        0.0     0.0        0.0\n",
              "..             ...        ...     ...        ...\n",
              "299          Gansu        0.0     0.0        0.0\n",
              "300          Gansu        0.0     0.0        0.0\n",
              "301          Gansu        0.0     0.0        0.0\n",
              "302          Gansu        0.0     0.0        0.0\n",
              "303          Gansu        0.0     0.0        0.0\n",
              "\n",
              "[7345 rows x 4 columns]"
            ]
          },
          "metadata": {
            "tags": []
          },
          "execution_count": 161
        }
      ]
    },
    {
      "cell_type": "code",
      "metadata": {
        "id": "y5VcAAF6BaTP",
        "colab_type": "code",
        "colab": {
          "base_uri": "https://localhost:8080/",
          "height": 415
        },
        "outputId": "bbd34a5e-6ade-4855-86e5-941bf9d2d2bc"
      },
      "source": [
        "covid19 = covid19.groupby('Province/State').agg(np.sum).reset_index()\n",
        "covid19"
      ],
      "execution_count": 162,
      "outputs": [
        {
          "output_type": "execute_result",
          "data": {
            "text/html": [
              "<div>\n",
              "<style scoped>\n",
              "    .dataframe tbody tr th:only-of-type {\n",
              "        vertical-align: middle;\n",
              "    }\n",
              "\n",
              "    .dataframe tbody tr th {\n",
              "        vertical-align: top;\n",
              "    }\n",
              "\n",
              "    .dataframe thead th {\n",
              "        text-align: right;\n",
              "    }\n",
              "</style>\n",
              "<table border=\"1\" class=\"dataframe\">\n",
              "  <thead>\n",
              "    <tr style=\"text-align: right;\">\n",
              "      <th></th>\n",
              "      <th>Province/State</th>\n",
              "      <th>Confirmed</th>\n",
              "      <th>Deaths</th>\n",
              "      <th>Recovered</th>\n",
              "    </tr>\n",
              "  </thead>\n",
              "  <tbody>\n",
              "    <tr>\n",
              "      <th>0</th>\n",
              "      <td>Montreal, QC</td>\n",
              "      <td>17.0</td>\n",
              "      <td>0.0</td>\n",
              "      <td>0.0</td>\n",
              "    </tr>\n",
              "    <tr>\n",
              "      <th>1</th>\n",
              "      <td>Norfolk County, MA</td>\n",
              "      <td>7.0</td>\n",
              "      <td>0.0</td>\n",
              "      <td>0.0</td>\n",
              "    </tr>\n",
              "    <tr>\n",
              "      <th>2</th>\n",
              "      <td>Alabama</td>\n",
              "      <td>400.0</td>\n",
              "      <td>0.0</td>\n",
              "      <td>0.0</td>\n",
              "    </tr>\n",
              "    <tr>\n",
              "      <th>3</th>\n",
              "      <td>Alameda County, CA</td>\n",
              "      <td>6.0</td>\n",
              "      <td>0.0</td>\n",
              "      <td>0.0</td>\n",
              "    </tr>\n",
              "    <tr>\n",
              "      <th>4</th>\n",
              "      <td>Alaska</td>\n",
              "      <td>47.0</td>\n",
              "      <td>0.0</td>\n",
              "      <td>0.0</td>\n",
              "    </tr>\n",
              "    <tr>\n",
              "      <th>...</th>\n",
              "      <td>...</td>\n",
              "      <td>...</td>\n",
              "      <td>...</td>\n",
              "      <td>...</td>\n",
              "    </tr>\n",
              "    <tr>\n",
              "      <th>278</th>\n",
              "      <td>Wyoming</td>\n",
              "      <td>93.0</td>\n",
              "      <td>0.0</td>\n",
              "      <td>0.0</td>\n",
              "    </tr>\n",
              "    <tr>\n",
              "      <th>279</th>\n",
              "      <td>Xinjiang</td>\n",
              "      <td>3295.0</td>\n",
              "      <td>87.0</td>\n",
              "      <td>1863.0</td>\n",
              "    </tr>\n",
              "    <tr>\n",
              "      <th>280</th>\n",
              "      <td>Yolo County, CA</td>\n",
              "      <td>4.0</td>\n",
              "      <td>0.0</td>\n",
              "      <td>0.0</td>\n",
              "    </tr>\n",
              "    <tr>\n",
              "      <th>281</th>\n",
              "      <td>Yunnan</td>\n",
              "      <td>8286.0</td>\n",
              "      <td>61.0</td>\n",
              "      <td>5110.0</td>\n",
              "    </tr>\n",
              "    <tr>\n",
              "      <th>282</th>\n",
              "      <td>Zhejiang</td>\n",
              "      <td>57501.0</td>\n",
              "      <td>30.0</td>\n",
              "      <td>36527.0</td>\n",
              "    </tr>\n",
              "  </tbody>\n",
              "</table>\n",
              "<p>283 rows × 4 columns</p>\n",
              "</div>"
            ],
            "text/plain": [
              "          Province/State  Confirmed  Deaths  Recovered\n",
              "0           Montreal, QC       17.0     0.0        0.0\n",
              "1     Norfolk County, MA        7.0     0.0        0.0\n",
              "2                Alabama      400.0     0.0        0.0\n",
              "3     Alameda County, CA        6.0     0.0        0.0\n",
              "4                 Alaska       47.0     0.0        0.0\n",
              "..                   ...        ...     ...        ...\n",
              "278              Wyoming       93.0     0.0        0.0\n",
              "279             Xinjiang     3295.0    87.0     1863.0\n",
              "280      Yolo County, CA        4.0     0.0        0.0\n",
              "281               Yunnan     8286.0    61.0     5110.0\n",
              "282             Zhejiang    57501.0    30.0    36527.0\n",
              "\n",
              "[283 rows x 4 columns]"
            ]
          },
          "metadata": {
            "tags": []
          },
          "execution_count": 162
        }
      ]
    },
    {
      "cell_type": "code",
      "metadata": {
        "id": "CwsQrb_JVC0s",
        "colab_type": "code",
        "outputId": "b8a8c8cf-bb80-4dfa-fa58-cb0be1edd708",
        "colab": {
          "base_uri": "https://localhost:8080/",
          "height": 35
        }
      },
      "source": [
        "covid19.columns"
      ],
      "execution_count": 163,
      "outputs": [
        {
          "output_type": "execute_result",
          "data": {
            "text/plain": [
              "Index(['Province/State', 'Confirmed', 'Deaths', 'Recovered'], dtype='object')"
            ]
          },
          "metadata": {
            "tags": []
          },
          "execution_count": 163
        }
      ]
    },
    {
      "cell_type": "code",
      "metadata": {
        "id": "qsvl2Ci8kUe3",
        "colab_type": "code",
        "outputId": "bd10dc0c-26f2-4e84-947e-4bcc78a23454",
        "colab": {
          "base_uri": "https://localhost:8080/",
          "height": 1000
        }
      },
      "source": [
        "x=covid19.iloc[:,1:4].values\n",
        "x"
      ],
      "execution_count": 164,
      "outputs": [
        {
          "output_type": "execute_result",
          "data": {
            "text/plain": [
              "array([[1.700000e+01, 0.000000e+00, 0.000000e+00],\n",
              "       [7.000000e+00, 0.000000e+00, 0.000000e+00],\n",
              "       [4.000000e+02, 0.000000e+00, 0.000000e+00],\n",
              "       [6.000000e+00, 0.000000e+00, 0.000000e+00],\n",
              "       [4.700000e+01, 0.000000e+00, 0.000000e+00],\n",
              "       [7.800000e+02, 2.000000e+00, 0.000000e+00],\n",
              "       [4.467700e+04, 2.330000e+02, 2.873700e+04],\n",
              "       [3.520000e+02, 1.000000e+00, 7.000000e+00],\n",
              "       [3.760000e+02, 0.000000e+00, 0.000000e+00],\n",
              "       [1.400000e+01, 0.000000e+00, 0.000000e+00],\n",
              "       [1.100000e+01, 0.000000e+00, 0.000000e+00],\n",
              "       [2.700000e+01, 0.000000e+00, 0.000000e+00],\n",
              "       [1.700000e+01, 0.000000e+00, 0.000000e+00],\n",
              "       [1.947900e+04, 2.580000e+02, 9.835000e+03],\n",
              "       [1.000000e+00, 0.000000e+00, 0.000000e+00],\n",
              "       [1.600000e+01, 0.000000e+00, 0.000000e+00],\n",
              "       [4.000000e+00, 0.000000e+00, 0.000000e+00],\n",
              "       [2.000000e+00, 0.000000e+00, 0.000000e+00],\n",
              "       [6.000000e+00, 0.000000e+00, 0.000000e+00],\n",
              "       [3.400000e+01, 0.000000e+00, 7.000000e+00],\n",
              "       [1.816000e+03, 4.300000e+01, 8.300000e+01],\n",
              "       [7.000000e+00, 0.000000e+00, 0.000000e+00],\n",
              "       [3.000000e+00, 0.000000e+00, 0.000000e+00],\n",
              "       [6.544000e+03, 1.140000e+02, 3.400000e+01],\n",
              "       [1.000000e+00, 0.000000e+00, 0.000000e+00],\n",
              "       [1.100000e+01, 5.000000e+00, 0.000000e+00],\n",
              "       [8.000000e+01, 0.000000e+00, 0.000000e+00],\n",
              "       [3.000000e+00, 0.000000e+00, 0.000000e+00],\n",
              "       [1.000000e+00, 0.000000e+00, 0.000000e+00],\n",
              "       [4.000000e+00, 0.000000e+00, 0.000000e+00],\n",
              "       [1.000000e+00, 0.000000e+00, 0.000000e+00],\n",
              "       [1.000000e+00, 0.000000e+00, 0.000000e+00],\n",
              "       [6.100000e+01, 0.000000e+00, 4.400000e+01],\n",
              "       [2.692900e+04, 2.390000e+02, 1.625700e+04],\n",
              "       [7.000000e+00, 0.000000e+00, 0.000000e+00],\n",
              "       [3.000000e+00, 0.000000e+00, 0.000000e+00],\n",
              "       [5.000000e+00, 0.000000e+00, 0.000000e+00],\n",
              "       [1.000000e+00, 0.000000e+00, 0.000000e+00],\n",
              "       [1.749000e+03, 1.800000e+01, 0.000000e+00],\n",
              "       [7.500000e+02, 9.000000e+00, 0.000000e+00],\n",
              "       [3.200000e+01, 0.000000e+00, 0.000000e+00],\n",
              "       [4.200000e+01, 0.000000e+00, 1.600000e+01],\n",
              "       [1.220000e+02, 0.000000e+00, 0.000000e+00],\n",
              "       [1.500000e+01, 3.000000e+00, 0.000000e+00],\n",
              "       [2.000000e+00, 0.000000e+00, 0.000000e+00],\n",
              "       [3.000000e+00, 0.000000e+00, 0.000000e+00],\n",
              "       [1.670000e+02, 0.000000e+00, 0.000000e+00],\n",
              "       [4.000000e+00, 0.000000e+00, 0.000000e+00],\n",
              "       [9.315000e+03, 3.900000e+01, 1.000000e+01],\n",
              "       [8.000000e+00, 0.000000e+00, 0.000000e+00],\n",
              "       [7.539000e+03, 7.100000e+01, 3.250000e+03],\n",
              "       [1.696200e+04, 9.500000e+01, 2.940000e+02],\n",
              "       [3.020000e+02, 2.000000e+00, 0.000000e+00],\n",
              "       [9.000000e+00, 0.000000e+00, 0.000000e+00],\n",
              "       [6.000000e+00, 0.000000e+00, 0.000000e+00],\n",
              "       [2.000000e+00, 0.000000e+00, 0.000000e+00],\n",
              "       [4.000000e+00, 0.000000e+00, 0.000000e+00],\n",
              "       [3.000000e+00, 0.000000e+00, 0.000000e+00],\n",
              "       [4.000000e+00, 0.000000e+00, 0.000000e+00],\n",
              "       [4.000000e+00, 0.000000e+00, 0.000000e+00],\n",
              "       [3.760000e+02, 0.000000e+00, 0.000000e+00],\n",
              "       [4.000000e+00, 0.000000e+00, 0.000000e+00],\n",
              "       [5.000000e+00, 0.000000e+00, 0.000000e+00],\n",
              "       [2.488000e+03, 6.000000e+01, 0.000000e+00],\n",
              "       [3.000000e+00, 0.000000e+00, 0.000000e+00],\n",
              "       [1.700000e+01, 0.000000e+00, 0.000000e+00],\n",
              "       [7.165100e+04, 1.908000e+03, 1.200000e+02],\n",
              "       [1.400000e+01, 0.000000e+00, 0.000000e+00],\n",
              "       [4.700000e+01, 0.000000e+00, 0.000000e+00],\n",
              "       [2.000000e+00, 0.000000e+00, 0.000000e+00],\n",
              "       [6.000000e+01, 0.000000e+00, 0.000000e+00],\n",
              "       [1.400000e+04, 3.000000e+01, 8.449000e+03],\n",
              "       [1.900000e+01, 0.000000e+00, 0.000000e+00],\n",
              "       [1.157195e+06, 4.612300e+04, 1.305080e+05],\n",
              "       [1.837000e+03, 4.500000e+01, 0.000000e+00],\n",
              "       [4.600000e+01, 0.000000e+00, 1.400000e+01],\n",
              "       [1.900000e+01, 0.000000e+00, 0.000000e+00],\n",
              "       [2.840000e+02, 0.000000e+00, 0.000000e+00],\n",
              "       [6.300000e+01, 0.000000e+00, 0.000000e+00],\n",
              "       [5.000000e+00, 1.000000e+00, 0.000000e+00],\n",
              "       [6.000000e+00, 0.000000e+00, 0.000000e+00],\n",
              "       [6.000000e+00, 0.000000e+00, 0.000000e+00],\n",
              "       [5.200000e+01, 0.000000e+00, 0.000000e+00],\n",
              "       [6.283400e+04, 2.410000e+02, 3.735200e+04],\n",
              "       [1.159200e+04, 7.800000e+01, 6.439000e+03],\n",
              "       [6.407000e+03, 7.700000e+01, 3.996000e+03],\n",
              "       [7.740000e+03, 2.190000e+02, 4.864000e+03],\n",
              "       [2.000000e+00, 0.000000e+00, 0.000000e+00],\n",
              "       [2.100000e+01, 0.000000e+00, 0.000000e+00],\n",
              "       [2.000000e+00, 0.000000e+00, 0.000000e+00],\n",
              "       [1.210000e+02, 0.000000e+00, 0.000000e+00],\n",
              "       [1.381700e+04, 2.260000e+02, 9.503000e+03],\n",
              "       [2.054100e+04, 5.190000e+02, 1.142100e+04],\n",
              "       [5.799100e+04, 7.900000e+02, 3.849500e+04],\n",
              "       [3.000000e+00, 0.000000e+00, 0.000000e+00],\n",
              "       [1.500000e+01, 0.000000e+00, 0.000000e+00],\n",
              "       [4.432000e+03, 9.800000e+01, 1.499000e+03],\n",
              "       [4.000000e+00, 0.000000e+00, 0.000000e+00],\n",
              "       [2.691487e+06, 1.055010e+05, 1.204941e+06],\n",
              "       [2.000000e+00, 0.000000e+00, 0.000000e+00],\n",
              "       [1.800000e+01, 0.000000e+00, 0.000000e+00],\n",
              "       [4.720200e+04, 1.460000e+02, 3.153200e+04],\n",
              "       [9.500000e+01, 0.000000e+00, 0.000000e+00],\n",
              "       [2.363000e+03, 1.700000e+01, 1.400000e+01],\n",
              "       [4.220000e+02, 1.200000e+01, 0.000000e+00],\n",
              "       [3.369000e+03, 1.800000e+01, 1.784000e+03],\n",
              "       [2.980000e+02, 0.000000e+00, 0.000000e+00],\n",
              "       [2.000000e+00, 0.000000e+00, 0.000000e+00],\n",
              "       [5.000000e+00, 0.000000e+00, 0.000000e+00],\n",
              "       [1.000000e+00, 0.000000e+00, 0.000000e+00],\n",
              "       [3.000000e+00, 0.000000e+00, 0.000000e+00],\n",
              "       [1.000000e+00, 0.000000e+00, 0.000000e+00],\n",
              "       [2.837500e+04, 0.000000e+00, 1.875600e+04],\n",
              "       [4.237400e+04, 4.000000e+01, 2.721500e+04],\n",
              "       [4.142000e+03, 4.300000e+01, 2.679000e+03],\n",
              "       [3.000000e+00, 0.000000e+00, 0.000000e+00],\n",
              "       [2.000000e+00, 0.000000e+00, 0.000000e+00],\n",
              "       [1.950000e+02, 9.000000e+00, 0.000000e+00],\n",
              "       [2.960000e+02, 9.000000e+00, 1.000000e+00],\n",
              "       [6.000000e+00, 0.000000e+00, 0.000000e+00],\n",
              "       [4.120000e+02, 9.100000e+01, 8.000000e+00],\n",
              "       [2.000000e+00, 0.000000e+00, 0.000000e+00],\n",
              "       [3.000000e+00, 0.000000e+00, 0.000000e+00],\n",
              "       [2.000000e+00, 0.000000e+00, 0.000000e+00],\n",
              "       [4.000000e+00, 0.000000e+00, 0.000000e+00],\n",
              "       [6.000000e+00, 2.000000e+00, 0.000000e+00],\n",
              "       [5.899000e+03, 4.000000e+01, 3.397000e+03],\n",
              "       [3.400000e+01, 0.000000e+00, 2.600000e+01],\n",
              "       [1.050000e+02, 0.000000e+00, 0.000000e+00],\n",
              "       [2.198000e+03, 5.100000e+01, 0.000000e+00],\n",
              "       [5.580000e+02, 0.000000e+00, 2.980000e+02],\n",
              "       [3.000000e+00, 0.000000e+00, 0.000000e+00],\n",
              "       [3.400000e+01, 0.000000e+00, 7.000000e+00],\n",
              "       [2.680000e+02, 0.000000e+00, 0.000000e+00],\n",
              "       [3.000000e+00, 0.000000e+00, 0.000000e+00],\n",
              "       [8.700000e+01, 0.000000e+00, 0.000000e+00],\n",
              "       [1.400000e+01, 0.000000e+00, 3.000000e+00],\n",
              "       [4.000000e+00, 0.000000e+00, 0.000000e+00],\n",
              "       [2.000000e+00, 0.000000e+00, 0.000000e+00],\n",
              "       [6.990000e+02, 4.000000e+00, 3.000000e+00],\n",
              "       [2.422000e+03, 2.000000e+00, 7.000000e+00],\n",
              "       [2.000000e+00, 0.000000e+00, 0.000000e+00],\n",
              "       [1.900000e+03, 1.100000e+01, 0.000000e+00],\n",
              "       [1.600000e+01, 0.000000e+00, 0.000000e+00],\n",
              "       [5.660000e+02, 1.000000e+00, 0.000000e+00],\n",
              "       [3.430000e+02, 3.000000e+00, 0.000000e+00],\n",
              "       [2.010000e+02, 6.000000e+00, 0.000000e+00],\n",
              "       [8.200000e+01, 0.000000e+00, 0.000000e+00],\n",
              "       [1.400000e+01, 0.000000e+00, 0.000000e+00],\n",
              "       [9.000000e+00, 0.000000e+00, 0.000000e+00],\n",
              "       [0.000000e+00, 0.000000e+00, 0.000000e+00],\n",
              "       [4.000000e+00, 0.000000e+00, 0.000000e+00],\n",
              "       [2.700000e+01, 0.000000e+00, 0.000000e+00],\n",
              "       [2.110000e+02, 0.000000e+00, 0.000000e+00],\n",
              "       [1.284100e+04, 4.190000e+02, 1.000000e+01],\n",
              "       [5.680000e+02, 6.000000e+00, 0.000000e+00],\n",
              "       [6.400000e+01, 0.000000e+00, 0.000000e+00],\n",
              "       [8.000000e+00, 0.000000e+00, 0.000000e+00],\n",
              "       [2.360000e+02, 0.000000e+00, 0.000000e+00],\n",
              "       [3.756000e+03, 4.900000e+01, 1.000000e+00],\n",
              "       [2.080000e+02, 0.000000e+00, 0.000000e+00],\n",
              "       [2.441000e+03, 4.800000e+01, 1.760000e+02],\n",
              "       [3.198500e+04, 1.700000e+02, 0.000000e+00],\n",
              "       [7.000000e+00, 0.000000e+00, 0.000000e+00],\n",
              "       [5.800000e+01, 0.000000e+00, 0.000000e+00],\n",
              "       [2.000000e+01, 0.000000e+00, 0.000000e+00],\n",
              "       [3.257000e+03, 0.000000e+00, 2.351000e+03],\n",
              "       [3.000000e+00, 0.000000e+00, 0.000000e+00],\n",
              "       [1.200000e+01, 0.000000e+00, 0.000000e+00],\n",
              "       [7.850000e+02, 0.000000e+00, 0.000000e+00],\n",
              "       [7.800000e+01, 0.000000e+00, 0.000000e+00],\n",
              "       [1.700000e+01, 0.000000e+00, 0.000000e+00],\n",
              "       [1.000000e+00, 0.000000e+00, 0.000000e+00],\n",
              "       [1.000000e+00, 0.000000e+00, 0.000000e+00],\n",
              "       [6.900000e+01, 0.000000e+00, 0.000000e+00],\n",
              "       [7.810000e+02, 5.000000e+00, 0.000000e+00],\n",
              "       [2.000000e+00, 0.000000e+00, 0.000000e+00],\n",
              "       [2.030000e+02, 3.000000e+00, 0.000000e+00],\n",
              "       [2.200000e+01, 0.000000e+00, 0.000000e+00],\n",
              "       [1.775000e+03, 8.000000e+00, 5.400000e+01],\n",
              "       [1.900000e+01, 0.000000e+00, 0.000000e+00],\n",
              "       [3.200000e+01, 0.000000e+00, 0.000000e+00],\n",
              "       [6.060000e+02, 1.500000e+01, 0.000000e+00],\n",
              "       [1.373000e+03, 4.000000e+00, 0.000000e+00],\n",
              "       [9.000000e+00, 0.000000e+00, 0.000000e+00],\n",
              "       [6.000000e+00, 0.000000e+00, 0.000000e+00],\n",
              "       [2.800000e+01, 6.000000e+00, 0.000000e+00],\n",
              "       [3.000000e+00, 0.000000e+00, 0.000000e+00],\n",
              "       [2.000000e+00, 0.000000e+00, 0.000000e+00],\n",
              "       [4.000000e+00, 0.000000e+00, 0.000000e+00],\n",
              "       [9.000000e+00, 0.000000e+00, 0.000000e+00],\n",
              "       [9.000000e+00, 0.000000e+00, 0.000000e+00],\n",
              "       [1.100000e+01, 0.000000e+00, 0.000000e+00],\n",
              "       [5.800000e+01, 1.000000e+00, 0.000000e+00],\n",
              "       [8.930000e+02, 0.000000e+00, 6.620000e+02],\n",
              "       [6.910000e+02, 7.000000e+00, 0.000000e+00],\n",
              "       [1.000000e+00, 0.000000e+00, 0.000000e+00],\n",
              "       [1.171000e+03, 0.000000e+00, 1.410000e+02],\n",
              "       [4.000000e+00, 0.000000e+00, 0.000000e+00],\n",
              "       [9.000000e+00, 0.000000e+00, 0.000000e+00],\n",
              "       [2.870000e+02, 0.000000e+00, 0.000000e+00],\n",
              "       [2.000000e+00, 0.000000e+00, 0.000000e+00],\n",
              "       [3.000000e+00, 0.000000e+00, 0.000000e+00],\n",
              "       [8.000000e+00, 0.000000e+00, 0.000000e+00],\n",
              "       [3.000000e+01, 0.000000e+00, 0.000000e+00],\n",
              "       [2.000000e+01, 0.000000e+00, 0.000000e+00],\n",
              "       [2.600000e+01, 0.000000e+00, 0.000000e+00],\n",
              "       [7.200000e+01, 0.000000e+00, 0.000000e+00],\n",
              "       [5.900000e+01, 0.000000e+00, 1.800000e+01],\n",
              "       [3.100000e+01, 0.000000e+00, 0.000000e+00],\n",
              "       [1.500000e+01, 0.000000e+00, 0.000000e+00],\n",
              "       [1.080000e+02, 0.000000e+00, 3.000000e+00],\n",
              "       [1.310000e+02, 0.000000e+00, 1.500000e+01],\n",
              "       [1.000000e+00, 0.000000e+00, 0.000000e+00],\n",
              "       [5.000000e+00, 2.000000e+00, 0.000000e+00],\n",
              "       [8.000000e+00, 0.000000e+00, 0.000000e+00],\n",
              "       [6.000000e+00, 0.000000e+00, 0.000000e+00],\n",
              "       [8.300000e+01, 0.000000e+00, 0.000000e+00],\n",
              "       [4.300000e+01, 2.000000e+00, 2.200000e+01],\n",
              "       [1.140800e+04, 4.400000e+01, 6.967000e+03],\n",
              "       [3.131000e+04, 2.000000e+02, 1.833500e+04],\n",
              "       [1.623900e+04, 1.140000e+02, 1.013900e+04],\n",
              "       [6.199000e+03, 0.000000e+00, 4.055000e+03],\n",
              "       [1.000000e+00, 0.000000e+00, 0.000000e+00],\n",
              "       [2.000000e+00, 0.000000e+00, 0.000000e+00],\n",
              "       [2.409400e+04, 1.200000e+02, 1.380100e+04],\n",
              "       [2.000000e+00, 0.000000e+00, 0.000000e+00],\n",
              "       [1.470000e+02, 8.000000e+00, 0.000000e+00],\n",
              "       [1.000000e+01, 0.000000e+00, 0.000000e+00],\n",
              "       [4.100000e+02, 0.000000e+00, 7.400000e+01],\n",
              "       [5.610000e+02, 7.000000e+00, 0.000000e+00],\n",
              "       [1.030000e+02, 1.000000e+01, 0.000000e+00],\n",
              "       [1.000000e+00, 0.000000e+00, 0.000000e+00],\n",
              "       [2.000000e+00, 0.000000e+00, 0.000000e+00],\n",
              "       [2.700000e+01, 0.000000e+00, 0.000000e+00],\n",
              "       [2.000000e+00, 0.000000e+00, 0.000000e+00],\n",
              "       [2.200000e+01, 0.000000e+00, 4.000000e+00],\n",
              "       [2.000000e+00, 0.000000e+00, 0.000000e+00],\n",
              "       [8.000000e+00, 0.000000e+00, 0.000000e+00],\n",
              "       [1.104000e+03, 2.400000e+01, 1.890000e+02],\n",
              "       [8.700000e+01, 0.000000e+00, 9.000000e+00],\n",
              "       [3.500000e+01, 0.000000e+00, 1.100000e+01],\n",
              "       [1.042000e+03, 1.000000e+00, 0.000000e+00],\n",
              "       [1.751000e+03, 1.900000e+01, 0.000000e+00],\n",
              "       [6.051000e+03, 1.210000e+02, 3.751000e+03],\n",
              "       [5.100000e+01, 0.000000e+00, 3.800000e+01],\n",
              "       [2.380000e+02, 0.000000e+00, 3.600000e+01],\n",
              "       [5.000000e+00, 0.000000e+00, 0.000000e+00],\n",
              "       [1.000000e+01, 0.000000e+00, 0.000000e+00],\n",
              "       [3.000000e+00, 0.000000e+00, 0.000000e+00],\n",
              "       [9.120000e+02, 1.600000e+01, 3.600000e+01],\n",
              "       [4.000000e+00, 0.000000e+00, 5.320000e+02],\n",
              "       [2.000000e+00, 0.000000e+00, 0.000000e+00],\n",
              "       [8.000000e+00, 0.000000e+00, 0.000000e+00],\n",
              "       [6.480000e+02, 0.000000e+00, 0.000000e+00],\n",
              "       [1.000000e+00, 0.000000e+00, 0.000000e+00],\n",
              "       [2.000000e+01, 0.000000e+00, 0.000000e+00],\n",
              "       [1.934400e+04, 7.230000e+02, 3.660000e+02],\n",
              "       [1.300000e+01, 0.000000e+00, 0.000000e+00],\n",
              "       [2.000000e+00, 0.000000e+00, 0.000000e+00],\n",
              "       [4.530000e+02, 0.000000e+00, 0.000000e+00],\n",
              "       [1.290000e+02, 4.000000e+00, 0.000000e+00],\n",
              "       [1.107000e+03, 0.000000e+00, 2.040000e+02],\n",
              "       [7.000000e+00, 0.000000e+00, 0.000000e+00],\n",
              "       [2.000000e+00, 0.000000e+00, 0.000000e+00],\n",
              "       [6.700000e+02, 1.200000e+01, 0.000000e+00],\n",
              "       [2.000000e+00, 0.000000e+00, 0.000000e+00],\n",
              "       [7.000000e+00, 0.000000e+00, 0.000000e+00],\n",
              "       [9.651000e+03, 5.580000e+02, 7.000000e+00],\n",
              "       [2.700000e+01, 0.000000e+00, 0.000000e+00],\n",
              "       [4.000000e+00, 0.000000e+00, 0.000000e+00],\n",
              "       [6.000000e+00, 0.000000e+00, 0.000000e+00],\n",
              "       [4.000000e+00, 0.000000e+00, 0.000000e+00],\n",
              "       [1.900000e+01, 0.000000e+00, 0.000000e+00],\n",
              "       [2.860000e+02, 0.000000e+00, 0.000000e+00],\n",
              "       [3.700000e+02, 2.000000e+01, 0.000000e+00],\n",
              "       [5.000000e+00, 0.000000e+00, 0.000000e+00],\n",
              "       [9.070000e+02, 7.000000e+00, 7.000000e+00],\n",
              "       [9.300000e+01, 0.000000e+00, 0.000000e+00],\n",
              "       [3.295000e+03, 8.700000e+01, 1.863000e+03],\n",
              "       [4.000000e+00, 0.000000e+00, 0.000000e+00],\n",
              "       [8.286000e+03, 6.100000e+01, 5.110000e+03],\n",
              "       [5.750100e+04, 3.000000e+01, 3.652700e+04]])"
            ]
          },
          "metadata": {
            "tags": []
          },
          "execution_count": 164
        }
      ]
    },
    {
      "cell_type": "code",
      "metadata": {
        "id": "gsBX37JfIAdr",
        "colab_type": "code",
        "colab": {
          "base_uri": "https://localhost:8080/",
          "height": 578
        },
        "outputId": "041e1f8a-47d4-4171-f8b6-cf5f94f93bcf"
      },
      "source": [
        "import seaborn as sns\n",
        "sns.pairplot(covid19,kind=\"scatter\")\n",
        "plt.show()"
      ],
      "execution_count": 168,
      "outputs": [
        {
          "output_type": "display_data",
          "data": {
            "image/png": "[encoded data removed]",
            "text/plain": [
              "<Figure size 540x540 with 12 Axes>"
            ]
          },
          "metadata": {
            "tags": []
          }
        }
      ]
    },
    {
      "cell_type": "code",
      "metadata": {
        "id": "6cj8G2MSi61s",
        "colab_type": "code",
        "outputId": "63a47ee0-1eca-48cb-db82-7e5ebeabec5b",
        "colab": {
          "base_uri": "https://localhost:8080/",
          "height": 293
        }
      },
      "source": [
        "plt.scatter(x[:,1],x[:,2])"
      ],
      "execution_count": 166,
      "outputs": [
        {
          "output_type": "execute_result",
          "data": {
            "text/plain": [
              "<matplotlib.collections.PathCollection at 0x7f42eba08a20>"
            ]
          },
          "metadata": {
            "tags": []
          },
          "execution_count": 166
        },
        {
          "output_type": "display_data",
          "data": {
            "image/png": "[encoded data removed]",
            "text/plain": [
              "<Figure size 432x288 with 1 Axes>"
            ]
          },
          "metadata": {
            "tags": []
          }
        }
      ]
    },
    {
      "cell_type": "code",
      "metadata": {
        "id": "SnkULMTmRAa6",
        "colab_type": "code",
        "outputId": "a05dff07-1cf5-4320-fe91-ff801229a18b",
        "colab": {
          "base_uri": "https://localhost:8080/",
          "height": 295
        }
      },
      "source": [
        "sad = []\n",
        "\n",
        "for i in range(2, 21):\n",
        "    kmeans = KMeans(n_clusters = i, init = 'k-means++', max_iter = 300, n_init = 10, random_state = 0)\n",
        "    kmeans.fit(x)\n",
        "    sad.append(kmeans.score(x))\n",
        "plt.plot(range(2,21),sad)\n",
        "plt.title('The elbow method')\n",
        "plt.xlabel('Number of clusters')\n",
        "plt.ylabel('sad')\n",
        "plt.show()\n"
      ],
      "execution_count": 167,
      "outputs": [
        {
          "output_type": "display_data",
          "data": {
            "image/png": "[encoded data removed]",
            "text/plain": [
              "<Figure size 432x288 with 1 Axes>"
            ]
          },
          "metadata": {
            "tags": []
          }
        }
      ]
    },
    {
      "cell_type": "code",
      "metadata": {
        "id": "I_kFA3RuLkWc",
        "colab_type": "code",
        "outputId": "eb1fa7fa-4319-4560-c91f-30bab01f735a",
        "colab": {
          "base_uri": "https://localhost:8080/",
          "height": 260
        }
      },
      "source": [
        "kmeans = KMeans(n_clusters = 3, init = 'k-means++', max_iter = 300, n_init = 10, random_state = 0)\n",
        "y_kmeans = kmeans.fit_predict(x)\n",
        "y_kmeans"
      ],
      "execution_count": 169,
      "outputs": [
        {
          "output_type": "execute_result",
          "data": {
            "text/plain": [
              "array([0, 0, 0, 0, 0, 0, 0, 0, 0, 0, 0, 0, 0, 0, 0, 0, 0, 0, 0, 0, 0, 0,\n",
              "       0, 0, 0, 0, 0, 0, 0, 0, 0, 0, 0, 0, 0, 0, 0, 0, 0, 0, 0, 0, 0, 0,\n",
              "       0, 0, 0, 0, 0, 0, 0, 0, 0, 0, 0, 0, 0, 0, 0, 0, 0, 0, 0, 0, 0, 0,\n",
              "       0, 0, 0, 0, 0, 0, 0, 2, 0, 0, 0, 0, 0, 0, 0, 0, 0, 0, 0, 0, 0, 0,\n",
              "       0, 0, 0, 0, 0, 0, 0, 0, 0, 0, 1, 0, 0, 0, 0, 0, 0, 0, 0, 0, 0, 0,\n",
              "       0, 0, 0, 0, 0, 0, 0, 0, 0, 0, 0, 0, 0, 0, 0, 0, 0, 0, 0, 0, 0, 0,\n",
              "       0, 0, 0, 0, 0, 0, 0, 0, 0, 0, 0, 0, 0, 0, 0, 0, 0, 0, 0, 0, 0, 0,\n",
              "       0, 0, 0, 0, 0, 0, 0, 0, 0, 0, 0, 0, 0, 0, 0, 0, 0, 0, 0, 0, 0, 0,\n",
              "       0, 0, 0, 0, 0, 0, 0, 0, 0, 0, 0, 0, 0, 0, 0, 0, 0, 0, 0, 0, 0, 0,\n",
              "       0, 0, 0, 0, 0, 0, 0, 0, 0, 0, 0, 0, 0, 0, 0, 0, 0, 0, 0, 0, 0, 0,\n",
              "       0, 0, 0, 0, 0, 0, 0, 0, 0, 0, 0, 0, 0, 0, 0, 0, 0, 0, 0, 0, 0, 0,\n",
              "       0, 0, 0, 0, 0, 0, 0, 0, 0, 0, 0, 0, 0, 0, 0, 0, 0, 0, 0, 0, 0, 0,\n",
              "       0, 0, 0, 0, 0, 0, 0, 0, 0, 0, 0, 0, 0, 0, 0, 0, 0, 0, 0],\n",
              "      dtype=int32)"
            ]
          },
          "metadata": {
            "tags": []
          },
          "execution_count": 169
        }
      ]
    },
    {
      "cell_type": "code",
      "metadata": {
        "id": "ZhVmjza1eY0a",
        "colab_type": "code",
        "outputId": "f3cad019-2b51-44b3-9eed-2b23e23f066d",
        "colab": {
          "base_uri": "https://localhost:8080/",
          "height": 293
        }
      },
      "source": [
        "plt.scatter(x[:, 1], x[:, 2], c=y_kmeans, s=x[:,0],cmap=\"viridis\")\n",
        "cen=kmeans.cluster_centers_\n",
        "plt.scatter(cen[:,1],cen[:,2],c=\"black\",s=40,alpha=0.8)"
      ],
      "execution_count": 171,
      "outputs": [
        {
          "output_type": "execute_result",
          "data": {
            "text/plain": [
              "<matplotlib.collections.PathCollection at 0x7f42eb5b0940>"
            ]
          },
          "metadata": {
            "tags": []
          },
          "execution_count": 171
        },
        {
          "output_type": "display_data",
          "data": {
            "image/png": "[encoded data removed]",
            "text/plain": [
              "<Figure size 432x288 with 1 Axes>"
            ]
          },
          "metadata": {
            "tags": []
          }
        }
      ]
    },
    {
      "cell_type": "code",
      "metadata": {
        "id": "_UHWtBN3fhSn",
        "colab_type": "code",
        "outputId": "9eb2d395-cf6a-409b-e51f-7885ba4625cb",
        "colab": {
          "base_uri": "https://localhost:8080/",
          "height": 69
        }
      },
      "source": [
        "cen=kmeans.cluster_centers_\n",
        "cen"
      ],
      "execution_count": 172,
      "outputs": [
        {
          "output_type": "execute_result",
          "data": {
            "text/plain": [
              "array([[2.95522776e+03, 3.15302491e+01, 1.32373665e+03],\n",
              "       [2.69148700e+06, 1.05501000e+05, 1.20494100e+06],\n",
              "       [1.15719500e+06, 4.61230000e+04, 1.30508000e+05]])"
            ]
          },
          "metadata": {
            "tags": []
          },
          "execution_count": 172
        }
      ]
    },
    {
      "cell_type": "code",
      "metadata": {
        "id": "bgoj8ZwwgMWz",
        "colab_type": "code",
        "colab": {}
      },
      "source": [
        ""
      ],
      "execution_count": 0,
      "outputs": []
    }
  ]
}