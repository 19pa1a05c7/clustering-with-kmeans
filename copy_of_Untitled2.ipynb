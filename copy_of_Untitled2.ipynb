{
  "nbformat": 4,
  "nbformat_minor": 0,
  "metadata": {
    "colab": {
      "name": "Copy of Untitled2.ipynb",
      "provenance": [],
      "authorship_tag": "ABX9TyNgF2FeuQHCHWDlN3Ffeunl",
      "include_colab_link": true
    },
    "kernelspec": {
      "name": "python3",
      "display_name": "Python 3"
    }
  },
  "cells": [
    {
      "cell_type": "markdown",
      "metadata": {
        "id": "view-in-github",
        "colab_type": "text"
      },
      "source": [
        "<a href=\"https://colab.research.google.com/github/19pa1a05c7/clustering-with-kmeans/blob/master/copy_of_Untitled2.ipynb\" target=\"_parent\"><img src=\"https://colab.research.google.com/assets/colab-badge.svg\" alt=\"Open In Colab\"/></a>"
      ]
    },
    {
      "cell_type": "markdown",
      "metadata": {
        "id": "NthGZpIGLaXr",
        "colab_type": "text"
      },
      "source": [
        "\n",
        "\n",
        "---\n",
        "\n",
        "# TEAM MEMBERS:\n",
        "\n",
        "\n",
        "1.   **sadhik**  -19PA1A05C7\n",
        "2.   **jagadeesh**  -19PA1A05C3\n",
        "1.   **nagaraju**  -19PA1A0591\n",
        "2.   **mohana santhi**  -19PA1A05B1\n",
        "\n",
        "\n"
      ]
    },
    {
      "cell_type": "markdown",
      "metadata": {
        "id": "4gJW1CLGMN2j",
        "colab_type": "text"
      },
      "source": [
        "# **Importing the required modules**"
      ]
    },
    {
      "cell_type": "code",
      "metadata": {
        "id": "JOPcMAL8BBXp",
        "colab_type": "code",
        "colab": {}
      },
      "source": [
        "import numpy as np\n",
        "import pandas as pd\n",
        "import matplotlib.pyplot as plt\n",
        "from sklearn.cluster import KMeans\n",
        "%matplotlib inline"
      ],
      "execution_count": 0,
      "outputs": []
    },
    {
      "cell_type": "markdown",
      "metadata": {
        "id": "mPhZfBT-MXKc",
        "colab_type": "text"
      },
      "source": [
        "# **Forming dataframes of single day and concating them to a single dataframe.**"
      ]
    },
    {
      "cell_type": "code",
      "metadata": {
        "id": "6NlRJqOgB6Ay",
        "colab_type": "code",
        "outputId": "7400ff4a-46d9-431e-aff4-9ca90d7eda1a",
        "colab": {
          "base_uri": "https://localhost:8080/",
          "height": 747
        }
      },
      "source": [
        "d1=pd.read_csv(\"01-22-2020.csv\")\n",
        "d2=pd.read_csv(\"01-23-2020.csv\")\n",
        "d3=pd.read_csv(\"01-24-2020.csv\")\n",
        "d4=pd.read_csv(\"01-25-2020.csv\")\n",
        "d5=pd.read_csv(\"01-26-2020.csv\")\n",
        "d6=pd.read_csv(\"01-27-2020.csv\")\n",
        "d7=pd.read_csv(\"01-28-2020.csv\")\n",
        "d8=pd.read_csv(\"01-29-2020.csv\")\n",
        "d9=pd.read_csv(\"01-30-2020.csv\")\n",
        "d10=pd.read_csv(\"01-31-2020.csv\")\n",
        "d11=pd.read_csv(\"02-01-2020.csv\")\n",
        "d12=pd.read_csv(\"02-02-2020.csv\")\n",
        "d13=pd.read_csv(\"02-03-2020.csv\")\n",
        "d14=pd.read_csv(\"02-04-2020.csv\")\n",
        "d15=pd.read_csv(\"02-05-2020.csv\")\n",
        "d16=pd.read_csv(\"02-06-2020.csv\")\n",
        "d17=pd.read_csv(\"02-07-2020.csv\")\n",
        "d18=pd.read_csv(\"02-08-2020.csv\")\n",
        "d19=pd.read_csv(\"02-09-2020.csv\")\n",
        "d20=pd.read_csv(\"02-10-2020.csv\")\n",
        "d21=pd.read_csv(\"02-11-2020.csv\")\n",
        "d22=pd.read_csv(\"02-12-2020.csv\")\n",
        "d23=pd.read_csv(\"02-13-2020.csv\")\n",
        "d24=pd.read_csv(\"02-14-2020.csv\")\n",
        "d25=pd.read_csv(\"02-15-2020.csv\")\n",
        "d26=pd.read_csv(\"02-16-2020.csv\")\n",
        "d27=pd.read_csv(\"02-17-2020.csv\")\n",
        "d28=pd.read_csv(\"02-18-2020.csv\")\n",
        "d29=pd.read_csv(\"02-19-2020.csv\")\n",
        "d30=pd.read_csv(\"02-20-2020.csv\")\n",
        "d31=pd.read_csv(\"02-21-2020.csv\")\n",
        "d32=pd.read_csv(\"02-22-2020.csv\")\n",
        "d33=pd.read_csv(\"02-23-2020.csv\")\n",
        "d34=pd.read_csv(\"02-24-2020.csv\")\n",
        "d35=pd.read_csv(\"02-25-2020.csv\")\n",
        "d36=pd.read_csv(\"02-26-2020.csv\")\n",
        "d37=pd.read_csv(\"02-27-2020.csv\")\n",
        "d38=pd.read_csv(\"02-28-2020.csv\")\n",
        "d39=pd.read_csv(\"02-29-2020.csv\")\n",
        "d40=pd.read_csv(\"03-01-2020.csv\")\n",
        "d41=pd.read_csv(\"03-02-2020.csv\")\n",
        "d42=pd.read_csv(\"03-03-2020.csv\")\n",
        "d43=pd.read_csv(\"03-04-2020.csv\")\n",
        "d44=pd.read_csv(\"03-05-2020.csv\")\n",
        "d45=pd.read_csv(\"03-06-2020.csv\")\n",
        "d46=pd.read_csv(\"03-07-2020.csv\")\n",
        "d47=pd.read_csv(\"03-08-2020.csv\")\n",
        "d48=pd.read_csv(\"03-09-2020.csv\")\n",
        "d49=pd.read_csv(\"03-10-2020.csv\")\n",
        "d50=pd.read_csv(\"03-11-2020.csv\")\n",
        "d51=pd.read_csv(\"03-12-2020.csv\")\n",
        "d52=pd.read_csv(\"03-13-2020.csv\")\n",
        "d53=pd.read_csv(\"03-14-2020.csv\")\n",
        "d54=pd.read_csv(\"03-15-2020.csv\")\n",
        "d55=pd.read_csv(\"03-16-2020.csv\")\n",
        "d56=pd.read_csv(\"03-17-2020.csv\")\n",
        "d57=pd.read_csv(\"03-18-2020.csv\")\n",
        "d58=pd.read_csv(\"03-19-2020.csv\")\n",
        "d59=pd.read_csv(\"03-20-2020.csv\")\n",
        "d60=pd.read_csv(\"03-21-2020.csv\")\n",
        "d61=pd.read_csv(\"03-22-2020.csv\")\n",
        "d62=pd.read_csv(\"03-23-2020.csv\")\n",
        "d63=pd.read_csv(\"03-24-2020.csv\")\n",
        "d64=pd.read_csv(\"03-25-2020.csv\")\n",
        "d65=pd.read_csv(\"03-26-2020.csv\")\n",
        "\n",
        "frame=[d1,d2,d3,d4,d5,d6,d7,d8,d9,d10,d11,d12,d13,d14,d15,d16,d17,d18,d19,d20,d21,d22,d23,d24,d25,d26,d27,d28,d29,d30,d31,d32,d33,d34,d35,d36,d37,d38,d39,d40,d41,d42,d43,d44,d45,d46,d47,d48,d49,d50,d51,d52,d53,d54,d56,d57,d58,d59,d60,d61,d62,d63,d64,d65]\n",
        "covid=pd.concat(frame)\n",
        "covid\n"
      ],
      "execution_count": 32,
      "outputs": [
        {
          "output_type": "stream",
          "text": [
            "/usr/local/lib/python3.6/dist-packages/ipykernel_launcher.py:68: FutureWarning: Sorting because non-concatenation axis is not aligned. A future version\n",
            "of pandas will change to not sort by default.\n",
            "\n",
            "To accept the future behavior, pass 'sort=False'.\n",
            "\n",
            "To retain the current behavior and silence the warning, pass 'sort=True'.\n",
            "\n"
          ],
          "name": "stderr"
        },
        {
          "output_type": "execute_result",
          "data": {
            "text/html": [
              "<div>\n",
              "<style scoped>\n",
              "    .dataframe tbody tr th:only-of-type {\n",
              "        vertical-align: middle;\n",
              "    }\n",
              "\n",
              "    .dataframe tbody tr th {\n",
              "        vertical-align: top;\n",
              "    }\n",
              "\n",
              "    .dataframe thead th {\n",
              "        text-align: right;\n",
              "    }\n",
              "</style>\n",
              "<table border=\"1\" class=\"dataframe\">\n",
              "  <thead>\n",
              "    <tr style=\"text-align: right;\">\n",
              "      <th></th>\n",
              "      <th>Active</th>\n",
              "      <th>Admin2</th>\n",
              "      <th>Combined_Key</th>\n",
              "      <th>Confirmed</th>\n",
              "      <th>Country/Region</th>\n",
              "      <th>Country_Region</th>\n",
              "      <th>Deaths</th>\n",
              "      <th>FIPS</th>\n",
              "      <th>Last Update</th>\n",
              "      <th>Last_Update</th>\n",
              "      <th>Lat</th>\n",
              "      <th>Latitude</th>\n",
              "      <th>Long_</th>\n",
              "      <th>Longitude</th>\n",
              "      <th>Province/State</th>\n",
              "      <th>Province_State</th>\n",
              "      <th>Recovered</th>\n",
              "    </tr>\n",
              "  </thead>\n",
              "  <tbody>\n",
              "    <tr>\n",
              "      <th>0</th>\n",
              "      <td>NaN</td>\n",
              "      <td>NaN</td>\n",
              "      <td>NaN</td>\n",
              "      <td>1.0</td>\n",
              "      <td>Mainland China</td>\n",
              "      <td>NaN</td>\n",
              "      <td>NaN</td>\n",
              "      <td>NaN</td>\n",
              "      <td>1/22/2020 17:00</td>\n",
              "      <td>NaN</td>\n",
              "      <td>NaN</td>\n",
              "      <td>NaN</td>\n",
              "      <td>NaN</td>\n",
              "      <td>NaN</td>\n",
              "      <td>Anhui</td>\n",
              "      <td>NaN</td>\n",
              "      <td>NaN</td>\n",
              "    </tr>\n",
              "    <tr>\n",
              "      <th>1</th>\n",
              "      <td>NaN</td>\n",
              "      <td>NaN</td>\n",
              "      <td>NaN</td>\n",
              "      <td>14.0</td>\n",
              "      <td>Mainland China</td>\n",
              "      <td>NaN</td>\n",
              "      <td>NaN</td>\n",
              "      <td>NaN</td>\n",
              "      <td>1/22/2020 17:00</td>\n",
              "      <td>NaN</td>\n",
              "      <td>NaN</td>\n",
              "      <td>NaN</td>\n",
              "      <td>NaN</td>\n",
              "      <td>NaN</td>\n",
              "      <td>Beijing</td>\n",
              "      <td>NaN</td>\n",
              "      <td>NaN</td>\n",
              "    </tr>\n",
              "    <tr>\n",
              "      <th>2</th>\n",
              "      <td>NaN</td>\n",
              "      <td>NaN</td>\n",
              "      <td>NaN</td>\n",
              "      <td>6.0</td>\n",
              "      <td>Mainland China</td>\n",
              "      <td>NaN</td>\n",
              "      <td>NaN</td>\n",
              "      <td>NaN</td>\n",
              "      <td>1/22/2020 17:00</td>\n",
              "      <td>NaN</td>\n",
              "      <td>NaN</td>\n",
              "      <td>NaN</td>\n",
              "      <td>NaN</td>\n",
              "      <td>NaN</td>\n",
              "      <td>Chongqing</td>\n",
              "      <td>NaN</td>\n",
              "      <td>NaN</td>\n",
              "    </tr>\n",
              "    <tr>\n",
              "      <th>3</th>\n",
              "      <td>NaN</td>\n",
              "      <td>NaN</td>\n",
              "      <td>NaN</td>\n",
              "      <td>1.0</td>\n",
              "      <td>Mainland China</td>\n",
              "      <td>NaN</td>\n",
              "      <td>NaN</td>\n",
              "      <td>NaN</td>\n",
              "      <td>1/22/2020 17:00</td>\n",
              "      <td>NaN</td>\n",
              "      <td>NaN</td>\n",
              "      <td>NaN</td>\n",
              "      <td>NaN</td>\n",
              "      <td>NaN</td>\n",
              "      <td>Fujian</td>\n",
              "      <td>NaN</td>\n",
              "      <td>NaN</td>\n",
              "    </tr>\n",
              "    <tr>\n",
              "      <th>4</th>\n",
              "      <td>NaN</td>\n",
              "      <td>NaN</td>\n",
              "      <td>NaN</td>\n",
              "      <td>NaN</td>\n",
              "      <td>Mainland China</td>\n",
              "      <td>NaN</td>\n",
              "      <td>NaN</td>\n",
              "      <td>NaN</td>\n",
              "      <td>1/22/2020 17:00</td>\n",
              "      <td>NaN</td>\n",
              "      <td>NaN</td>\n",
              "      <td>NaN</td>\n",
              "      <td>NaN</td>\n",
              "      <td>NaN</td>\n",
              "      <td>Gansu</td>\n",
              "      <td>NaN</td>\n",
              "      <td>NaN</td>\n",
              "    </tr>\n",
              "    <tr>\n",
              "      <th>...</th>\n",
              "      <td>...</td>\n",
              "      <td>...</td>\n",
              "      <td>...</td>\n",
              "      <td>...</td>\n",
              "      <td>...</td>\n",
              "      <td>...</td>\n",
              "      <td>...</td>\n",
              "      <td>...</td>\n",
              "      <td>...</td>\n",
              "      <td>...</td>\n",
              "      <td>...</td>\n",
              "      <td>...</td>\n",
              "      <td>...</td>\n",
              "      <td>...</td>\n",
              "      <td>...</td>\n",
              "      <td>...</td>\n",
              "      <td>...</td>\n",
              "    </tr>\n",
              "    <tr>\n",
              "      <th>3416</th>\n",
              "      <td>92.0</td>\n",
              "      <td>NaN</td>\n",
              "      <td>Venezuela</td>\n",
              "      <td>107.0</td>\n",
              "      <td>NaN</td>\n",
              "      <td>Venezuela</td>\n",
              "      <td>0.0</td>\n",
              "      <td>NaN</td>\n",
              "      <td>NaN</td>\n",
              "      <td>2020-03-26 23:48:18</td>\n",
              "      <td>6.423800</td>\n",
              "      <td>NaN</td>\n",
              "      <td>-66.589700</td>\n",
              "      <td>NaN</td>\n",
              "      <td>NaN</td>\n",
              "      <td>NaN</td>\n",
              "      <td>15.0</td>\n",
              "    </tr>\n",
              "    <tr>\n",
              "      <th>3417</th>\n",
              "      <td>133.0</td>\n",
              "      <td>NaN</td>\n",
              "      <td>Vietnam</td>\n",
              "      <td>153.0</td>\n",
              "      <td>NaN</td>\n",
              "      <td>Vietnam</td>\n",
              "      <td>0.0</td>\n",
              "      <td>NaN</td>\n",
              "      <td>NaN</td>\n",
              "      <td>2020-03-26 23:48:18</td>\n",
              "      <td>14.058324</td>\n",
              "      <td>NaN</td>\n",
              "      <td>108.277199</td>\n",
              "      <td>NaN</td>\n",
              "      <td>NaN</td>\n",
              "      <td>NaN</td>\n",
              "      <td>20.0</td>\n",
              "    </tr>\n",
              "    <tr>\n",
              "      <th>3418</th>\n",
              "      <td>66.0</td>\n",
              "      <td>NaN</td>\n",
              "      <td>West Bank and Gaza</td>\n",
              "      <td>84.0</td>\n",
              "      <td>NaN</td>\n",
              "      <td>West Bank and Gaza</td>\n",
              "      <td>1.0</td>\n",
              "      <td>NaN</td>\n",
              "      <td>NaN</td>\n",
              "      <td>2020-03-26 23:48:18</td>\n",
              "      <td>31.952200</td>\n",
              "      <td>NaN</td>\n",
              "      <td>35.233200</td>\n",
              "      <td>NaN</td>\n",
              "      <td>NaN</td>\n",
              "      <td>NaN</td>\n",
              "      <td>17.0</td>\n",
              "    </tr>\n",
              "    <tr>\n",
              "      <th>3419</th>\n",
              "      <td>16.0</td>\n",
              "      <td>NaN</td>\n",
              "      <td>Zambia</td>\n",
              "      <td>16.0</td>\n",
              "      <td>NaN</td>\n",
              "      <td>Zambia</td>\n",
              "      <td>0.0</td>\n",
              "      <td>NaN</td>\n",
              "      <td>NaN</td>\n",
              "      <td>2020-03-26 23:48:18</td>\n",
              "      <td>-13.133897</td>\n",
              "      <td>NaN</td>\n",
              "      <td>27.849332</td>\n",
              "      <td>NaN</td>\n",
              "      <td>NaN</td>\n",
              "      <td>NaN</td>\n",
              "      <td>0.0</td>\n",
              "    </tr>\n",
              "    <tr>\n",
              "      <th>3420</th>\n",
              "      <td>2.0</td>\n",
              "      <td>NaN</td>\n",
              "      <td>Zimbabwe</td>\n",
              "      <td>3.0</td>\n",
              "      <td>NaN</td>\n",
              "      <td>Zimbabwe</td>\n",
              "      <td>1.0</td>\n",
              "      <td>NaN</td>\n",
              "      <td>NaN</td>\n",
              "      <td>2020-03-26 23:48:18</td>\n",
              "      <td>-19.015438</td>\n",
              "      <td>NaN</td>\n",
              "      <td>29.154857</td>\n",
              "      <td>NaN</td>\n",
              "      <td>NaN</td>\n",
              "      <td>NaN</td>\n",
              "      <td>0.0</td>\n",
              "    </tr>\n",
              "  </tbody>\n",
              "</table>\n",
              "<p>24435 rows × 17 columns</p>\n",
              "</div>"
            ],
            "text/plain": [
              "      Active Admin2  ... Province_State  Recovered\n",
              "0        NaN    NaN  ...            NaN        NaN\n",
              "1        NaN    NaN  ...            NaN        NaN\n",
              "2        NaN    NaN  ...            NaN        NaN\n",
              "3        NaN    NaN  ...            NaN        NaN\n",
              "4        NaN    NaN  ...            NaN        NaN\n",
              "...      ...    ...  ...            ...        ...\n",
              "3416    92.0    NaN  ...            NaN       15.0\n",
              "3417   133.0    NaN  ...            NaN       20.0\n",
              "3418    66.0    NaN  ...            NaN       17.0\n",
              "3419    16.0    NaN  ...            NaN        0.0\n",
              "3420     2.0    NaN  ...            NaN        0.0\n",
              "\n",
              "[24435 rows x 17 columns]"
            ]
          },
          "metadata": {
            "tags": []
          },
          "execution_count": 32
        }
      ]
    },
    {
      "cell_type": "code",
      "metadata": {
        "id": "xy-1AwRCCcSg",
        "colab_type": "code",
        "colab": {
          "base_uri": "https://localhost:8080/",
          "height": 626
        },
        "outputId": "c3b0ae12-8dc0-4b81-c69c-2e0fdffc7bc9"
      },
      "source": [
        "covid[\"Longitude\"]=covid[\"Long_\"]\n",
        "covid[\"Latitude\"]=covid[\"Lat\"]\n",
        "covid[\"Province/State\"]=covid[\"Province_State\"]\n",
        "covid[\"Last Update\"]=covid[\"Last_Update\"]\n",
        "covid[\"Country/Region\"]=covid[\"Country_Region\"]\n",
        "covid\n"
      ],
      "execution_count": 33,
      "outputs": [
        {
          "output_type": "execute_result",
          "data": {
            "text/html": [
              "<div>\n",
              "<style scoped>\n",
              "    .dataframe tbody tr th:only-of-type {\n",
              "        vertical-align: middle;\n",
              "    }\n",
              "\n",
              "    .dataframe tbody tr th {\n",
              "        vertical-align: top;\n",
              "    }\n",
              "\n",
              "    .dataframe thead th {\n",
              "        text-align: right;\n",
              "    }\n",
              "</style>\n",
              "<table border=\"1\" class=\"dataframe\">\n",
              "  <thead>\n",
              "    <tr style=\"text-align: right;\">\n",
              "      <th></th>\n",
              "      <th>Active</th>\n",
              "      <th>Admin2</th>\n",
              "      <th>Combined_Key</th>\n",
              "      <th>Confirmed</th>\n",
              "      <th>Country/Region</th>\n",
              "      <th>Country_Region</th>\n",
              "      <th>Deaths</th>\n",
              "      <th>FIPS</th>\n",
              "      <th>Last Update</th>\n",
              "      <th>Last_Update</th>\n",
              "      <th>Lat</th>\n",
              "      <th>Latitude</th>\n",
              "      <th>Long_</th>\n",
              "      <th>Longitude</th>\n",
              "      <th>Province/State</th>\n",
              "      <th>Province_State</th>\n",
              "      <th>Recovered</th>\n",
              "    </tr>\n",
              "  </thead>\n",
              "  <tbody>\n",
              "    <tr>\n",
              "      <th>0</th>\n",
              "      <td>NaN</td>\n",
              "      <td>NaN</td>\n",
              "      <td>NaN</td>\n",
              "      <td>1.0</td>\n",
              "      <td>NaN</td>\n",
              "      <td>NaN</td>\n",
              "      <td>NaN</td>\n",
              "      <td>NaN</td>\n",
              "      <td>NaN</td>\n",
              "      <td>NaN</td>\n",
              "      <td>NaN</td>\n",
              "      <td>NaN</td>\n",
              "      <td>NaN</td>\n",
              "      <td>NaN</td>\n",
              "      <td>NaN</td>\n",
              "      <td>NaN</td>\n",
              "      <td>NaN</td>\n",
              "    </tr>\n",
              "    <tr>\n",
              "      <th>1</th>\n",
              "      <td>NaN</td>\n",
              "      <td>NaN</td>\n",
              "      <td>NaN</td>\n",
              "      <td>14.0</td>\n",
              "      <td>NaN</td>\n",
              "      <td>NaN</td>\n",
              "      <td>NaN</td>\n",
              "      <td>NaN</td>\n",
              "      <td>NaN</td>\n",
              "      <td>NaN</td>\n",
              "      <td>NaN</td>\n",
              "      <td>NaN</td>\n",
              "      <td>NaN</td>\n",
              "      <td>NaN</td>\n",
              "      <td>NaN</td>\n",
              "      <td>NaN</td>\n",
              "      <td>NaN</td>\n",
              "    </tr>\n",
              "    <tr>\n",
              "      <th>2</th>\n",
              "      <td>NaN</td>\n",
              "      <td>NaN</td>\n",
              "      <td>NaN</td>\n",
              "      <td>6.0</td>\n",
              "      <td>NaN</td>\n",
              "      <td>NaN</td>\n",
              "      <td>NaN</td>\n",
              "      <td>NaN</td>\n",
              "      <td>NaN</td>\n",
              "      <td>NaN</td>\n",
              "      <td>NaN</td>\n",
              "      <td>NaN</td>\n",
              "      <td>NaN</td>\n",
              "      <td>NaN</td>\n",
              "      <td>NaN</td>\n",
              "      <td>NaN</td>\n",
              "      <td>NaN</td>\n",
              "    </tr>\n",
              "    <tr>\n",
              "      <th>3</th>\n",
              "      <td>NaN</td>\n",
              "      <td>NaN</td>\n",
              "      <td>NaN</td>\n",
              "      <td>1.0</td>\n",
              "      <td>NaN</td>\n",
              "      <td>NaN</td>\n",
              "      <td>NaN</td>\n",
              "      <td>NaN</td>\n",
              "      <td>NaN</td>\n",
              "      <td>NaN</td>\n",
              "      <td>NaN</td>\n",
              "      <td>NaN</td>\n",
              "      <td>NaN</td>\n",
              "      <td>NaN</td>\n",
              "      <td>NaN</td>\n",
              "      <td>NaN</td>\n",
              "      <td>NaN</td>\n",
              "    </tr>\n",
              "    <tr>\n",
              "      <th>4</th>\n",
              "      <td>NaN</td>\n",
              "      <td>NaN</td>\n",
              "      <td>NaN</td>\n",
              "      <td>NaN</td>\n",
              "      <td>NaN</td>\n",
              "      <td>NaN</td>\n",
              "      <td>NaN</td>\n",
              "      <td>NaN</td>\n",
              "      <td>NaN</td>\n",
              "      <td>NaN</td>\n",
              "      <td>NaN</td>\n",
              "      <td>NaN</td>\n",
              "      <td>NaN</td>\n",
              "      <td>NaN</td>\n",
              "      <td>NaN</td>\n",
              "      <td>NaN</td>\n",
              "      <td>NaN</td>\n",
              "    </tr>\n",
              "    <tr>\n",
              "      <th>...</th>\n",
              "      <td>...</td>\n",
              "      <td>...</td>\n",
              "      <td>...</td>\n",
              "      <td>...</td>\n",
              "      <td>...</td>\n",
              "      <td>...</td>\n",
              "      <td>...</td>\n",
              "      <td>...</td>\n",
              "      <td>...</td>\n",
              "      <td>...</td>\n",
              "      <td>...</td>\n",
              "      <td>...</td>\n",
              "      <td>...</td>\n",
              "      <td>...</td>\n",
              "      <td>...</td>\n",
              "      <td>...</td>\n",
              "      <td>...</td>\n",
              "    </tr>\n",
              "    <tr>\n",
              "      <th>3416</th>\n",
              "      <td>92.0</td>\n",
              "      <td>NaN</td>\n",
              "      <td>Venezuela</td>\n",
              "      <td>107.0</td>\n",
              "      <td>Venezuela</td>\n",
              "      <td>Venezuela</td>\n",
              "      <td>0.0</td>\n",
              "      <td>NaN</td>\n",
              "      <td>2020-03-26 23:48:18</td>\n",
              "      <td>2020-03-26 23:48:18</td>\n",
              "      <td>6.423800</td>\n",
              "      <td>6.423800</td>\n",
              "      <td>-66.589700</td>\n",
              "      <td>-66.589700</td>\n",
              "      <td>NaN</td>\n",
              "      <td>NaN</td>\n",
              "      <td>15.0</td>\n",
              "    </tr>\n",
              "    <tr>\n",
              "      <th>3417</th>\n",
              "      <td>133.0</td>\n",
              "      <td>NaN</td>\n",
              "      <td>Vietnam</td>\n",
              "      <td>153.0</td>\n",
              "      <td>Vietnam</td>\n",
              "      <td>Vietnam</td>\n",
              "      <td>0.0</td>\n",
              "      <td>NaN</td>\n",
              "      <td>2020-03-26 23:48:18</td>\n",
              "      <td>2020-03-26 23:48:18</td>\n",
              "      <td>14.058324</td>\n",
              "      <td>14.058324</td>\n",
              "      <td>108.277199</td>\n",
              "      <td>108.277199</td>\n",
              "      <td>NaN</td>\n",
              "      <td>NaN</td>\n",
              "      <td>20.0</td>\n",
              "    </tr>\n",
              "    <tr>\n",
              "      <th>3418</th>\n",
              "      <td>66.0</td>\n",
              "      <td>NaN</td>\n",
              "      <td>West Bank and Gaza</td>\n",
              "      <td>84.0</td>\n",
              "      <td>West Bank and Gaza</td>\n",
              "      <td>West Bank and Gaza</td>\n",
              "      <td>1.0</td>\n",
              "      <td>NaN</td>\n",
              "      <td>2020-03-26 23:48:18</td>\n",
              "      <td>2020-03-26 23:48:18</td>\n",
              "      <td>31.952200</td>\n",
              "      <td>31.952200</td>\n",
              "      <td>35.233200</td>\n",
              "      <td>35.233200</td>\n",
              "      <td>NaN</td>\n",
              "      <td>NaN</td>\n",
              "      <td>17.0</td>\n",
              "    </tr>\n",
              "    <tr>\n",
              "      <th>3419</th>\n",
              "      <td>16.0</td>\n",
              "      <td>NaN</td>\n",
              "      <td>Zambia</td>\n",
              "      <td>16.0</td>\n",
              "      <td>Zambia</td>\n",
              "      <td>Zambia</td>\n",
              "      <td>0.0</td>\n",
              "      <td>NaN</td>\n",
              "      <td>2020-03-26 23:48:18</td>\n",
              "      <td>2020-03-26 23:48:18</td>\n",
              "      <td>-13.133897</td>\n",
              "      <td>-13.133897</td>\n",
              "      <td>27.849332</td>\n",
              "      <td>27.849332</td>\n",
              "      <td>NaN</td>\n",
              "      <td>NaN</td>\n",
              "      <td>0.0</td>\n",
              "    </tr>\n",
              "    <tr>\n",
              "      <th>3420</th>\n",
              "      <td>2.0</td>\n",
              "      <td>NaN</td>\n",
              "      <td>Zimbabwe</td>\n",
              "      <td>3.0</td>\n",
              "      <td>Zimbabwe</td>\n",
              "      <td>Zimbabwe</td>\n",
              "      <td>1.0</td>\n",
              "      <td>NaN</td>\n",
              "      <td>2020-03-26 23:48:18</td>\n",
              "      <td>2020-03-26 23:48:18</td>\n",
              "      <td>-19.015438</td>\n",
              "      <td>-19.015438</td>\n",
              "      <td>29.154857</td>\n",
              "      <td>29.154857</td>\n",
              "      <td>NaN</td>\n",
              "      <td>NaN</td>\n",
              "      <td>0.0</td>\n",
              "    </tr>\n",
              "  </tbody>\n",
              "</table>\n",
              "<p>24435 rows × 17 columns</p>\n",
              "</div>"
            ],
            "text/plain": [
              "      Active Admin2  ... Province_State  Recovered\n",
              "0        NaN    NaN  ...            NaN        NaN\n",
              "1        NaN    NaN  ...            NaN        NaN\n",
              "2        NaN    NaN  ...            NaN        NaN\n",
              "3        NaN    NaN  ...            NaN        NaN\n",
              "4        NaN    NaN  ...            NaN        NaN\n",
              "...      ...    ...  ...            ...        ...\n",
              "3416    92.0    NaN  ...            NaN       15.0\n",
              "3417   133.0    NaN  ...            NaN       20.0\n",
              "3418    66.0    NaN  ...            NaN       17.0\n",
              "3419    16.0    NaN  ...            NaN        0.0\n",
              "3420     2.0    NaN  ...            NaN        0.0\n",
              "\n",
              "[24435 rows x 17 columns]"
            ]
          },
          "metadata": {
            "tags": []
          },
          "execution_count": 33
        }
      ]
    },
    {
      "cell_type": "markdown",
      "metadata": {
        "id": "-ojXEHYzMqxG",
        "colab_type": "text"
      },
      "source": [
        "# **Cleaning the data**"
      ]
    },
    {
      "cell_type": "code",
      "metadata": {
        "id": "otPzPAhoylgZ",
        "colab_type": "code",
        "colab": {}
      },
      "source": [
        "covid[\"Confirmed\"].fillna(covid[\"Confirmed\"].mean(),inplace=True) \n",
        "covid[\"Deaths\"].fillna(covid[\"Deaths\"].mean(),inplace=True)\n",
        "covid[\"Recovered\"].fillna(covid[\"Recovered\"].mean(),inplace=True)\n",
        "covid[\"Province/State\"].fillna(covid[\"Province/State\"].mode()[0],inplace=True)\n",
        "covid[\"Latitude\"].fillna(covid[\"Latitude\"].mean(),inplace=True)\n",
        "covid[\"Longitude\"].fillna(covid[\"Longitude\"].mean(),inplace=True)"
      ],
      "execution_count": 0,
      "outputs": []
    },
    {
      "cell_type": "code",
      "metadata": {
        "id": "Mk-A6E8EFml3",
        "colab_type": "code",
        "colab": {}
      },
      "source": [
        "covid=covid.drop([\"Active\",\"Admin2\",\"Combined_Key\",\"Country_Region\",\"FIPS\",\"Last_Update\",\"Lat\",\"Long_\",\"Province_State\"],axis=1)"
      ],
      "execution_count": 0,
      "outputs": []
    },
    {
      "cell_type": "code",
      "metadata": {
        "id": "sH-xQXkYylc4",
        "colab_type": "code",
        "outputId": "116ec1e0-b96e-4cfb-f7b0-ca4e65ddaf4c",
        "colab": {
          "base_uri": "https://localhost:8080/",
          "height": 243
        }
      },
      "source": [
        "covid.info()"
      ],
      "execution_count": 36,
      "outputs": [
        {
          "output_type": "stream",
          "text": [
            "<class 'pandas.core.frame.DataFrame'>\n",
            "Int64Index: 24435 entries, 0 to 3420\n",
            "Data columns (total 8 columns):\n",
            "Confirmed         24435 non-null float64\n",
            "Country/Region    17090 non-null object\n",
            "Deaths            24435 non-null float64\n",
            "Last Update       17090 non-null object\n",
            "Latitude          24435 non-null float64\n",
            "Longitude         24435 non-null float64\n",
            "Province/State    24435 non-null object\n",
            "Recovered         24435 non-null float64\n",
            "dtypes: float64(5), object(3)\n",
            "memory usage: 1.7+ MB\n"
          ],
          "name": "stdout"
        }
      ]
    },
    {
      "cell_type": "markdown",
      "metadata": {
        "id": "tIh3p9saMzmA",
        "colab_type": "text"
      },
      "source": [
        "# **Forming dataframe contributing each row to each city.**"
      ]
    },
    {
      "cell_type": "code",
      "metadata": {
        "id": "Fwgx1PeAEuRl",
        "colab_type": "code",
        "outputId": "710938f2-8dfc-451b-bc49-98038b8901d6",
        "colab": {
          "base_uri": "https://localhost:8080/",
          "height": 415
        }
      },
      "source": [
        "covid19=covid.iloc[:,[6,4,5,0,2,7]]\n",
        "covid19"
      ],
      "execution_count": 37,
      "outputs": [
        {
          "output_type": "execute_result",
          "data": {
            "text/html": [
              "<div>\n",
              "<style scoped>\n",
              "    .dataframe tbody tr th:only-of-type {\n",
              "        vertical-align: middle;\n",
              "    }\n",
              "\n",
              "    .dataframe tbody tr th {\n",
              "        vertical-align: top;\n",
              "    }\n",
              "\n",
              "    .dataframe thead th {\n",
              "        text-align: right;\n",
              "    }\n",
              "</style>\n",
              "<table border=\"1\" class=\"dataframe\">\n",
              "  <thead>\n",
              "    <tr style=\"text-align: right;\">\n",
              "      <th></th>\n",
              "      <th>Province/State</th>\n",
              "      <th>Latitude</th>\n",
              "      <th>Longitude</th>\n",
              "      <th>Confirmed</th>\n",
              "      <th>Deaths</th>\n",
              "      <th>Recovered</th>\n",
              "    </tr>\n",
              "  </thead>\n",
              "  <tbody>\n",
              "    <tr>\n",
              "      <th>0</th>\n",
              "      <td>Texas</td>\n",
              "      <td>36.968913</td>\n",
              "      <td>-83.206437</td>\n",
              "      <td>1.000000</td>\n",
              "      <td>10.643077</td>\n",
              "      <td>93.535368</td>\n",
              "    </tr>\n",
              "    <tr>\n",
              "      <th>1</th>\n",
              "      <td>Texas</td>\n",
              "      <td>36.968913</td>\n",
              "      <td>-83.206437</td>\n",
              "      <td>14.000000</td>\n",
              "      <td>10.643077</td>\n",
              "      <td>93.535368</td>\n",
              "    </tr>\n",
              "    <tr>\n",
              "      <th>2</th>\n",
              "      <td>Texas</td>\n",
              "      <td>36.968913</td>\n",
              "      <td>-83.206437</td>\n",
              "      <td>6.000000</td>\n",
              "      <td>10.643077</td>\n",
              "      <td>93.535368</td>\n",
              "    </tr>\n",
              "    <tr>\n",
              "      <th>3</th>\n",
              "      <td>Texas</td>\n",
              "      <td>36.968913</td>\n",
              "      <td>-83.206437</td>\n",
              "      <td>1.000000</td>\n",
              "      <td>10.643077</td>\n",
              "      <td>93.535368</td>\n",
              "    </tr>\n",
              "    <tr>\n",
              "      <th>4</th>\n",
              "      <td>Texas</td>\n",
              "      <td>36.968913</td>\n",
              "      <td>-83.206437</td>\n",
              "      <td>278.897403</td>\n",
              "      <td>10.643077</td>\n",
              "      <td>93.535368</td>\n",
              "    </tr>\n",
              "    <tr>\n",
              "      <th>...</th>\n",
              "      <td>...</td>\n",
              "      <td>...</td>\n",
              "      <td>...</td>\n",
              "      <td>...</td>\n",
              "      <td>...</td>\n",
              "      <td>...</td>\n",
              "    </tr>\n",
              "    <tr>\n",
              "      <th>3416</th>\n",
              "      <td>Texas</td>\n",
              "      <td>6.423800</td>\n",
              "      <td>-66.589700</td>\n",
              "      <td>107.000000</td>\n",
              "      <td>0.000000</td>\n",
              "      <td>15.000000</td>\n",
              "    </tr>\n",
              "    <tr>\n",
              "      <th>3417</th>\n",
              "      <td>Texas</td>\n",
              "      <td>14.058324</td>\n",
              "      <td>108.277199</td>\n",
              "      <td>153.000000</td>\n",
              "      <td>0.000000</td>\n",
              "      <td>20.000000</td>\n",
              "    </tr>\n",
              "    <tr>\n",
              "      <th>3418</th>\n",
              "      <td>Texas</td>\n",
              "      <td>31.952200</td>\n",
              "      <td>35.233200</td>\n",
              "      <td>84.000000</td>\n",
              "      <td>1.000000</td>\n",
              "      <td>17.000000</td>\n",
              "    </tr>\n",
              "    <tr>\n",
              "      <th>3419</th>\n",
              "      <td>Texas</td>\n",
              "      <td>-13.133897</td>\n",
              "      <td>27.849332</td>\n",
              "      <td>16.000000</td>\n",
              "      <td>0.000000</td>\n",
              "      <td>0.000000</td>\n",
              "    </tr>\n",
              "    <tr>\n",
              "      <th>3420</th>\n",
              "      <td>Texas</td>\n",
              "      <td>-19.015438</td>\n",
              "      <td>29.154857</td>\n",
              "      <td>3.000000</td>\n",
              "      <td>1.000000</td>\n",
              "      <td>0.000000</td>\n",
              "    </tr>\n",
              "  </tbody>\n",
              "</table>\n",
              "<p>24435 rows × 6 columns</p>\n",
              "</div>"
            ],
            "text/plain": [
              "     Province/State   Latitude   Longitude   Confirmed     Deaths  Recovered\n",
              "0             Texas  36.968913  -83.206437    1.000000  10.643077  93.535368\n",
              "1             Texas  36.968913  -83.206437   14.000000  10.643077  93.535368\n",
              "2             Texas  36.968913  -83.206437    6.000000  10.643077  93.535368\n",
              "3             Texas  36.968913  -83.206437    1.000000  10.643077  93.535368\n",
              "4             Texas  36.968913  -83.206437  278.897403  10.643077  93.535368\n",
              "...             ...        ...         ...         ...        ...        ...\n",
              "3416          Texas   6.423800  -66.589700  107.000000   0.000000  15.000000\n",
              "3417          Texas  14.058324  108.277199  153.000000   0.000000  20.000000\n",
              "3418          Texas  31.952200   35.233200   84.000000   1.000000  17.000000\n",
              "3419          Texas -13.133897   27.849332   16.000000   0.000000   0.000000\n",
              "3420          Texas -19.015438   29.154857    3.000000   1.000000   0.000000\n",
              "\n",
              "[24435 rows x 6 columns]"
            ]
          },
          "metadata": {
            "tags": []
          },
          "execution_count": 37
        }
      ]
    },
    {
      "cell_type": "code",
      "metadata": {
        "id": "CwsQrb_JVC0s",
        "colab_type": "code",
        "outputId": "1efe6993-e532-406d-cfd2-8396efcb1452",
        "colab": {
          "base_uri": "https://localhost:8080/",
          "height": 69
        }
      },
      "source": [
        "covid19.columns"
      ],
      "execution_count": 8,
      "outputs": [
        {
          "output_type": "execute_result",
          "data": {
            "text/plain": [
              "Index(['Province/State', 'Latitude', 'Longitude', 'Confirmed', 'Deaths',\n",
              "       'Recovered'],\n",
              "      dtype='object')"
            ]
          },
          "metadata": {
            "tags": []
          },
          "execution_count": 8
        }
      ]
    },
    {
      "cell_type": "code",
      "metadata": {
        "id": "qsvl2Ci8kUe3",
        "colab_type": "code",
        "outputId": "909fb88a-80b5-433b-cfa8-369873825fe4",
        "colab": {
          "base_uri": "https://localhost:8080/",
          "height": 243
        }
      },
      "source": [
        "x=covid19.iloc[:,1:6].values\n",
        "x"
      ],
      "execution_count": 38,
      "outputs": [
        {
          "output_type": "execute_result",
          "data": {
            "text/plain": [
              "array([[ 36.96891341, -83.20643664,   1.        ,  10.64307744,\n",
              "         93.53536824],\n",
              "       [ 36.96891341, -83.20643664,  14.        ,  10.64307744,\n",
              "         93.53536824],\n",
              "       [ 36.96891341, -83.20643664,   6.        ,  10.64307744,\n",
              "         93.53536824],\n",
              "       ...,\n",
              "       [ 31.9522    ,  35.2332    ,  84.        ,   1.        ,\n",
              "         17.        ],\n",
              "       [-13.133897  ,  27.849332  ,  16.        ,   0.        ,\n",
              "          0.        ],\n",
              "       [-19.015438  ,  29.154857  ,   3.        ,   1.        ,\n",
              "          0.        ]])"
            ]
          },
          "metadata": {
            "tags": []
          },
          "execution_count": 38
        }
      ]
    },
    {
      "cell_type": "code",
      "metadata": {
        "id": "g9lmZ3WR7y1s",
        "colab_type": "code",
        "colab": {}
      },
      "source": [
        "y=covid19.iloc[:,3:6].values\n"
      ],
      "execution_count": 0,
      "outputs": []
    },
    {
      "cell_type": "code",
      "metadata": {
        "id": "3SCMFgmr_mRd",
        "colab_type": "code",
        "colab": {
          "base_uri": "https://localhost:8080/",
          "height": 283
        },
        "outputId": "20240118-fa05-4143-91bc-63198127e806"
      },
      "source": [
        "plt.scatter(x[:,0],x[:,1],c=np.arange(1,24436),cmap=\"Accent\")\n",
        "\n",
        "\n"
      ],
      "execution_count": 45,
      "outputs": [
        {
          "output_type": "execute_result",
          "data": {
            "text/plain": [
              "<matplotlib.collections.PathCollection at 0x7fdef4793278>"
            ]
          },
          "metadata": {
            "tags": []
          },
          "execution_count": 45
        },
        {
          "output_type": "display_data",
          "data": {
            "image/png": "[encoded data removed]",
            "text/plain": [
              "<Figure size 432x288 with 1 Axes>"
            ]
          },
          "metadata": {
            "tags": []
          }
        }
      ]
    },
    {
      "cell_type": "code",
      "metadata": {
        "id": "5FdZv5csNosN",
        "colab_type": "code",
        "colab": {
          "base_uri": "https://localhost:8080/",
          "height": 748
        },
        "outputId": "6475da09-16c1-40be-9978-0c1cd0afbf4e"
      },
      "source": [
        "!apt-get install libgeos-3.5.0\n",
        "!apt-get install libgeos-dev\n",
        "!pip install https://github.com/matplotlib/basemap/archive/master.zip\n",
        "!pip install pyproj==1.9.6\n",
        "from mpl_toolkits.basemap import Basemap\n"
      ],
      "execution_count": 12,
      "outputs": [
        {
          "output_type": "stream",
          "text": [
            "Reading package lists... Done\n",
            "Building dependency tree       \n",
            "Reading state information... Done\n",
            "E: Unable to locate package libgeos-3.5.0\n",
            "E: Couldn't find any package by glob 'libgeos-3.5.0'\n",
            "E: Couldn't find any package by regex 'libgeos-3.5.0'\n",
            "Reading package lists... Done\n",
            "Building dependency tree       \n",
            "Reading state information... Done\n",
            "libgeos-dev is already the newest version (3.6.2-1build2).\n",
            "0 upgraded, 0 newly installed, 0 to remove and 25 not upgraded.\n",
            "Collecting https://github.com/matplotlib/basemap/archive/master.zip\n",
            "  Using cached https://github.com/matplotlib/basemap/archive/master.zip\n",
            "Requirement already satisfied (use --upgrade to upgrade): basemap==1.2.1 from https://github.com/matplotlib/basemap/archive/master.zip in /usr/local/lib/python3.6/dist-packages\n",
            "Requirement already satisfied: matplotlib!=3.0.1,>=1.0.0 in /usr/local/lib/python3.6/dist-packages (from basemap==1.2.1) (3.2.1)\n",
            "Requirement already satisfied: numpy>=1.2.1 in /usr/local/lib/python3.6/dist-packages (from basemap==1.2.1) (1.18.2)\n",
            "Requirement already satisfied: pyproj>=1.9.3 in /usr/local/lib/python3.6/dist-packages (from basemap==1.2.1) (2.6.0)\n",
            "Requirement already satisfied: pyshp>=1.2.0 in /usr/local/lib/python3.6/dist-packages (from basemap==1.2.1) (2.1.0)\n",
            "Requirement already satisfied: six in /usr/local/lib/python3.6/dist-packages (from basemap==1.2.1) (1.12.0)\n",
            "Requirement already satisfied: cycler>=0.10 in /usr/local/lib/python3.6/dist-packages (from matplotlib!=3.0.1,>=1.0.0->basemap==1.2.1) (0.10.0)\n",
            "Requirement already satisfied: python-dateutil>=2.1 in /usr/local/lib/python3.6/dist-packages (from matplotlib!=3.0.1,>=1.0.0->basemap==1.2.1) (2.8.1)\n",
            "Requirement already satisfied: kiwisolver>=1.0.1 in /usr/local/lib/python3.6/dist-packages (from matplotlib!=3.0.1,>=1.0.0->basemap==1.2.1) (1.1.0)\n",
            "Requirement already satisfied: pyparsing!=2.0.4,!=2.1.2,!=2.1.6,>=2.0.1 in /usr/local/lib/python3.6/dist-packages (from matplotlib!=3.0.1,>=1.0.0->basemap==1.2.1) (2.4.6)\n",
            "Requirement already satisfied: setuptools in /usr/local/lib/python3.6/dist-packages (from kiwisolver>=1.0.1->matplotlib!=3.0.1,>=1.0.0->basemap==1.2.1) (46.0.0)\n",
            "Building wheels for collected packages: basemap\n",
            "  Building wheel for basemap (setup.py) ... \u001b[?25l\u001b[?25hdone\n",
            "  Created wheel for basemap: filename=basemap-1.2.1-cp36-cp36m-linux_x86_64.whl size=121756024 sha256=6a8fb66d3ab1ee5a696fc9ad173841bbdfdd8a3f1000694b12848ae1bc0d7eaf\n",
            "  Stored in directory: /tmp/pip-ephem-wheel-cache-y_fzrlvz/wheels/98/4a/fc/ce719b75d97e646645c225f3332b1b217536100314922e9572\n",
            "Successfully built basemap\n",
            "Collecting pyproj==1.9.6\n",
            "  Using cached https://files.pythonhosted.org/packages/26/8c/1da0580f334718e04f8bbf74f0515a7fb8185ff96b2560ce080c11aa145b/pyproj-1.9.6.tar.gz\n",
            "Building wheels for collected packages: pyproj\n",
            "  Building wheel for pyproj (setup.py) ... \u001b[?25l\u001b[?25hdone\n",
            "  Created wheel for pyproj: filename=pyproj-1.9.6-cp36-cp36m-linux_x86_64.whl size=3702119 sha256=d98f74c1b7898a3f80aad27d46cdfe2e8a9200d0c07d899e9c05bf0a12060efd\n",
            "  Stored in directory: /root/.cache/pip/wheels/02/cd/b1/a2d6430f74c7a778a43d62f78bec109ca69c732dc9b929142a\n",
            "Successfully built pyproj\n",
            "Installing collected packages: pyproj\n",
            "  Found existing installation: pyproj 2.6.0\n",
            "    Uninstalling pyproj-2.6.0:\n",
            "      Successfully uninstalled pyproj-2.6.0\n",
            "Successfully installed pyproj-1.9.6\n"
          ],
          "name": "stdout"
        }
      ]
    },
    {
      "cell_type": "code",
      "metadata": {
        "id": "GqjnT4fPOZDE",
        "colab_type": "code",
        "colab": {
          "base_uri": "https://localhost:8080/",
          "height": 541
        },
        "outputId": "e6640504-e736-4759-8856-1b3d1a3c95da"
      },
      "source": [
        "fig=plt.figure(figsize=(12,9))\n",
        "m=Basemap(projection=\"mill\",llcrnrlat=-90,urcrnrlat=90,llcrnrlon=-180,urcrnrlon=180,resolution=\"c\")\n",
        "m.drawcoastlines()\n",
        "m.drawparallels(np.arange(-90,90,10))\n",
        "m.drawmeridians(np.arange(-180,180,30))\n",
        "m.scatter(x[:,1],x[:,0],latlon=True,s=50,c=\"red\")\n"
      ],
      "execution_count": 53,
      "outputs": [
        {
          "output_type": "execute_result",
          "data": {
            "text/plain": [
              "<matplotlib.collections.PathCollection at 0x7fdef42502b0>"
            ]
          },
          "metadata": {
            "tags": []
          },
          "execution_count": 53
        },
        {
          "output_type": "display_data",
          "data": {
            "image/png": "[encoded data removed]",
            "text/plain": [
              "<Figure size 864x648 with 1 Axes>"
            ]
          },
          "metadata": {
            "tags": []
          }
        }
      ]
    },
    {
      "cell_type": "markdown",
      "metadata": {
        "id": "umvprrs7NVUy",
        "colab_type": "text"
      },
      "source": [
        "# **Finding optimal value of cluster through elbow method.**"
      ]
    },
    {
      "cell_type": "code",
      "metadata": {
        "id": "SnkULMTmRAa6",
        "colab_type": "code",
        "outputId": "47a106cf-7074-4673-a053-26cf032e5322",
        "colab": {
          "base_uri": "https://localhost:8080/",
          "height": 295
        }
      },
      "source": [
        "sad = []\n",
        "\n",
        "for i in range(2, 21):\n",
        "    kmeans = KMeans(n_clusters = i, init = 'k-means++', max_iter = 300, n_init = 10, random_state = 0)\n",
        "    kmeans.fit(y)\n",
        "    sad.append(kmeans.score(y))\n",
        "plt.plot(range(2,21),sad)\n",
        "plt.title('The elbow method')\n",
        "plt.xlabel('Number of clusters')\n",
        "plt.ylabel('sad')\n",
        "plt.show()\n"
      ],
      "execution_count": 54,
      "outputs": [
        {
          "output_type": "display_data",
          "data": {
            "image/png": "[encoded data removed]",
            "text/plain": [
              "<Figure size 432x288 with 1 Axes>"
            ]
          },
          "metadata": {
            "tags": []
          }
        }
      ]
    },
    {
      "cell_type": "markdown",
      "metadata": {
        "id": "0WlISNH4Nmmy",
        "colab_type": "text"
      },
      "source": [
        "**From the graph we conclude the optimal value of cluster is 5.**"
      ]
    },
    {
      "cell_type": "markdown",
      "metadata": {
        "id": "YKGNs09hNxTi",
        "colab_type": "text"
      },
      "source": [
        "# **Clustering**"
      ]
    },
    {
      "cell_type": "code",
      "metadata": {
        "id": "I_kFA3RuLkWc",
        "colab_type": "code",
        "outputId": "b9c85940-3f66-48ab-afc9-d3f3fa83f055",
        "colab": {
          "base_uri": "https://localhost:8080/",
          "height": 35
        }
      },
      "source": [
        "kmeans = KMeans(n_clusters = 5, init = 'k-means++', max_iter = 300, n_init = 10, random_state = 0)\n",
        "y_kmeans = kmeans.fit_predict(y)\n",
        "y_kmeans"
      ],
      "execution_count": 55,
      "outputs": [
        {
          "output_type": "execute_result",
          "data": {
            "text/plain": [
              "array([0, 0, 0, ..., 0, 0, 0], dtype=int32)"
            ]
          },
          "metadata": {
            "tags": []
          },
          "execution_count": 55
        }
      ]
    },
    {
      "cell_type": "markdown",
      "metadata": {
        "id": "WlvZliQLgIja",
        "colab_type": "text"
      },
      "source": [
        "# **Bubble plot of five clusters in which area of each dot represents the confirmed cases**"
      ]
    },
    {
      "cell_type": "code",
      "metadata": {
        "id": "ZhVmjza1eY0a",
        "colab_type": "code",
        "outputId": "9260a6be-a074-4c99-b605-9f99927b14f3",
        "colab": {
          "base_uri": "https://localhost:8080/",
          "height": 283
        }
      },
      "source": [
        "plt.scatter(y[:, 1], y[:, 2],s=y[:,0],c=y_kmeans,cmap=\"viridis\")\n",
        "cen=kmeans.cluster_centers_\n",
        "plt.scatter(cen[:,1],cen[:,2],c=\"black\",s=40,alpha=0.8)"
      ],
      "execution_count": 62,
      "outputs": [
        {
          "output_type": "execute_result",
          "data": {
            "text/plain": [
              "<matplotlib.collections.PathCollection at 0x7fdef40182e8>"
            ]
          },
          "metadata": {
            "tags": []
          },
          "execution_count": 62
        },
        {
          "output_type": "display_data",
          "data": {
            "image/png": "[encoded data removed]",
            "text/plain": [
              "<Figure size 432x288 with 1 Axes>"
            ]
          },
          "metadata": {
            "tags": []
          }
        }
      ]
    },
    {
      "cell_type": "markdown",
      "metadata": {
        "id": "tvxv3ZN3f39H",
        "colab_type": "text"
      },
      "source": [
        "**Finding the centers of five clusters.**"
      ]
    },
    {
      "cell_type": "code",
      "metadata": {
        "id": "_UHWtBN3fhSn",
        "colab_type": "code",
        "outputId": "f65fcfda-96e7-429a-e9af-8e8be496e017",
        "colab": {
          "base_uri": "https://localhost:8080/",
          "height": 104
        }
      },
      "source": [
        "cen=kmeans.cluster_centers_\n",
        "cen"
      ],
      "execution_count": 60,
      "outputs": [
        {
          "output_type": "execute_result",
          "data": {
            "text/plain": [
              "array([[6.65292392e+01, 9.82416377e-01, 2.10569783e+01],\n",
              "       [6.15861538e+04, 3.36388462e+03, 1.16538077e+04],\n",
              "       [2.73353947e+04, 1.27202632e+03, 3.55421053e+03],\n",
              "       [6.76567600e+04, 3.03312000e+03, 5.01468000e+04],\n",
              "       [9.06375000e+03, 2.56395833e+02, 8.66416667e+02]])"
            ]
          },
          "metadata": {
            "tags": []
          },
          "execution_count": 60
        }
      ]
    }
  ]
}