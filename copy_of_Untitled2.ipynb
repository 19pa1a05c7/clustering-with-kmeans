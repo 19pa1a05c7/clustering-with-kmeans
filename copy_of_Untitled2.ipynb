{
  "nbformat": 4,
  "nbformat_minor": 0,
  "metadata": {
    "colab": {
      "name": "Copy of Untitled2.ipynb",
      "provenance": [],
      "authorship_tag": "ABX9TyParL4jnziu0mPFehLduOq4",
      "include_colab_link": true
    },
    "kernelspec": {
      "name": "python3",
      "display_name": "Python 3"
    }
  },
  "cells": [
    {
      "cell_type": "markdown",
      "metadata": {
        "id": "view-in-github",
        "colab_type": "text"
      },
      "source": [
        "<a href=\"https://colab.research.google.com/github/19pa1a05c7/clustering-with-kmeans/blob/master/copy_of_Untitled2.ipynb\" target=\"_parent\"><img src=\"https://colab.research.google.com/assets/colab-badge.svg\" alt=\"Open In Colab\"/></a>"
      ]
    },
    {
      "cell_type": "code",
      "metadata": {
        "id": "JOPcMAL8BBXp",
        "colab_type": "code",
        "colab": {}
      },
      "source": [
        "import numpy as np\n",
        "import pandas as pd\n",
        "import matplotlib.pyplot as plt\n",
        "from sklearn.cluster import KMeans\n",
        "%matplotlib inline"
      ],
      "execution_count": 0,
      "outputs": []
    },
    {
      "cell_type": "code",
      "metadata": {
        "id": "6NlRJqOgB6Ay",
        "colab_type": "code",
        "outputId": "e073eecb-cd09-4823-9975-d9938d6d3e08",
        "colab": {
          "base_uri": "https://localhost:8080/",
          "height": 626
        }
      },
      "source": [
        "covid=pd.read_csv(\"covid data.csv\")\n",
        "covid\n"
      ],
      "execution_count": 4,
      "outputs": [
        {
          "output_type": "execute_result",
          "data": {
            "text/html": [
              "<div>\n",
              "<style scoped>\n",
              "    .dataframe tbody tr th:only-of-type {\n",
              "        vertical-align: middle;\n",
              "    }\n",
              "\n",
              "    .dataframe tbody tr th {\n",
              "        vertical-align: top;\n",
              "    }\n",
              "\n",
              "    .dataframe thead th {\n",
              "        text-align: right;\n",
              "    }\n",
              "</style>\n",
              "<table border=\"1\" class=\"dataframe\">\n",
              "  <thead>\n",
              "    <tr style=\"text-align: right;\">\n",
              "      <th></th>\n",
              "      <th>FIPS</th>\n",
              "      <th>Admin2</th>\n",
              "      <th>Province_State</th>\n",
              "      <th>Country_Region</th>\n",
              "      <th>Last_Update</th>\n",
              "      <th>Lat</th>\n",
              "      <th>Long_</th>\n",
              "      <th>Confirmed</th>\n",
              "      <th>Deaths</th>\n",
              "      <th>Recovered</th>\n",
              "      <th>Active</th>\n",
              "      <th>Combined_Key</th>\n",
              "    </tr>\n",
              "  </thead>\n",
              "  <tbody>\n",
              "    <tr>\n",
              "      <th>0</th>\n",
              "      <td>45001.0</td>\n",
              "      <td>Abbeville</td>\n",
              "      <td>South Carolina</td>\n",
              "      <td>US</td>\n",
              "      <td>2020-03-27 22:14:55</td>\n",
              "      <td>34.223334</td>\n",
              "      <td>-82.461707</td>\n",
              "      <td>4</td>\n",
              "      <td>0</td>\n",
              "      <td>0</td>\n",
              "      <td>0</td>\n",
              "      <td>Abbeville, South Carolina, US</td>\n",
              "    </tr>\n",
              "    <tr>\n",
              "      <th>1</th>\n",
              "      <td>22001.0</td>\n",
              "      <td>Acadia</td>\n",
              "      <td>Louisiana</td>\n",
              "      <td>US</td>\n",
              "      <td>2020-03-27 22:14:55</td>\n",
              "      <td>30.295065</td>\n",
              "      <td>-92.414197</td>\n",
              "      <td>8</td>\n",
              "      <td>1</td>\n",
              "      <td>0</td>\n",
              "      <td>0</td>\n",
              "      <td>Acadia, Louisiana, US</td>\n",
              "    </tr>\n",
              "    <tr>\n",
              "      <th>2</th>\n",
              "      <td>51001.0</td>\n",
              "      <td>Accomack</td>\n",
              "      <td>Virginia</td>\n",
              "      <td>US</td>\n",
              "      <td>2020-03-27 22:14:55</td>\n",
              "      <td>37.767072</td>\n",
              "      <td>-75.632346</td>\n",
              "      <td>2</td>\n",
              "      <td>0</td>\n",
              "      <td>0</td>\n",
              "      <td>0</td>\n",
              "      <td>Accomack, Virginia, US</td>\n",
              "    </tr>\n",
              "    <tr>\n",
              "      <th>3</th>\n",
              "      <td>16001.0</td>\n",
              "      <td>Ada</td>\n",
              "      <td>Idaho</td>\n",
              "      <td>US</td>\n",
              "      <td>2020-03-27 22:14:55</td>\n",
              "      <td>43.452658</td>\n",
              "      <td>-116.241552</td>\n",
              "      <td>54</td>\n",
              "      <td>0</td>\n",
              "      <td>0</td>\n",
              "      <td>0</td>\n",
              "      <td>Ada, Idaho, US</td>\n",
              "    </tr>\n",
              "    <tr>\n",
              "      <th>4</th>\n",
              "      <td>19001.0</td>\n",
              "      <td>Adair</td>\n",
              "      <td>Iowa</td>\n",
              "      <td>US</td>\n",
              "      <td>2020-03-27 22:14:55</td>\n",
              "      <td>41.330756</td>\n",
              "      <td>-94.471059</td>\n",
              "      <td>1</td>\n",
              "      <td>0</td>\n",
              "      <td>0</td>\n",
              "      <td>0</td>\n",
              "      <td>Adair, Iowa, US</td>\n",
              "    </tr>\n",
              "    <tr>\n",
              "      <th>...</th>\n",
              "      <td>...</td>\n",
              "      <td>...</td>\n",
              "      <td>...</td>\n",
              "      <td>...</td>\n",
              "      <td>...</td>\n",
              "      <td>...</td>\n",
              "      <td>...</td>\n",
              "      <td>...</td>\n",
              "      <td>...</td>\n",
              "      <td>...</td>\n",
              "      <td>...</td>\n",
              "      <td>...</td>\n",
              "    </tr>\n",
              "    <tr>\n",
              "      <th>3424</th>\n",
              "      <td>NaN</td>\n",
              "      <td>NaN</td>\n",
              "      <td>NaN</td>\n",
              "      <td>Venezuela</td>\n",
              "      <td>2020-03-27 23:23:03</td>\n",
              "      <td>6.423800</td>\n",
              "      <td>-66.589700</td>\n",
              "      <td>107</td>\n",
              "      <td>1</td>\n",
              "      <td>31</td>\n",
              "      <td>75</td>\n",
              "      <td>Venezuela</td>\n",
              "    </tr>\n",
              "    <tr>\n",
              "      <th>3425</th>\n",
              "      <td>NaN</td>\n",
              "      <td>NaN</td>\n",
              "      <td>NaN</td>\n",
              "      <td>Vietnam</td>\n",
              "      <td>2020-03-27 23:23:03</td>\n",
              "      <td>14.058324</td>\n",
              "      <td>108.277199</td>\n",
              "      <td>163</td>\n",
              "      <td>0</td>\n",
              "      <td>20</td>\n",
              "      <td>143</td>\n",
              "      <td>Vietnam</td>\n",
              "    </tr>\n",
              "    <tr>\n",
              "      <th>3426</th>\n",
              "      <td>NaN</td>\n",
              "      <td>NaN</td>\n",
              "      <td>NaN</td>\n",
              "      <td>West Bank and Gaza</td>\n",
              "      <td>2020-03-27 23:23:03</td>\n",
              "      <td>31.952200</td>\n",
              "      <td>35.233200</td>\n",
              "      <td>91</td>\n",
              "      <td>1</td>\n",
              "      <td>17</td>\n",
              "      <td>73</td>\n",
              "      <td>West Bank and Gaza</td>\n",
              "    </tr>\n",
              "    <tr>\n",
              "      <th>3427</th>\n",
              "      <td>NaN</td>\n",
              "      <td>NaN</td>\n",
              "      <td>NaN</td>\n",
              "      <td>Zambia</td>\n",
              "      <td>2020-03-27 23:23:03</td>\n",
              "      <td>-13.133897</td>\n",
              "      <td>27.849332</td>\n",
              "      <td>22</td>\n",
              "      <td>0</td>\n",
              "      <td>0</td>\n",
              "      <td>22</td>\n",
              "      <td>Zambia</td>\n",
              "    </tr>\n",
              "    <tr>\n",
              "      <th>3428</th>\n",
              "      <td>NaN</td>\n",
              "      <td>NaN</td>\n",
              "      <td>NaN</td>\n",
              "      <td>Zimbabwe</td>\n",
              "      <td>2020-03-27 23:23:03</td>\n",
              "      <td>-19.015438</td>\n",
              "      <td>29.154857</td>\n",
              "      <td>5</td>\n",
              "      <td>1</td>\n",
              "      <td>0</td>\n",
              "      <td>4</td>\n",
              "      <td>Zimbabwe</td>\n",
              "    </tr>\n",
              "  </tbody>\n",
              "</table>\n",
              "<p>3429 rows × 12 columns</p>\n",
              "</div>"
            ],
            "text/plain": [
              "         FIPS     Admin2  ... Active                   Combined_Key\n",
              "0     45001.0  Abbeville  ...      0  Abbeville, South Carolina, US\n",
              "1     22001.0     Acadia  ...      0          Acadia, Louisiana, US\n",
              "2     51001.0   Accomack  ...      0         Accomack, Virginia, US\n",
              "3     16001.0        Ada  ...      0                 Ada, Idaho, US\n",
              "4     19001.0      Adair  ...      0                Adair, Iowa, US\n",
              "...       ...        ...  ...    ...                            ...\n",
              "3424      NaN        NaN  ...     75                      Venezuela\n",
              "3425      NaN        NaN  ...    143                        Vietnam\n",
              "3426      NaN        NaN  ...     73             West Bank and Gaza\n",
              "3427      NaN        NaN  ...     22                         Zambia\n",
              "3428      NaN        NaN  ...      4                       Zimbabwe\n",
              "\n",
              "[3429 rows x 12 columns]"
            ]
          },
          "metadata": {
            "tags": []
          },
          "execution_count": 4
        }
      ]
    },
    {
      "cell_type": "code",
      "metadata": {
        "id": "a65ynt6UC7k2",
        "colab_type": "code",
        "outputId": "919ca4ec-e501-4488-8861-e18eb7066765",
        "colab": {
          "base_uri": "https://localhost:8080/",
          "height": 243
        }
      },
      "source": [
        "covid.dtypes"
      ],
      "execution_count": 5,
      "outputs": [
        {
          "output_type": "execute_result",
          "data": {
            "text/plain": [
              "FIPS              float64\n",
              "Admin2             object\n",
              "Province_State     object\n",
              "Country_Region     object\n",
              "Last_Update        object\n",
              "Lat               float64\n",
              "Long_             float64\n",
              "Confirmed           int64\n",
              "Deaths              int64\n",
              "Recovered           int64\n",
              "Active              int64\n",
              "Combined_Key       object\n",
              "dtype: object"
            ]
          },
          "metadata": {
            "tags": []
          },
          "execution_count": 5
        }
      ]
    },
    {
      "cell_type": "code",
      "metadata": {
        "id": "8hndGA2AJ0VS",
        "colab_type": "code",
        "outputId": "f311396d-bc6c-4e86-dd90-7a0728807318",
        "colab": {
          "base_uri": "https://localhost:8080/",
          "height": 312
        }
      },
      "source": [
        "covid.info()"
      ],
      "execution_count": 6,
      "outputs": [
        {
          "output_type": "stream",
          "text": [
            "<class 'pandas.core.frame.DataFrame'>\n",
            "RangeIndex: 3429 entries, 0 to 3428\n",
            "Data columns (total 12 columns):\n",
            "FIPS              3149 non-null float64\n",
            "Admin2            3173 non-null object\n",
            "Province_State    3257 non-null object\n",
            "Country_Region    3429 non-null object\n",
            "Last_Update       3429 non-null object\n",
            "Lat               3429 non-null float64\n",
            "Long_             3429 non-null float64\n",
            "Confirmed         3429 non-null int64\n",
            "Deaths            3429 non-null int64\n",
            "Recovered         3429 non-null int64\n",
            "Active            3429 non-null int64\n",
            "Combined_Key      3429 non-null object\n",
            "dtypes: float64(3), int64(4), object(5)\n",
            "memory usage: 321.6+ KB\n"
          ],
          "name": "stdout"
        }
      ]
    },
    {
      "cell_type": "markdown",
      "metadata": {
        "id": "AJoCH2eIJ4qS",
        "colab_type": "text"
      },
      "source": [
        "Columns like \"FIPS\",\"Admin2\" and \"Province_state\" have NaN values."
      ]
    },
    {
      "cell_type": "code",
      "metadata": {
        "id": "EMIDqM94GrF7",
        "colab_type": "code",
        "outputId": "b4e21fd8-9c6a-4795-eb90-cb3790ab37f5",
        "colab": {
          "base_uri": "https://localhost:8080/",
          "height": 294
        }
      },
      "source": [
        "covid.describe()"
      ],
      "execution_count": 7,
      "outputs": [
        {
          "output_type": "execute_result",
          "data": {
            "text/html": [
              "<div>\n",
              "<style scoped>\n",
              "    .dataframe tbody tr th:only-of-type {\n",
              "        vertical-align: middle;\n",
              "    }\n",
              "\n",
              "    .dataframe tbody tr th {\n",
              "        vertical-align: top;\n",
              "    }\n",
              "\n",
              "    .dataframe thead th {\n",
              "        text-align: right;\n",
              "    }\n",
              "</style>\n",
              "<table border=\"1\" class=\"dataframe\">\n",
              "  <thead>\n",
              "    <tr style=\"text-align: right;\">\n",
              "      <th></th>\n",
              "      <th>FIPS</th>\n",
              "      <th>Lat</th>\n",
              "      <th>Long_</th>\n",
              "      <th>Confirmed</th>\n",
              "      <th>Deaths</th>\n",
              "      <th>Recovered</th>\n",
              "      <th>Active</th>\n",
              "    </tr>\n",
              "  </thead>\n",
              "  <tbody>\n",
              "    <tr>\n",
              "      <th>count</th>\n",
              "      <td>3149.000000</td>\n",
              "      <td>3429.000000</td>\n",
              "      <td>3429.000000</td>\n",
              "      <td>3429.000000</td>\n",
              "      <td>3429.000000</td>\n",
              "      <td>3429.000000</td>\n",
              "      <td>3429.000000</td>\n",
              "    </tr>\n",
              "    <tr>\n",
              "      <th>mean</th>\n",
              "      <td>30473.904732</td>\n",
              "      <td>36.883013</td>\n",
              "      <td>-82.892414</td>\n",
              "      <td>173.021581</td>\n",
              "      <td>7.931759</td>\n",
              "      <td>38.178769</td>\n",
              "      <td>96.704287</td>\n",
              "    </tr>\n",
              "    <tr>\n",
              "      <th>std</th>\n",
              "      <td>15293.508578</td>\n",
              "      <td>10.052155</td>\n",
              "      <td>38.974265</td>\n",
              "      <td>2568.134483</td>\n",
              "      <td>195.268929</td>\n",
              "      <td>1113.405936</td>\n",
              "      <td>1754.866647</td>\n",
              "    </tr>\n",
              "    <tr>\n",
              "      <th>min</th>\n",
              "      <td>1001.000000</td>\n",
              "      <td>-42.882100</td>\n",
              "      <td>-170.132000</td>\n",
              "      <td>0.000000</td>\n",
              "      <td>0.000000</td>\n",
              "      <td>0.000000</td>\n",
              "      <td>-6.000000</td>\n",
              "    </tr>\n",
              "    <tr>\n",
              "      <th>25%</th>\n",
              "      <td>18181.000000</td>\n",
              "      <td>33.964725</td>\n",
              "      <td>-97.647699</td>\n",
              "      <td>0.000000</td>\n",
              "      <td>0.000000</td>\n",
              "      <td>0.000000</td>\n",
              "      <td>0.000000</td>\n",
              "    </tr>\n",
              "    <tr>\n",
              "      <th>50%</th>\n",
              "      <td>29183.000000</td>\n",
              "      <td>38.078093</td>\n",
              "      <td>-89.115475</td>\n",
              "      <td>1.000000</td>\n",
              "      <td>0.000000</td>\n",
              "      <td>0.000000</td>\n",
              "      <td>0.000000</td>\n",
              "    </tr>\n",
              "    <tr>\n",
              "      <th>75%</th>\n",
              "      <td>45089.000000</td>\n",
              "      <td>41.742283</td>\n",
              "      <td>-81.802975</td>\n",
              "      <td>8.000000</td>\n",
              "      <td>0.000000</td>\n",
              "      <td>0.000000</td>\n",
              "      <td>0.000000</td>\n",
              "    </tr>\n",
              "    <tr>\n",
              "      <th>max</th>\n",
              "      <td>99999.000000</td>\n",
              "      <td>71.706900</td>\n",
              "      <td>178.065000</td>\n",
              "      <td>86498.000000</td>\n",
              "      <td>9134.000000</td>\n",
              "      <td>61732.000000</td>\n",
              "      <td>66414.000000</td>\n",
              "    </tr>\n",
              "  </tbody>\n",
              "</table>\n",
              "</div>"
            ],
            "text/plain": [
              "               FIPS          Lat  ...     Recovered        Active\n",
              "count   3149.000000  3429.000000  ...   3429.000000   3429.000000\n",
              "mean   30473.904732    36.883013  ...     38.178769     96.704287\n",
              "std    15293.508578    10.052155  ...   1113.405936   1754.866647\n",
              "min     1001.000000   -42.882100  ...      0.000000     -6.000000\n",
              "25%    18181.000000    33.964725  ...      0.000000      0.000000\n",
              "50%    29183.000000    38.078093  ...      0.000000      0.000000\n",
              "75%    45089.000000    41.742283  ...      0.000000      0.000000\n",
              "max    99999.000000    71.706900  ...  61732.000000  66414.000000\n",
              "\n",
              "[8 rows x 7 columns]"
            ]
          },
          "metadata": {
            "tags": []
          },
          "execution_count": 7
        }
      ]
    },
    {
      "cell_type": "markdown",
      "metadata": {
        "id": "wkRa8F2iQcKX",
        "colab_type": "text"
      },
      "source": [
        "# Dataframe cosisting each row is given for each place based on longitude coordinate"
      ]
    },
    {
      "cell_type": "code",
      "metadata": {
        "id": "jkmwLNPdILja",
        "colab_type": "code",
        "outputId": "9c9dfe11-332f-4397-cf13-b198328febe4",
        "colab": {
          "base_uri": "https://localhost:8080/",
          "height": 415
        }
      },
      "source": [
        "covid19=covid.iloc[:,6:10]\n",
        "covid19"
      ],
      "execution_count": 8,
      "outputs": [
        {
          "output_type": "execute_result",
          "data": {
            "text/html": [
              "<div>\n",
              "<style scoped>\n",
              "    .dataframe tbody tr th:only-of-type {\n",
              "        vertical-align: middle;\n",
              "    }\n",
              "\n",
              "    .dataframe tbody tr th {\n",
              "        vertical-align: top;\n",
              "    }\n",
              "\n",
              "    .dataframe thead th {\n",
              "        text-align: right;\n",
              "    }\n",
              "</style>\n",
              "<table border=\"1\" class=\"dataframe\">\n",
              "  <thead>\n",
              "    <tr style=\"text-align: right;\">\n",
              "      <th></th>\n",
              "      <th>Long_</th>\n",
              "      <th>Confirmed</th>\n",
              "      <th>Deaths</th>\n",
              "      <th>Recovered</th>\n",
              "    </tr>\n",
              "  </thead>\n",
              "  <tbody>\n",
              "    <tr>\n",
              "      <th>0</th>\n",
              "      <td>-82.461707</td>\n",
              "      <td>4</td>\n",
              "      <td>0</td>\n",
              "      <td>0</td>\n",
              "    </tr>\n",
              "    <tr>\n",
              "      <th>1</th>\n",
              "      <td>-92.414197</td>\n",
              "      <td>8</td>\n",
              "      <td>1</td>\n",
              "      <td>0</td>\n",
              "    </tr>\n",
              "    <tr>\n",
              "      <th>2</th>\n",
              "      <td>-75.632346</td>\n",
              "      <td>2</td>\n",
              "      <td>0</td>\n",
              "      <td>0</td>\n",
              "    </tr>\n",
              "    <tr>\n",
              "      <th>3</th>\n",
              "      <td>-116.241552</td>\n",
              "      <td>54</td>\n",
              "      <td>0</td>\n",
              "      <td>0</td>\n",
              "    </tr>\n",
              "    <tr>\n",
              "      <th>4</th>\n",
              "      <td>-94.471059</td>\n",
              "      <td>1</td>\n",
              "      <td>0</td>\n",
              "      <td>0</td>\n",
              "    </tr>\n",
              "    <tr>\n",
              "      <th>...</th>\n",
              "      <td>...</td>\n",
              "      <td>...</td>\n",
              "      <td>...</td>\n",
              "      <td>...</td>\n",
              "    </tr>\n",
              "    <tr>\n",
              "      <th>3424</th>\n",
              "      <td>-66.589700</td>\n",
              "      <td>107</td>\n",
              "      <td>1</td>\n",
              "      <td>31</td>\n",
              "    </tr>\n",
              "    <tr>\n",
              "      <th>3425</th>\n",
              "      <td>108.277199</td>\n",
              "      <td>163</td>\n",
              "      <td>0</td>\n",
              "      <td>20</td>\n",
              "    </tr>\n",
              "    <tr>\n",
              "      <th>3426</th>\n",
              "      <td>35.233200</td>\n",
              "      <td>91</td>\n",
              "      <td>1</td>\n",
              "      <td>17</td>\n",
              "    </tr>\n",
              "    <tr>\n",
              "      <th>3427</th>\n",
              "      <td>27.849332</td>\n",
              "      <td>22</td>\n",
              "      <td>0</td>\n",
              "      <td>0</td>\n",
              "    </tr>\n",
              "    <tr>\n",
              "      <th>3428</th>\n",
              "      <td>29.154857</td>\n",
              "      <td>5</td>\n",
              "      <td>1</td>\n",
              "      <td>0</td>\n",
              "    </tr>\n",
              "  </tbody>\n",
              "</table>\n",
              "<p>3429 rows × 4 columns</p>\n",
              "</div>"
            ],
            "text/plain": [
              "           Long_  Confirmed  Deaths  Recovered\n",
              "0     -82.461707          4       0          0\n",
              "1     -92.414197          8       1          0\n",
              "2     -75.632346          2       0          0\n",
              "3    -116.241552         54       0          0\n",
              "4     -94.471059          1       0          0\n",
              "...          ...        ...     ...        ...\n",
              "3424  -66.589700        107       1         31\n",
              "3425  108.277199        163       0         20\n",
              "3426   35.233200         91       1         17\n",
              "3427   27.849332         22       0          0\n",
              "3428   29.154857          5       1          0\n",
              "\n",
              "[3429 rows x 4 columns]"
            ]
          },
          "metadata": {
            "tags": []
          },
          "execution_count": 8
        }
      ]
    },
    {
      "cell_type": "code",
      "metadata": {
        "id": "CwsQrb_JVC0s",
        "colab_type": "code",
        "outputId": "a6aec392-ba0d-4033-99db-3d1732881d80",
        "colab": {
          "base_uri": "https://localhost:8080/",
          "height": 35
        }
      },
      "source": [
        "covid19.columns"
      ],
      "execution_count": 9,
      "outputs": [
        {
          "output_type": "execute_result",
          "data": {
            "text/plain": [
              "Index(['Long_', 'Confirmed', 'Deaths', 'Recovered'], dtype='object')"
            ]
          },
          "metadata": {
            "tags": []
          },
          "execution_count": 9
        }
      ]
    },
    {
      "cell_type": "code",
      "metadata": {
        "id": "qsvl2Ci8kUe3",
        "colab_type": "code",
        "outputId": "7e5611f4-4c2e-48c6-b70a-a91f6baee0e7",
        "colab": {
          "base_uri": "https://localhost:8080/",
          "height": 139
        }
      },
      "source": [
        "x=covid19.iloc[:,1:4].values\n",
        "x"
      ],
      "execution_count": 10,
      "outputs": [
        {
          "output_type": "execute_result",
          "data": {
            "text/plain": [
              "array([[ 4,  0,  0],\n",
              "       [ 8,  1,  0],\n",
              "       [ 2,  0,  0],\n",
              "       ...,\n",
              "       [91,  1, 17],\n",
              "       [22,  0,  0],\n",
              "       [ 5,  1,  0]])"
            ]
          },
          "metadata": {
            "tags": []
          },
          "execution_count": 10
        }
      ]
    },
    {
      "cell_type": "code",
      "metadata": {
        "id": "6cj8G2MSi61s",
        "colab_type": "code",
        "colab": {
          "base_uri": "https://localhost:8080/",
          "height": 283
        },
        "outputId": "121c5e5c-9729-41e7-bab9-a470d9a88b99"
      },
      "source": [
        "plt.scatter(x[:,1],x[:,2],s=x[:,0])"
      ],
      "execution_count": 11,
      "outputs": [
        {
          "output_type": "execute_result",
          "data": {
            "text/plain": [
              "<matplotlib.collections.PathCollection at 0x7f12171c0940>"
            ]
          },
          "metadata": {
            "tags": []
          },
          "execution_count": 11
        },
        {
          "output_type": "display_data",
          "data": {
            "image/png": "[encoded data removed]",
            "text/plain": [
              "<Figure size 432x288 with 1 Axes>"
            ]
          },
          "metadata": {
            "tags": []
          }
        }
      ]
    },
    {
      "cell_type": "code",
      "metadata": {
        "id": "SnkULMTmRAa6",
        "colab_type": "code",
        "outputId": "c7cac2f2-422c-4d17-edb8-4a2763158d39",
        "colab": {
          "base_uri": "https://localhost:8080/",
          "height": 295
        }
      },
      "source": [
        "sad = []\n",
        "\n",
        "for i in range(2, 21):\n",
        "    kmeans = KMeans(n_clusters = i, init = 'k-means++', max_iter = 300, n_init = 10, random_state = 0)\n",
        "    kmeans.fit(x)\n",
        "    sad.append(kmeans.score(x))\n",
        "plt.plot(range(2,21),sad)\n",
        "plt.title('The elbow method')\n",
        "plt.xlabel('Number of clusters')\n",
        "plt.ylabel('sad')\n",
        "plt.show()\n"
      ],
      "execution_count": 13,
      "outputs": [
        {
          "output_type": "display_data",
          "data": {
            "image/png": "[encoded data removed]",
            "text/plain": [
              "<Figure size 432x288 with 1 Axes>"
            ]
          },
          "metadata": {
            "tags": []
          }
        }
      ]
    },
    {
      "cell_type": "code",
      "metadata": {
        "id": "I_kFA3RuLkWc",
        "colab_type": "code",
        "outputId": "c54216a5-a716-40e5-f3f7-ad85786bc8f7",
        "colab": {
          "base_uri": "https://localhost:8080/",
          "height": 35
        }
      },
      "source": [
        "kmeans = KMeans(n_clusters = 6, init = 'k-means++', max_iter = 300, n_init = 10, random_state = 0)\n",
        "y_kmeans = kmeans.fit_predict(x)\n",
        "y_kmeans"
      ],
      "execution_count": 14,
      "outputs": [
        {
          "output_type": "execute_result",
          "data": {
            "text/plain": [
              "array([0, 0, 0, ..., 0, 0, 0], dtype=int32)"
            ]
          },
          "metadata": {
            "tags": []
          },
          "execution_count": 14
        }
      ]
    },
    {
      "cell_type": "code",
      "metadata": {
        "id": "ZhVmjza1eY0a",
        "colab_type": "code",
        "outputId": "b1831bc5-647a-4f01-92f6-eccb3a38469a",
        "colab": {
          "base_uri": "https://localhost:8080/",
          "height": 283
        }
      },
      "source": [
        "plt.scatter(x[:, 1], x[:, 2], c=y_kmeans, s=x[:,0],cmap=\"vir)\n",
        "cen=kmeans.cluster_centers_\n",
        "plt.scatter(cen[:,1],cen[:,2],c=\"black\",s=40,alpha=0.8)"
      ],
      "execution_count": 16,
      "outputs": [
        {
          "output_type": "execute_result",
          "data": {
            "text/plain": [
              "<matplotlib.collections.PathCollection at 0x7f12142617b8>"
            ]
          },
          "metadata": {
            "tags": []
          },
          "execution_count": 16
        },
        {
          "output_type": "display_data",
          "data": {
            "image/png": "[encoded data removed]",
            "text/plain": [
              "<Figure size 432x288 with 1 Axes>"
            ]
          },
          "metadata": {
            "tags": []
          }
        }
      ]
    },
    {
      "cell_type": "code",
      "metadata": {
        "id": "_UHWtBN3fhSn",
        "colab_type": "code",
        "outputId": "260a994c-3784-402d-cde5-b5ebd699258d",
        "colab": {
          "base_uri": "https://localhost:8080/",
          "height": 121
        }
      },
      "source": [
        "cen=kmeans.cluster_centers_\n",
        "cen"
      ],
      "execution_count": 0,
      "outputs": [
        {
          "output_type": "execute_result",
          "data": {
            "text/plain": [
              "array([[4.50172868e+01, 7.43334310e-01, 5.29270437e+00],\n",
              "       [5.82950000e+04, 2.74000000e+03, 8.00750000e+03],\n",
              "       [6.78010000e+04, 3.17400000e+03, 6.17320000e+04],\n",
              "       [3.02896667e+04, 1.57966667e+03, 5.61100000e+03],\n",
              "       [8.64980000e+04, 9.13400000e+03, 1.09500000e+04],\n",
              "       [8.65433333e+03, 2.37111111e+02, 8.13444444e+02]])"
            ]
          },
          "metadata": {
            "tags": []
          },
          "execution_count": 121
        }
      ]
    },
    {
      "cell_type": "code",
      "metadata": {
        "id": "bgoj8ZwwgMWz",
        "colab_type": "code",
        "colab": {}
      },
      "source": [
        ""
      ],
      "execution_count": 0,
      "outputs": []
    }
  ]
}