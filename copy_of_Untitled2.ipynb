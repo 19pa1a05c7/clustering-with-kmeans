{
  "nbformat": 4,
  "nbformat_minor": 0,
  "metadata": {
    "colab": {
      "name": "Copy of Untitled2.ipynb",
      "provenance": [],
      "authorship_tag": "ABX9TyNK5H4EJwX/fsKxY+ru5TZD",
      "include_colab_link": true
    },
    "kernelspec": {
      "name": "python3",
      "display_name": "Python 3"
    }
  },
  "cells": [
    {
      "cell_type": "markdown",
      "metadata": {
        "id": "view-in-github",
        "colab_type": "text"
      },
      "source": [
        "<a href=\"https://colab.research.google.com/github/19pa1a05c7/clustering-with-kmeans/blob/master/copy_of_Untitled2.ipynb\" target=\"_parent\"><img src=\"https://colab.research.google.com/assets/colab-badge.svg\" alt=\"Open In Colab\"/></a>"
      ]
    },
    {
      "cell_type": "markdown",
      "metadata": {
        "id": "NthGZpIGLaXr",
        "colab_type": "text"
      },
      "source": [
        "\n",
        "\n",
        "---\n",
        "\n",
        "# TEAM MEMBERS:\n",
        "\n",
        "\n",
        "1.   **sadhik**  -19PA1A05C7\n",
        "2.   **jagadeesh**  -19PA1A05C3\n",
        "1.   **nagaraju**  -19PA1A0591\n",
        "2.   **mohana santhi**  -19PA1A05B1\n",
        "\n",
        "\n"
      ]
    },
    {
      "cell_type": "markdown",
      "metadata": {
        "id": "4gJW1CLGMN2j",
        "colab_type": "text"
      },
      "source": [
        "# **Importing the required modules**"
      ]
    },
    {
      "cell_type": "code",
      "metadata": {
        "id": "JOPcMAL8BBXp",
        "colab_type": "code",
        "colab": {}
      },
      "source": [
        "import numpy as np\n",
        "import pandas as pd\n",
        "import matplotlib.pyplot as plt\n",
        "from sklearn.cluster import KMeans\n",
        "%matplotlib inline"
      ],
      "execution_count": 0,
      "outputs": []
    },
    {
      "cell_type": "markdown",
      "metadata": {
        "id": "mPhZfBT-MXKc",
        "colab_type": "text"
      },
      "source": [
        "# **Forming dataframes of single day and concating them to a single dataframe.**"
      ]
    },
    {
      "cell_type": "code",
      "metadata": {
        "id": "6NlRJqOgB6Ay",
        "colab_type": "code",
        "outputId": "75730d35-7db1-430c-839f-a2ece590f638",
        "colab": {
          "base_uri": "https://localhost:8080/",
          "height": 557
        }
      },
      "source": [
        "d1=pd.read_csv(\"01-22-2020.csv\")\n",
        "d2=pd.read_csv(\"01-23-2020.csv\")\n",
        "d3=pd.read_csv(\"01-24-2020.csv\")\n",
        "d4=pd.read_csv(\"01-25-2020.csv\")\n",
        "d5=pd.read_csv(\"01-26-2020.csv\")\n",
        "d6=pd.read_csv(\"01-27-2020.csv\")\n",
        "d7=pd.read_csv(\"01-28-2020.csv\")\n",
        "d8=pd.read_csv(\"01-29-2020.csv\")\n",
        "d9=pd.read_csv(\"01-30-2020.csv\")\n",
        "d10=pd.read_csv(\"01-31-2020.csv\")\n",
        "d11=pd.read_csv(\"02-01-2020.csv\")\n",
        "d12=pd.read_csv(\"02-02-2020.csv\")\n",
        "d13=pd.read_csv(\"02-03-2020.csv\")\n",
        "d14=pd.read_csv(\"02-04-2020.csv\")\n",
        "d15=pd.read_csv(\"02-05-2020.csv\")\n",
        "d16=pd.read_csv(\"02-06-2020.csv\")\n",
        "d17=pd.read_csv(\"02-07-2020.csv\")\n",
        "d18=pd.read_csv(\"02-08-2020.csv\")\n",
        "d19=pd.read_csv(\"02-09-2020.csv\")\n",
        "d20=pd.read_csv(\"02-10-2020.csv\")\n",
        "d21=pd.read_csv(\"02-11-2020.csv\")\n",
        "d22=pd.read_csv(\"02-12-2020.csv\")\n",
        "d23=pd.read_csv(\"02-13-2020.csv\")\n",
        "d24=pd.read_csv(\"02-14-2020.csv\")\n",
        "d25=pd.read_csv(\"02-15-2020.csv\")\n",
        "d26=pd.read_csv(\"02-16-2020.csv\")\n",
        "d27=pd.read_csv(\"02-17-2020.csv\")\n",
        "d28=pd.read_csv(\"02-18-2020.csv\")\n",
        "d29=pd.read_csv(\"02-19-2020.csv\")\n",
        "d30=pd.read_csv(\"02-20-2020.csv\")\n",
        "d31=pd.read_csv(\"02-21-2020.csv\")\n",
        "d32=pd.read_csv(\"02-22-2020.csv\")\n",
        "d33=pd.read_csv(\"02-23-2020.csv\")\n",
        "d34=pd.read_csv(\"02-24-2020.csv\")\n",
        "d35=pd.read_csv(\"02-25-2020.csv\")\n",
        "d36=pd.read_csv(\"02-26-2020.csv\")\n",
        "d37=pd.read_csv(\"02-27-2020.csv\")\n",
        "d38=pd.read_csv(\"02-28-2020.csv\")\n",
        "d39=pd.read_csv(\"02-29-2020.csv\")\n",
        "d40=pd.read_csv(\"03-01-2020.csv\")\n",
        "d41=pd.read_csv(\"03-02-2020.csv\")\n",
        "d42=pd.read_csv(\"03-03-2020.csv\")\n",
        "d43=pd.read_csv(\"03-04-2020.csv\")\n",
        "d44=pd.read_csv(\"03-05-2020.csv\")\n",
        "d45=pd.read_csv(\"03-06-2020.csv\")\n",
        "d46=pd.read_csv(\"03-07-2020.csv\")\n",
        "d47=pd.read_csv(\"03-08-2020.csv\")\n",
        "d48=pd.read_csv(\"03-09-2020.csv\")\n",
        "d49=pd.read_csv(\"03-10-2020.csv\")\n",
        "d50=pd.read_csv(\"03-11-2020.csv\")\n",
        "d51=pd.read_csv(\"03-12-2020.csv\")\n",
        "d52=pd.read_csv(\"03-13-2020.csv\")\n",
        "d53=pd.read_csv(\"03-14-2020.csv\")\n",
        "d54=pd.read_csv(\"03-15-2020.csv\")\n",
        "d55=pd.read_csv(\"03-16-2020.csv\")\n",
        "d56=pd.read_csv(\"03-17-2020.csv\")\n",
        "d57=pd.read_csv(\"03-18-2020.csv\")\n",
        "d58=pd.read_csv(\"03-19-2020.csv\")\n",
        "d59=pd.read_csv(\"03-20-2020.csv\")\n",
        "d60=pd.read_csv(\"03-21-2020.csv\")\n",
        "frame=[d1,d2,d3,d4,d5,d6,d7,d8,d9,d10,d11,d12,d13,d14,d15,d16,d17,d18,d19,d20,d21,d22,d23,d24,d25,d26,d27,d28,d29,d30,d31,d32,d33,d34,d35,d36,d37,d38,d39,d40,d41,d42,d43,d44,d45,d46,d47,d48,d49,d50,d51,d52,d53,d54,d56,d57,d58,d59,d60]\n",
        "covid=pd.concat(frame)\n",
        "covid\n"
      ],
      "execution_count": 4,
      "outputs": [
        {
          "output_type": "stream",
          "text": [
            "/usr/local/lib/python3.6/dist-packages/ipykernel_launcher.py:62: FutureWarning: Sorting because non-concatenation axis is not aligned. A future version\n",
            "of pandas will change to not sort by default.\n",
            "\n",
            "To accept the future behavior, pass 'sort=False'.\n",
            "\n",
            "To retain the current behavior and silence the warning, pass 'sort=True'.\n",
            "\n"
          ],
          "name": "stderr"
        },
        {
          "output_type": "execute_result",
          "data": {
            "text/html": [
              "<div>\n",
              "<style scoped>\n",
              "    .dataframe tbody tr th:only-of-type {\n",
              "        vertical-align: middle;\n",
              "    }\n",
              "\n",
              "    .dataframe tbody tr th {\n",
              "        vertical-align: top;\n",
              "    }\n",
              "\n",
              "    .dataframe thead th {\n",
              "        text-align: right;\n",
              "    }\n",
              "</style>\n",
              "<table border=\"1\" class=\"dataframe\">\n",
              "  <thead>\n",
              "    <tr style=\"text-align: right;\">\n",
              "      <th></th>\n",
              "      <th>Confirmed</th>\n",
              "      <th>Country/Region</th>\n",
              "      <th>Deaths</th>\n",
              "      <th>Last Update</th>\n",
              "      <th>Latitude</th>\n",
              "      <th>Longitude</th>\n",
              "      <th>Province/State</th>\n",
              "      <th>Recovered</th>\n",
              "    </tr>\n",
              "  </thead>\n",
              "  <tbody>\n",
              "    <tr>\n",
              "      <th>0</th>\n",
              "      <td>1.0</td>\n",
              "      <td>Mainland China</td>\n",
              "      <td>NaN</td>\n",
              "      <td>1/22/2020 17:00</td>\n",
              "      <td>NaN</td>\n",
              "      <td>NaN</td>\n",
              "      <td>Anhui</td>\n",
              "      <td>NaN</td>\n",
              "    </tr>\n",
              "    <tr>\n",
              "      <th>1</th>\n",
              "      <td>14.0</td>\n",
              "      <td>Mainland China</td>\n",
              "      <td>NaN</td>\n",
              "      <td>1/22/2020 17:00</td>\n",
              "      <td>NaN</td>\n",
              "      <td>NaN</td>\n",
              "      <td>Beijing</td>\n",
              "      <td>NaN</td>\n",
              "    </tr>\n",
              "    <tr>\n",
              "      <th>2</th>\n",
              "      <td>6.0</td>\n",
              "      <td>Mainland China</td>\n",
              "      <td>NaN</td>\n",
              "      <td>1/22/2020 17:00</td>\n",
              "      <td>NaN</td>\n",
              "      <td>NaN</td>\n",
              "      <td>Chongqing</td>\n",
              "      <td>NaN</td>\n",
              "    </tr>\n",
              "    <tr>\n",
              "      <th>3</th>\n",
              "      <td>1.0</td>\n",
              "      <td>Mainland China</td>\n",
              "      <td>NaN</td>\n",
              "      <td>1/22/2020 17:00</td>\n",
              "      <td>NaN</td>\n",
              "      <td>NaN</td>\n",
              "      <td>Fujian</td>\n",
              "      <td>NaN</td>\n",
              "    </tr>\n",
              "    <tr>\n",
              "      <th>4</th>\n",
              "      <td>NaN</td>\n",
              "      <td>Mainland China</td>\n",
              "      <td>NaN</td>\n",
              "      <td>1/22/2020 17:00</td>\n",
              "      <td>NaN</td>\n",
              "      <td>NaN</td>\n",
              "      <td>Gansu</td>\n",
              "      <td>NaN</td>\n",
              "    </tr>\n",
              "    <tr>\n",
              "      <th>...</th>\n",
              "      <td>...</td>\n",
              "      <td>...</td>\n",
              "      <td>...</td>\n",
              "      <td>...</td>\n",
              "      <td>...</td>\n",
              "      <td>...</td>\n",
              "      <td>...</td>\n",
              "      <td>...</td>\n",
              "    </tr>\n",
              "    <tr>\n",
              "      <th>299</th>\n",
              "      <td>0.0</td>\n",
              "      <td>Jersey</td>\n",
              "      <td>0.0</td>\n",
              "      <td>2020-03-17T18:33:03</td>\n",
              "      <td>49.1900</td>\n",
              "      <td>-2.110</td>\n",
              "      <td>NaN</td>\n",
              "      <td>0.0</td>\n",
              "    </tr>\n",
              "    <tr>\n",
              "      <th>300</th>\n",
              "      <td>0.0</td>\n",
              "      <td>Puerto Rico</td>\n",
              "      <td>0.0</td>\n",
              "      <td>2020-03-17T16:13:14</td>\n",
              "      <td>18.2000</td>\n",
              "      <td>-66.500</td>\n",
              "      <td>NaN</td>\n",
              "      <td>0.0</td>\n",
              "    </tr>\n",
              "    <tr>\n",
              "      <th>301</th>\n",
              "      <td>0.0</td>\n",
              "      <td>Republic of the Congo</td>\n",
              "      <td>0.0</td>\n",
              "      <td>2020-03-17T21:33:03</td>\n",
              "      <td>-1.4400</td>\n",
              "      <td>15.556</td>\n",
              "      <td>NaN</td>\n",
              "      <td>0.0</td>\n",
              "    </tr>\n",
              "    <tr>\n",
              "      <th>302</th>\n",
              "      <td>0.0</td>\n",
              "      <td>The Bahamas</td>\n",
              "      <td>0.0</td>\n",
              "      <td>2020-03-19T12:13:38</td>\n",
              "      <td>24.2500</td>\n",
              "      <td>-76.000</td>\n",
              "      <td>NaN</td>\n",
              "      <td>0.0</td>\n",
              "    </tr>\n",
              "    <tr>\n",
              "      <th>303</th>\n",
              "      <td>0.0</td>\n",
              "      <td>The Gambia</td>\n",
              "      <td>0.0</td>\n",
              "      <td>2020-03-18T14:13:56</td>\n",
              "      <td>13.4667</td>\n",
              "      <td>-16.600</td>\n",
              "      <td>NaN</td>\n",
              "      <td>0.0</td>\n",
              "    </tr>\n",
              "  </tbody>\n",
              "</table>\n",
              "<p>7345 rows × 8 columns</p>\n",
              "</div>"
            ],
            "text/plain": [
              "     Confirmed         Country/Region  ...  Province/State Recovered\n",
              "0          1.0         Mainland China  ...           Anhui       NaN\n",
              "1         14.0         Mainland China  ...         Beijing       NaN\n",
              "2          6.0         Mainland China  ...       Chongqing       NaN\n",
              "3          1.0         Mainland China  ...          Fujian       NaN\n",
              "4          NaN         Mainland China  ...           Gansu       NaN\n",
              "..         ...                    ...  ...             ...       ...\n",
              "299        0.0                 Jersey  ...             NaN       0.0\n",
              "300        0.0            Puerto Rico  ...             NaN       0.0\n",
              "301        0.0  Republic of the Congo  ...             NaN       0.0\n",
              "302        0.0            The Bahamas  ...             NaN       0.0\n",
              "303        0.0             The Gambia  ...             NaN       0.0\n",
              "\n",
              "[7345 rows x 8 columns]"
            ]
          },
          "metadata": {
            "tags": []
          },
          "execution_count": 4
        }
      ]
    },
    {
      "cell_type": "markdown",
      "metadata": {
        "id": "-ojXEHYzMqxG",
        "colab_type": "text"
      },
      "source": [
        "# **Cleaning the data**"
      ]
    },
    {
      "cell_type": "code",
      "metadata": {
        "id": "otPzPAhoylgZ",
        "colab_type": "code",
        "colab": {}
      },
      "source": [
        "covid[\"Confirmed\"].fillna(0,inplace=True) \n",
        "covid[\"Deaths\"].fillna(0,inplace=True)\n",
        "covid[\"Recovered\"].fillna(0,inplace=True)\n",
        "covid[\"Province/State\"].fillna(covid[\"Province/State\"].mode()[0],inplace=True)"
      ],
      "execution_count": 0,
      "outputs": []
    },
    {
      "cell_type": "code",
      "metadata": {
        "id": "sH-xQXkYylc4",
        "colab_type": "code",
        "outputId": "3e15ec62-fa62-4cbc-ca68-6b5f5f923d18",
        "colab": {
          "base_uri": "https://localhost:8080/",
          "height": 243
        }
      },
      "source": [
        "covid.info()"
      ],
      "execution_count": 6,
      "outputs": [
        {
          "output_type": "stream",
          "text": [
            "<class 'pandas.core.frame.DataFrame'>\n",
            "Int64Index: 7345 entries, 0 to 303\n",
            "Data columns (total 8 columns):\n",
            "Confirmed         7345 non-null float64\n",
            "Country/Region    7345 non-null object\n",
            "Deaths            7345 non-null float64\n",
            "Last Update       7345 non-null object\n",
            "Latitude          4527 non-null float64\n",
            "Longitude         4527 non-null float64\n",
            "Province/State    7345 non-null object\n",
            "Recovered         7345 non-null float64\n",
            "dtypes: float64(5), object(3)\n",
            "memory usage: 516.4+ KB\n"
          ],
          "name": "stdout"
        }
      ]
    },
    {
      "cell_type": "markdown",
      "metadata": {
        "id": "tIh3p9saMzmA",
        "colab_type": "text"
      },
      "source": [
        "# **Forming dataframe contributing each row to each city.**"
      ]
    },
    {
      "cell_type": "code",
      "metadata": {
        "id": "Fwgx1PeAEuRl",
        "colab_type": "code",
        "outputId": "e0426328-d476-4abf-a743-3680426ae6d9",
        "colab": {
          "base_uri": "https://localhost:8080/",
          "height": 415
        }
      },
      "source": [
        "covid19=covid.iloc[:,[6,0,2,7]]\n",
        "covid19"
      ],
      "execution_count": 7,
      "outputs": [
        {
          "output_type": "execute_result",
          "data": {
            "text/html": [
              "<div>\n",
              "<style scoped>\n",
              "    .dataframe tbody tr th:only-of-type {\n",
              "        vertical-align: middle;\n",
              "    }\n",
              "\n",
              "    .dataframe tbody tr th {\n",
              "        vertical-align: top;\n",
              "    }\n",
              "\n",
              "    .dataframe thead th {\n",
              "        text-align: right;\n",
              "    }\n",
              "</style>\n",
              "<table border=\"1\" class=\"dataframe\">\n",
              "  <thead>\n",
              "    <tr style=\"text-align: right;\">\n",
              "      <th></th>\n",
              "      <th>Province/State</th>\n",
              "      <th>Confirmed</th>\n",
              "      <th>Deaths</th>\n",
              "      <th>Recovered</th>\n",
              "    </tr>\n",
              "  </thead>\n",
              "  <tbody>\n",
              "    <tr>\n",
              "      <th>0</th>\n",
              "      <td>Anhui</td>\n",
              "      <td>1.0</td>\n",
              "      <td>0.0</td>\n",
              "      <td>0.0</td>\n",
              "    </tr>\n",
              "    <tr>\n",
              "      <th>1</th>\n",
              "      <td>Beijing</td>\n",
              "      <td>14.0</td>\n",
              "      <td>0.0</td>\n",
              "      <td>0.0</td>\n",
              "    </tr>\n",
              "    <tr>\n",
              "      <th>2</th>\n",
              "      <td>Chongqing</td>\n",
              "      <td>6.0</td>\n",
              "      <td>0.0</td>\n",
              "      <td>0.0</td>\n",
              "    </tr>\n",
              "    <tr>\n",
              "      <th>3</th>\n",
              "      <td>Fujian</td>\n",
              "      <td>1.0</td>\n",
              "      <td>0.0</td>\n",
              "      <td>0.0</td>\n",
              "    </tr>\n",
              "    <tr>\n",
              "      <th>4</th>\n",
              "      <td>Gansu</td>\n",
              "      <td>0.0</td>\n",
              "      <td>0.0</td>\n",
              "      <td>0.0</td>\n",
              "    </tr>\n",
              "    <tr>\n",
              "      <th>...</th>\n",
              "      <td>...</td>\n",
              "      <td>...</td>\n",
              "      <td>...</td>\n",
              "      <td>...</td>\n",
              "    </tr>\n",
              "    <tr>\n",
              "      <th>299</th>\n",
              "      <td>Gansu</td>\n",
              "      <td>0.0</td>\n",
              "      <td>0.0</td>\n",
              "      <td>0.0</td>\n",
              "    </tr>\n",
              "    <tr>\n",
              "      <th>300</th>\n",
              "      <td>Gansu</td>\n",
              "      <td>0.0</td>\n",
              "      <td>0.0</td>\n",
              "      <td>0.0</td>\n",
              "    </tr>\n",
              "    <tr>\n",
              "      <th>301</th>\n",
              "      <td>Gansu</td>\n",
              "      <td>0.0</td>\n",
              "      <td>0.0</td>\n",
              "      <td>0.0</td>\n",
              "    </tr>\n",
              "    <tr>\n",
              "      <th>302</th>\n",
              "      <td>Gansu</td>\n",
              "      <td>0.0</td>\n",
              "      <td>0.0</td>\n",
              "      <td>0.0</td>\n",
              "    </tr>\n",
              "    <tr>\n",
              "      <th>303</th>\n",
              "      <td>Gansu</td>\n",
              "      <td>0.0</td>\n",
              "      <td>0.0</td>\n",
              "      <td>0.0</td>\n",
              "    </tr>\n",
              "  </tbody>\n",
              "</table>\n",
              "<p>7345 rows × 4 columns</p>\n",
              "</div>"
            ],
            "text/plain": [
              "    Province/State  Confirmed  Deaths  Recovered\n",
              "0            Anhui        1.0     0.0        0.0\n",
              "1          Beijing       14.0     0.0        0.0\n",
              "2        Chongqing        6.0     0.0        0.0\n",
              "3           Fujian        1.0     0.0        0.0\n",
              "4            Gansu        0.0     0.0        0.0\n",
              "..             ...        ...     ...        ...\n",
              "299          Gansu        0.0     0.0        0.0\n",
              "300          Gansu        0.0     0.0        0.0\n",
              "301          Gansu        0.0     0.0        0.0\n",
              "302          Gansu        0.0     0.0        0.0\n",
              "303          Gansu        0.0     0.0        0.0\n",
              "\n",
              "[7345 rows x 4 columns]"
            ]
          },
          "metadata": {
            "tags": []
          },
          "execution_count": 7
        }
      ]
    },
    {
      "cell_type": "markdown",
      "metadata": {
        "id": "RGx5XARoNIbg",
        "colab_type": "text"
      },
      "source": [
        "# **Merging nearly duplicate rows**"
      ]
    },
    {
      "cell_type": "code",
      "metadata": {
        "id": "y5VcAAF6BaTP",
        "colab_type": "code",
        "outputId": "387cfac8-9e6f-47ed-9456-36c567a32cdb",
        "colab": {
          "base_uri": "https://localhost:8080/",
          "height": 415
        }
      },
      "source": [
        "covid19 = covid19.groupby('Province/State').agg(np.sum).reset_index()\n",
        "covid19"
      ],
      "execution_count": 8,
      "outputs": [
        {
          "output_type": "execute_result",
          "data": {
            "text/html": [
              "<div>\n",
              "<style scoped>\n",
              "    .dataframe tbody tr th:only-of-type {\n",
              "        vertical-align: middle;\n",
              "    }\n",
              "\n",
              "    .dataframe tbody tr th {\n",
              "        vertical-align: top;\n",
              "    }\n",
              "\n",
              "    .dataframe thead th {\n",
              "        text-align: right;\n",
              "    }\n",
              "</style>\n",
              "<table border=\"1\" class=\"dataframe\">\n",
              "  <thead>\n",
              "    <tr style=\"text-align: right;\">\n",
              "      <th></th>\n",
              "      <th>Province/State</th>\n",
              "      <th>Confirmed</th>\n",
              "      <th>Deaths</th>\n",
              "      <th>Recovered</th>\n",
              "    </tr>\n",
              "  </thead>\n",
              "  <tbody>\n",
              "    <tr>\n",
              "      <th>0</th>\n",
              "      <td>Montreal, QC</td>\n",
              "      <td>17.0</td>\n",
              "      <td>0.0</td>\n",
              "      <td>0.0</td>\n",
              "    </tr>\n",
              "    <tr>\n",
              "      <th>1</th>\n",
              "      <td>Norfolk County, MA</td>\n",
              "      <td>7.0</td>\n",
              "      <td>0.0</td>\n",
              "      <td>0.0</td>\n",
              "    </tr>\n",
              "    <tr>\n",
              "      <th>2</th>\n",
              "      <td>Alabama</td>\n",
              "      <td>400.0</td>\n",
              "      <td>0.0</td>\n",
              "      <td>0.0</td>\n",
              "    </tr>\n",
              "    <tr>\n",
              "      <th>3</th>\n",
              "      <td>Alameda County, CA</td>\n",
              "      <td>6.0</td>\n",
              "      <td>0.0</td>\n",
              "      <td>0.0</td>\n",
              "    </tr>\n",
              "    <tr>\n",
              "      <th>4</th>\n",
              "      <td>Alaska</td>\n",
              "      <td>47.0</td>\n",
              "      <td>0.0</td>\n",
              "      <td>0.0</td>\n",
              "    </tr>\n",
              "    <tr>\n",
              "      <th>...</th>\n",
              "      <td>...</td>\n",
              "      <td>...</td>\n",
              "      <td>...</td>\n",
              "      <td>...</td>\n",
              "    </tr>\n",
              "    <tr>\n",
              "      <th>278</th>\n",
              "      <td>Wyoming</td>\n",
              "      <td>93.0</td>\n",
              "      <td>0.0</td>\n",
              "      <td>0.0</td>\n",
              "    </tr>\n",
              "    <tr>\n",
              "      <th>279</th>\n",
              "      <td>Xinjiang</td>\n",
              "      <td>3295.0</td>\n",
              "      <td>87.0</td>\n",
              "      <td>1863.0</td>\n",
              "    </tr>\n",
              "    <tr>\n",
              "      <th>280</th>\n",
              "      <td>Yolo County, CA</td>\n",
              "      <td>4.0</td>\n",
              "      <td>0.0</td>\n",
              "      <td>0.0</td>\n",
              "    </tr>\n",
              "    <tr>\n",
              "      <th>281</th>\n",
              "      <td>Yunnan</td>\n",
              "      <td>8286.0</td>\n",
              "      <td>61.0</td>\n",
              "      <td>5110.0</td>\n",
              "    </tr>\n",
              "    <tr>\n",
              "      <th>282</th>\n",
              "      <td>Zhejiang</td>\n",
              "      <td>57501.0</td>\n",
              "      <td>30.0</td>\n",
              "      <td>36527.0</td>\n",
              "    </tr>\n",
              "  </tbody>\n",
              "</table>\n",
              "<p>283 rows × 4 columns</p>\n",
              "</div>"
            ],
            "text/plain": [
              "          Province/State  Confirmed  Deaths  Recovered\n",
              "0           Montreal, QC       17.0     0.0        0.0\n",
              "1     Norfolk County, MA        7.0     0.0        0.0\n",
              "2                Alabama      400.0     0.0        0.0\n",
              "3     Alameda County, CA        6.0     0.0        0.0\n",
              "4                 Alaska       47.0     0.0        0.0\n",
              "..                   ...        ...     ...        ...\n",
              "278              Wyoming       93.0     0.0        0.0\n",
              "279             Xinjiang     3295.0    87.0     1863.0\n",
              "280      Yolo County, CA        4.0     0.0        0.0\n",
              "281               Yunnan     8286.0    61.0     5110.0\n",
              "282             Zhejiang    57501.0    30.0    36527.0\n",
              "\n",
              "[283 rows x 4 columns]"
            ]
          },
          "metadata": {
            "tags": []
          },
          "execution_count": 8
        }
      ]
    },
    {
      "cell_type": "code",
      "metadata": {
        "id": "CwsQrb_JVC0s",
        "colab_type": "code",
        "outputId": "ba145dbf-730c-444a-d323-2ef658c2909a",
        "colab": {
          "base_uri": "https://localhost:8080/",
          "height": 35
        }
      },
      "source": [
        "covid19.columns"
      ],
      "execution_count": 9,
      "outputs": [
        {
          "output_type": "execute_result",
          "data": {
            "text/plain": [
              "Index(['Province/State', 'Confirmed', 'Deaths', 'Recovered'], dtype='object')"
            ]
          },
          "metadata": {
            "tags": []
          },
          "execution_count": 9
        }
      ]
    },
    {
      "cell_type": "code",
      "metadata": {
        "id": "qsvl2Ci8kUe3",
        "colab_type": "code",
        "outputId": "c140bcf4-f746-42f4-d4d1-6d76c215ee70",
        "colab": {
          "base_uri": "https://localhost:8080/",
          "height": 1000
        }
      },
      "source": [
        "x=covid19.iloc[:,1:4].values\n",
        "x"
      ],
      "execution_count": 21,
      "outputs": [
        {
          "output_type": "execute_result",
          "data": {
            "text/plain": [
              "array([[1.700000e+01, 0.000000e+00, 0.000000e+00],\n",
              "       [7.000000e+00, 0.000000e+00, 0.000000e+00],\n",
              "       [4.000000e+02, 0.000000e+00, 0.000000e+00],\n",
              "       [6.000000e+00, 0.000000e+00, 0.000000e+00],\n",
              "       [4.700000e+01, 0.000000e+00, 0.000000e+00],\n",
              "       [7.800000e+02, 2.000000e+00, 0.000000e+00],\n",
              "       [4.467700e+04, 2.330000e+02, 2.873700e+04],\n",
              "       [3.520000e+02, 1.000000e+00, 7.000000e+00],\n",
              "       [3.760000e+02, 0.000000e+00, 0.000000e+00],\n",
              "       [1.400000e+01, 0.000000e+00, 0.000000e+00],\n",
              "       [1.100000e+01, 0.000000e+00, 0.000000e+00],\n",
              "       [2.700000e+01, 0.000000e+00, 0.000000e+00],\n",
              "       [1.700000e+01, 0.000000e+00, 0.000000e+00],\n",
              "       [1.947900e+04, 2.580000e+02, 9.835000e+03],\n",
              "       [1.000000e+00, 0.000000e+00, 0.000000e+00],\n",
              "       [1.600000e+01, 0.000000e+00, 0.000000e+00],\n",
              "       [4.000000e+00, 0.000000e+00, 0.000000e+00],\n",
              "       [2.000000e+00, 0.000000e+00, 0.000000e+00],\n",
              "       [6.000000e+00, 0.000000e+00, 0.000000e+00],\n",
              "       [3.400000e+01, 0.000000e+00, 7.000000e+00],\n",
              "       [1.816000e+03, 4.300000e+01, 8.300000e+01],\n",
              "       [7.000000e+00, 0.000000e+00, 0.000000e+00],\n",
              "       [3.000000e+00, 0.000000e+00, 0.000000e+00],\n",
              "       [6.544000e+03, 1.140000e+02, 3.400000e+01],\n",
              "       [1.000000e+00, 0.000000e+00, 0.000000e+00],\n",
              "       [1.100000e+01, 5.000000e+00, 0.000000e+00],\n",
              "       [8.000000e+01, 0.000000e+00, 0.000000e+00],\n",
              "       [3.000000e+00, 0.000000e+00, 0.000000e+00],\n",
              "       [1.000000e+00, 0.000000e+00, 0.000000e+00],\n",
              "       [4.000000e+00, 0.000000e+00, 0.000000e+00],\n",
              "       [1.000000e+00, 0.000000e+00, 0.000000e+00],\n",
              "       [1.000000e+00, 0.000000e+00, 0.000000e+00],\n",
              "       [6.100000e+01, 0.000000e+00, 4.400000e+01],\n",
              "       [2.692900e+04, 2.390000e+02, 1.625700e+04],\n",
              "       [7.000000e+00, 0.000000e+00, 0.000000e+00],\n",
              "       [3.000000e+00, 0.000000e+00, 0.000000e+00],\n",
              "       [5.000000e+00, 0.000000e+00, 0.000000e+00],\n",
              "       [1.000000e+00, 0.000000e+00, 0.000000e+00],\n",
              "       [1.749000e+03, 1.800000e+01, 0.000000e+00],\n",
              "       [7.500000e+02, 9.000000e+00, 0.000000e+00],\n",
              "       [3.200000e+01, 0.000000e+00, 0.000000e+00],\n",
              "       [4.200000e+01, 0.000000e+00, 1.600000e+01],\n",
              "       [1.220000e+02, 0.000000e+00, 0.000000e+00],\n",
              "       [1.500000e+01, 3.000000e+00, 0.000000e+00],\n",
              "       [2.000000e+00, 0.000000e+00, 0.000000e+00],\n",
              "       [3.000000e+00, 0.000000e+00, 0.000000e+00],\n",
              "       [1.670000e+02, 0.000000e+00, 0.000000e+00],\n",
              "       [4.000000e+00, 0.000000e+00, 0.000000e+00],\n",
              "       [9.315000e+03, 3.900000e+01, 1.000000e+01],\n",
              "       [8.000000e+00, 0.000000e+00, 0.000000e+00],\n",
              "       [7.539000e+03, 7.100000e+01, 3.250000e+03],\n",
              "       [1.696200e+04, 9.500000e+01, 2.940000e+02],\n",
              "       [3.020000e+02, 2.000000e+00, 0.000000e+00],\n",
              "       [9.000000e+00, 0.000000e+00, 0.000000e+00],\n",
              "       [6.000000e+00, 0.000000e+00, 0.000000e+00],\n",
              "       [2.000000e+00, 0.000000e+00, 0.000000e+00],\n",
              "       [4.000000e+00, 0.000000e+00, 0.000000e+00],\n",
              "       [3.000000e+00, 0.000000e+00, 0.000000e+00],\n",
              "       [4.000000e+00, 0.000000e+00, 0.000000e+00],\n",
              "       [4.000000e+00, 0.000000e+00, 0.000000e+00],\n",
              "       [3.760000e+02, 0.000000e+00, 0.000000e+00],\n",
              "       [4.000000e+00, 0.000000e+00, 0.000000e+00],\n",
              "       [5.000000e+00, 0.000000e+00, 0.000000e+00],\n",
              "       [2.488000e+03, 6.000000e+01, 0.000000e+00],\n",
              "       [3.000000e+00, 0.000000e+00, 0.000000e+00],\n",
              "       [1.700000e+01, 0.000000e+00, 0.000000e+00],\n",
              "       [7.165100e+04, 1.908000e+03, 1.200000e+02],\n",
              "       [1.400000e+01, 0.000000e+00, 0.000000e+00],\n",
              "       [4.700000e+01, 0.000000e+00, 0.000000e+00],\n",
              "       [2.000000e+00, 0.000000e+00, 0.000000e+00],\n",
              "       [6.000000e+01, 0.000000e+00, 0.000000e+00],\n",
              "       [1.400000e+04, 3.000000e+01, 8.449000e+03],\n",
              "       [1.900000e+01, 0.000000e+00, 0.000000e+00],\n",
              "       [1.157195e+06, 4.612300e+04, 1.305080e+05],\n",
              "       [1.837000e+03, 4.500000e+01, 0.000000e+00],\n",
              "       [4.600000e+01, 0.000000e+00, 1.400000e+01],\n",
              "       [1.900000e+01, 0.000000e+00, 0.000000e+00],\n",
              "       [2.840000e+02, 0.000000e+00, 0.000000e+00],\n",
              "       [6.300000e+01, 0.000000e+00, 0.000000e+00],\n",
              "       [5.000000e+00, 1.000000e+00, 0.000000e+00],\n",
              "       [6.000000e+00, 0.000000e+00, 0.000000e+00],\n",
              "       [6.000000e+00, 0.000000e+00, 0.000000e+00],\n",
              "       [5.200000e+01, 0.000000e+00, 0.000000e+00],\n",
              "       [6.283400e+04, 2.410000e+02, 3.735200e+04],\n",
              "       [1.159200e+04, 7.800000e+01, 6.439000e+03],\n",
              "       [6.407000e+03, 7.700000e+01, 3.996000e+03],\n",
              "       [7.740000e+03, 2.190000e+02, 4.864000e+03],\n",
              "       [2.000000e+00, 0.000000e+00, 0.000000e+00],\n",
              "       [2.100000e+01, 0.000000e+00, 0.000000e+00],\n",
              "       [2.000000e+00, 0.000000e+00, 0.000000e+00],\n",
              "       [1.210000e+02, 0.000000e+00, 0.000000e+00],\n",
              "       [1.381700e+04, 2.260000e+02, 9.503000e+03],\n",
              "       [2.054100e+04, 5.190000e+02, 1.142100e+04],\n",
              "       [5.799100e+04, 7.900000e+02, 3.849500e+04],\n",
              "       [3.000000e+00, 0.000000e+00, 0.000000e+00],\n",
              "       [1.500000e+01, 0.000000e+00, 0.000000e+00],\n",
              "       [4.432000e+03, 9.800000e+01, 1.499000e+03],\n",
              "       [4.000000e+00, 0.000000e+00, 0.000000e+00],\n",
              "       [2.691487e+06, 1.055010e+05, 1.204941e+06],\n",
              "       [2.000000e+00, 0.000000e+00, 0.000000e+00],\n",
              "       [1.800000e+01, 0.000000e+00, 0.000000e+00],\n",
              "       [4.720200e+04, 1.460000e+02, 3.153200e+04],\n",
              "       [9.500000e+01, 0.000000e+00, 0.000000e+00],\n",
              "       [2.363000e+03, 1.700000e+01, 1.400000e+01],\n",
              "       [4.220000e+02, 1.200000e+01, 0.000000e+00],\n",
              "       [3.369000e+03, 1.800000e+01, 1.784000e+03],\n",
              "       [2.980000e+02, 0.000000e+00, 0.000000e+00],\n",
              "       [2.000000e+00, 0.000000e+00, 0.000000e+00],\n",
              "       [5.000000e+00, 0.000000e+00, 0.000000e+00],\n",
              "       [1.000000e+00, 0.000000e+00, 0.000000e+00],\n",
              "       [3.000000e+00, 0.000000e+00, 0.000000e+00],\n",
              "       [1.000000e+00, 0.000000e+00, 0.000000e+00],\n",
              "       [2.837500e+04, 0.000000e+00, 1.875600e+04],\n",
              "       [4.237400e+04, 4.000000e+01, 2.721500e+04],\n",
              "       [4.142000e+03, 4.300000e+01, 2.679000e+03],\n",
              "       [3.000000e+00, 0.000000e+00, 0.000000e+00],\n",
              "       [2.000000e+00, 0.000000e+00, 0.000000e+00],\n",
              "       [1.950000e+02, 9.000000e+00, 0.000000e+00],\n",
              "       [2.960000e+02, 9.000000e+00, 1.000000e+00],\n",
              "       [6.000000e+00, 0.000000e+00, 0.000000e+00],\n",
              "       [4.120000e+02, 9.100000e+01, 8.000000e+00],\n",
              "       [2.000000e+00, 0.000000e+00, 0.000000e+00],\n",
              "       [3.000000e+00, 0.000000e+00, 0.000000e+00],\n",
              "       [2.000000e+00, 0.000000e+00, 0.000000e+00],\n",
              "       [4.000000e+00, 0.000000e+00, 0.000000e+00],\n",
              "       [6.000000e+00, 2.000000e+00, 0.000000e+00],\n",
              "       [5.899000e+03, 4.000000e+01, 3.397000e+03],\n",
              "       [3.400000e+01, 0.000000e+00, 2.600000e+01],\n",
              "       [1.050000e+02, 0.000000e+00, 0.000000e+00],\n",
              "       [2.198000e+03, 5.100000e+01, 0.000000e+00],\n",
              "       [5.580000e+02, 0.000000e+00, 2.980000e+02],\n",
              "       [3.000000e+00, 0.000000e+00, 0.000000e+00],\n",
              "       [3.400000e+01, 0.000000e+00, 7.000000e+00],\n",
              "       [2.680000e+02, 0.000000e+00, 0.000000e+00],\n",
              "       [3.000000e+00, 0.000000e+00, 0.000000e+00],\n",
              "       [8.700000e+01, 0.000000e+00, 0.000000e+00],\n",
              "       [1.400000e+01, 0.000000e+00, 3.000000e+00],\n",
              "       [4.000000e+00, 0.000000e+00, 0.000000e+00],\n",
              "       [2.000000e+00, 0.000000e+00, 0.000000e+00],\n",
              "       [6.990000e+02, 4.000000e+00, 3.000000e+00],\n",
              "       [2.422000e+03, 2.000000e+00, 7.000000e+00],\n",
              "       [2.000000e+00, 0.000000e+00, 0.000000e+00],\n",
              "       [1.900000e+03, 1.100000e+01, 0.000000e+00],\n",
              "       [1.600000e+01, 0.000000e+00, 0.000000e+00],\n",
              "       [5.660000e+02, 1.000000e+00, 0.000000e+00],\n",
              "       [3.430000e+02, 3.000000e+00, 0.000000e+00],\n",
              "       [2.010000e+02, 6.000000e+00, 0.000000e+00],\n",
              "       [8.200000e+01, 0.000000e+00, 0.000000e+00],\n",
              "       [1.400000e+01, 0.000000e+00, 0.000000e+00],\n",
              "       [9.000000e+00, 0.000000e+00, 0.000000e+00],\n",
              "       [0.000000e+00, 0.000000e+00, 0.000000e+00],\n",
              "       [4.000000e+00, 0.000000e+00, 0.000000e+00],\n",
              "       [2.700000e+01, 0.000000e+00, 0.000000e+00],\n",
              "       [2.110000e+02, 0.000000e+00, 0.000000e+00],\n",
              "       [1.284100e+04, 4.190000e+02, 1.000000e+01],\n",
              "       [5.680000e+02, 6.000000e+00, 0.000000e+00],\n",
              "       [6.400000e+01, 0.000000e+00, 0.000000e+00],\n",
              "       [8.000000e+00, 0.000000e+00, 0.000000e+00],\n",
              "       [2.360000e+02, 0.000000e+00, 0.000000e+00],\n",
              "       [3.756000e+03, 4.900000e+01, 1.000000e+00],\n",
              "       [2.080000e+02, 0.000000e+00, 0.000000e+00],\n",
              "       [2.441000e+03, 4.800000e+01, 1.760000e+02],\n",
              "       [3.198500e+04, 1.700000e+02, 0.000000e+00],\n",
              "       [7.000000e+00, 0.000000e+00, 0.000000e+00],\n",
              "       [5.800000e+01, 0.000000e+00, 0.000000e+00],\n",
              "       [2.000000e+01, 0.000000e+00, 0.000000e+00],\n",
              "       [3.257000e+03, 0.000000e+00, 2.351000e+03],\n",
              "       [3.000000e+00, 0.000000e+00, 0.000000e+00],\n",
              "       [1.200000e+01, 0.000000e+00, 0.000000e+00],\n",
              "       [7.850000e+02, 0.000000e+00, 0.000000e+00],\n",
              "       [7.800000e+01, 0.000000e+00, 0.000000e+00],\n",
              "       [1.700000e+01, 0.000000e+00, 0.000000e+00],\n",
              "       [1.000000e+00, 0.000000e+00, 0.000000e+00],\n",
              "       [1.000000e+00, 0.000000e+00, 0.000000e+00],\n",
              "       [6.900000e+01, 0.000000e+00, 0.000000e+00],\n",
              "       [7.810000e+02, 5.000000e+00, 0.000000e+00],\n",
              "       [2.000000e+00, 0.000000e+00, 0.000000e+00],\n",
              "       [2.030000e+02, 3.000000e+00, 0.000000e+00],\n",
              "       [2.200000e+01, 0.000000e+00, 0.000000e+00],\n",
              "       [1.775000e+03, 8.000000e+00, 5.400000e+01],\n",
              "       [1.900000e+01, 0.000000e+00, 0.000000e+00],\n",
              "       [3.200000e+01, 0.000000e+00, 0.000000e+00],\n",
              "       [6.060000e+02, 1.500000e+01, 0.000000e+00],\n",
              "       [1.373000e+03, 4.000000e+00, 0.000000e+00],\n",
              "       [9.000000e+00, 0.000000e+00, 0.000000e+00],\n",
              "       [6.000000e+00, 0.000000e+00, 0.000000e+00],\n",
              "       [2.800000e+01, 6.000000e+00, 0.000000e+00],\n",
              "       [3.000000e+00, 0.000000e+00, 0.000000e+00],\n",
              "       [2.000000e+00, 0.000000e+00, 0.000000e+00],\n",
              "       [4.000000e+00, 0.000000e+00, 0.000000e+00],\n",
              "       [9.000000e+00, 0.000000e+00, 0.000000e+00],\n",
              "       [9.000000e+00, 0.000000e+00, 0.000000e+00],\n",
              "       [1.100000e+01, 0.000000e+00, 0.000000e+00],\n",
              "       [5.800000e+01, 1.000000e+00, 0.000000e+00],\n",
              "       [8.930000e+02, 0.000000e+00, 6.620000e+02],\n",
              "       [6.910000e+02, 7.000000e+00, 0.000000e+00],\n",
              "       [1.000000e+00, 0.000000e+00, 0.000000e+00],\n",
              "       [1.171000e+03, 0.000000e+00, 1.410000e+02],\n",
              "       [4.000000e+00, 0.000000e+00, 0.000000e+00],\n",
              "       [9.000000e+00, 0.000000e+00, 0.000000e+00],\n",
              "       [2.870000e+02, 0.000000e+00, 0.000000e+00],\n",
              "       [2.000000e+00, 0.000000e+00, 0.000000e+00],\n",
              "       [3.000000e+00, 0.000000e+00, 0.000000e+00],\n",
              "       [8.000000e+00, 0.000000e+00, 0.000000e+00],\n",
              "       [3.000000e+01, 0.000000e+00, 0.000000e+00],\n",
              "       [2.000000e+01, 0.000000e+00, 0.000000e+00],\n",
              "       [2.600000e+01, 0.000000e+00, 0.000000e+00],\n",
              "       [7.200000e+01, 0.000000e+00, 0.000000e+00],\n",
              "       [5.900000e+01, 0.000000e+00, 1.800000e+01],\n",
              "       [3.100000e+01, 0.000000e+00, 0.000000e+00],\n",
              "       [1.500000e+01, 0.000000e+00, 0.000000e+00],\n",
              "       [1.080000e+02, 0.000000e+00, 3.000000e+00],\n",
              "       [1.310000e+02, 0.000000e+00, 1.500000e+01],\n",
              "       [1.000000e+00, 0.000000e+00, 0.000000e+00],\n",
              "       [5.000000e+00, 2.000000e+00, 0.000000e+00],\n",
              "       [8.000000e+00, 0.000000e+00, 0.000000e+00],\n",
              "       [6.000000e+00, 0.000000e+00, 0.000000e+00],\n",
              "       [8.300000e+01, 0.000000e+00, 0.000000e+00],\n",
              "       [4.300000e+01, 2.000000e+00, 2.200000e+01],\n",
              "       [1.140800e+04, 4.400000e+01, 6.967000e+03],\n",
              "       [3.131000e+04, 2.000000e+02, 1.833500e+04],\n",
              "       [1.623900e+04, 1.140000e+02, 1.013900e+04],\n",
              "       [6.199000e+03, 0.000000e+00, 4.055000e+03],\n",
              "       [1.000000e+00, 0.000000e+00, 0.000000e+00],\n",
              "       [2.000000e+00, 0.000000e+00, 0.000000e+00],\n",
              "       [2.409400e+04, 1.200000e+02, 1.380100e+04],\n",
              "       [2.000000e+00, 0.000000e+00, 0.000000e+00],\n",
              "       [1.470000e+02, 8.000000e+00, 0.000000e+00],\n",
              "       [1.000000e+01, 0.000000e+00, 0.000000e+00],\n",
              "       [4.100000e+02, 0.000000e+00, 7.400000e+01],\n",
              "       [5.610000e+02, 7.000000e+00, 0.000000e+00],\n",
              "       [1.030000e+02, 1.000000e+01, 0.000000e+00],\n",
              "       [1.000000e+00, 0.000000e+00, 0.000000e+00],\n",
              "       [2.000000e+00, 0.000000e+00, 0.000000e+00],\n",
              "       [2.700000e+01, 0.000000e+00, 0.000000e+00],\n",
              "       [2.000000e+00, 0.000000e+00, 0.000000e+00],\n",
              "       [2.200000e+01, 0.000000e+00, 4.000000e+00],\n",
              "       [2.000000e+00, 0.000000e+00, 0.000000e+00],\n",
              "       [8.000000e+00, 0.000000e+00, 0.000000e+00],\n",
              "       [1.104000e+03, 2.400000e+01, 1.890000e+02],\n",
              "       [8.700000e+01, 0.000000e+00, 9.000000e+00],\n",
              "       [3.500000e+01, 0.000000e+00, 1.100000e+01],\n",
              "       [1.042000e+03, 1.000000e+00, 0.000000e+00],\n",
              "       [1.751000e+03, 1.900000e+01, 0.000000e+00],\n",
              "       [6.051000e+03, 1.210000e+02, 3.751000e+03],\n",
              "       [5.100000e+01, 0.000000e+00, 3.800000e+01],\n",
              "       [2.380000e+02, 0.000000e+00, 3.600000e+01],\n",
              "       [5.000000e+00, 0.000000e+00, 0.000000e+00],\n",
              "       [1.000000e+01, 0.000000e+00, 0.000000e+00],\n",
              "       [3.000000e+00, 0.000000e+00, 0.000000e+00],\n",
              "       [9.120000e+02, 1.600000e+01, 3.600000e+01],\n",
              "       [4.000000e+00, 0.000000e+00, 5.320000e+02],\n",
              "       [2.000000e+00, 0.000000e+00, 0.000000e+00],\n",
              "       [8.000000e+00, 0.000000e+00, 0.000000e+00],\n",
              "       [6.480000e+02, 0.000000e+00, 0.000000e+00],\n",
              "       [1.000000e+00, 0.000000e+00, 0.000000e+00],\n",
              "       [2.000000e+01, 0.000000e+00, 0.000000e+00],\n",
              "       [1.934400e+04, 7.230000e+02, 3.660000e+02],\n",
              "       [1.300000e+01, 0.000000e+00, 0.000000e+00],\n",
              "       [2.000000e+00, 0.000000e+00, 0.000000e+00],\n",
              "       [4.530000e+02, 0.000000e+00, 0.000000e+00],\n",
              "       [1.290000e+02, 4.000000e+00, 0.000000e+00],\n",
              "       [1.107000e+03, 0.000000e+00, 2.040000e+02],\n",
              "       [7.000000e+00, 0.000000e+00, 0.000000e+00],\n",
              "       [2.000000e+00, 0.000000e+00, 0.000000e+00],\n",
              "       [6.700000e+02, 1.200000e+01, 0.000000e+00],\n",
              "       [2.000000e+00, 0.000000e+00, 0.000000e+00],\n",
              "       [7.000000e+00, 0.000000e+00, 0.000000e+00],\n",
              "       [9.651000e+03, 5.580000e+02, 7.000000e+00],\n",
              "       [2.700000e+01, 0.000000e+00, 0.000000e+00],\n",
              "       [4.000000e+00, 0.000000e+00, 0.000000e+00],\n",
              "       [6.000000e+00, 0.000000e+00, 0.000000e+00],\n",
              "       [4.000000e+00, 0.000000e+00, 0.000000e+00],\n",
              "       [1.900000e+01, 0.000000e+00, 0.000000e+00],\n",
              "       [2.860000e+02, 0.000000e+00, 0.000000e+00],\n",
              "       [3.700000e+02, 2.000000e+01, 0.000000e+00],\n",
              "       [5.000000e+00, 0.000000e+00, 0.000000e+00],\n",
              "       [9.070000e+02, 7.000000e+00, 7.000000e+00],\n",
              "       [9.300000e+01, 0.000000e+00, 0.000000e+00],\n",
              "       [3.295000e+03, 8.700000e+01, 1.863000e+03],\n",
              "       [4.000000e+00, 0.000000e+00, 0.000000e+00],\n",
              "       [8.286000e+03, 6.100000e+01, 5.110000e+03],\n",
              "       [5.750100e+04, 3.000000e+01, 3.652700e+04]])"
            ]
          },
          "metadata": {
            "tags": []
          },
          "execution_count": 21
        }
      ]
    },
    {
      "cell_type": "code",
      "metadata": {
        "id": "gsBX37JfIAdr",
        "colab_type": "code",
        "outputId": "ae265e79-5780-4beb-9f17-c474102241c3",
        "colab": {
          "base_uri": "https://localhost:8080/",
          "height": 578
        }
      },
      "source": [
        "import seaborn as sns\n",
        "sns.pairplot(covid19,kind=\"scatter\")\n",
        "plt.show()"
      ],
      "execution_count": 11,
      "outputs": [
        {
          "output_type": "display_data",
          "data": {
            "image/png": "[encoded data removed]",
            "text/plain": [
              "<Figure size 540x540 with 12 Axes>"
            ]
          },
          "metadata": {
            "tags": []
          }
        }
      ]
    },
    {
      "cell_type": "code",
      "metadata": {
        "id": "6cj8G2MSi61s",
        "colab_type": "code",
        "outputId": "a24b3533-d690-4d3a-deb7-0ec253eb989f",
        "colab": {
          "base_uri": "https://localhost:8080/",
          "height": 293
        }
      },
      "source": [
        "plt.scatter(x[:,1],x[:,2])"
      ],
      "execution_count": 12,
      "outputs": [
        {
          "output_type": "execute_result",
          "data": {
            "text/plain": [
              "<matplotlib.collections.PathCollection at 0x7f4db47c6a90>"
            ]
          },
          "metadata": {
            "tags": []
          },
          "execution_count": 12
        },
        {
          "output_type": "display_data",
          "data": {
            "image/png": "[encoded data removed]",
            "text/plain": [
              "<Figure size 432x288 with 1 Axes>"
            ]
          },
          "metadata": {
            "tags": []
          }
        }
      ]
    },
    {
      "cell_type": "markdown",
      "metadata": {
        "id": "umvprrs7NVUy",
        "colab_type": "text"
      },
      "source": [
        "# **Finding optimal value of cluster through elbow method.**"
      ]
    },
    {
      "cell_type": "code",
      "metadata": {
        "id": "SnkULMTmRAa6",
        "colab_type": "code",
        "outputId": "39a09ddb-b62b-42df-b0e0-e537ae853eb4",
        "colab": {
          "base_uri": "https://localhost:8080/",
          "height": 295
        }
      },
      "source": [
        "sad = []\n",
        "\n",
        "for i in range(2, 21):\n",
        "    kmeans = KMeans(n_clusters = i, init = 'k-means++', max_iter = 300, n_init = 10, random_state = 0)\n",
        "    kmeans.fit(x)\n",
        "    sad.append(kmeans.score(x))\n",
        "plt.plot(range(2,21),sad)\n",
        "plt.title('The elbow method')\n",
        "plt.xlabel('Number of clusters')\n",
        "plt.ylabel('sad')\n",
        "plt.show()\n"
      ],
      "execution_count": 13,
      "outputs": [
        {
          "output_type": "display_data",
          "data": {
            "image/png": "[encoded data removed]",
            "text/plain": [
              "<Figure size 432x288 with 1 Axes>"
            ]
          },
          "metadata": {
            "tags": []
          }
        }
      ]
    },
    {
      "cell_type": "markdown",
      "metadata": {
        "id": "0WlISNH4Nmmy",
        "colab_type": "text"
      },
      "source": [
        "**From the graph we conclude the optimal value of cluster is 3.**"
      ]
    },
    {
      "cell_type": "markdown",
      "metadata": {
        "id": "YKGNs09hNxTi",
        "colab_type": "text"
      },
      "source": [
        "# **Clustering**"
      ]
    },
    {
      "cell_type": "code",
      "metadata": {
        "id": "I_kFA3RuLkWc",
        "colab_type": "code",
        "outputId": "9ea64bd5-54e6-4276-db50-fe73ef2f4f60",
        "colab": {
          "base_uri": "https://localhost:8080/",
          "height": 260
        }
      },
      "source": [
        "kmeans = KMeans(n_clusters = 3, init = 'k-means++', max_iter = 300, n_init = 10, random_state = 0)\n",
        "y_kmeans = kmeans.fit_predict(x)\n",
        "y_kmeans"
      ],
      "execution_count": 14,
      "outputs": [
        {
          "output_type": "execute_result",
          "data": {
            "text/plain": [
              "array([0, 0, 0, 0, 0, 0, 0, 0, 0, 0, 0, 0, 0, 0, 0, 0, 0, 0, 0, 0, 0, 0,\n",
              "       0, 0, 0, 0, 0, 0, 0, 0, 0, 0, 0, 0, 0, 0, 0, 0, 0, 0, 0, 0, 0, 0,\n",
              "       0, 0, 0, 0, 0, 0, 0, 0, 0, 0, 0, 0, 0, 0, 0, 0, 0, 0, 0, 0, 0, 0,\n",
              "       0, 0, 0, 0, 0, 0, 0, 2, 0, 0, 0, 0, 0, 0, 0, 0, 0, 0, 0, 0, 0, 0,\n",
              "       0, 0, 0, 0, 0, 0, 0, 0, 0, 0, 1, 0, 0, 0, 0, 0, 0, 0, 0, 0, 0, 0,\n",
              "       0, 0, 0, 0, 0, 0, 0, 0, 0, 0, 0, 0, 0, 0, 0, 0, 0, 0, 0, 0, 0, 0,\n",
              "       0, 0, 0, 0, 0, 0, 0, 0, 0, 0, 0, 0, 0, 0, 0, 0, 0, 0, 0, 0, 0, 0,\n",
              "       0, 0, 0, 0, 0, 0, 0, 0, 0, 0, 0, 0, 0, 0, 0, 0, 0, 0, 0, 0, 0, 0,\n",
              "       0, 0, 0, 0, 0, 0, 0, 0, 0, 0, 0, 0, 0, 0, 0, 0, 0, 0, 0, 0, 0, 0,\n",
              "       0, 0, 0, 0, 0, 0, 0, 0, 0, 0, 0, 0, 0, 0, 0, 0, 0, 0, 0, 0, 0, 0,\n",
              "       0, 0, 0, 0, 0, 0, 0, 0, 0, 0, 0, 0, 0, 0, 0, 0, 0, 0, 0, 0, 0, 0,\n",
              "       0, 0, 0, 0, 0, 0, 0, 0, 0, 0, 0, 0, 0, 0, 0, 0, 0, 0, 0, 0, 0, 0,\n",
              "       0, 0, 0, 0, 0, 0, 0, 0, 0, 0, 0, 0, 0, 0, 0, 0, 0, 0, 0],\n",
              "      dtype=int32)"
            ]
          },
          "metadata": {
            "tags": []
          },
          "execution_count": 14
        }
      ]
    },
    {
      "cell_type": "markdown",
      "metadata": {
        "id": "WlvZliQLgIja",
        "colab_type": "text"
      },
      "source": [
        "# **Bubble plot of three cluster in which area of each dot represents the confirmed cases**"
      ]
    },
    {
      "cell_type": "code",
      "metadata": {
        "id": "ZhVmjza1eY0a",
        "colab_type": "code",
        "outputId": "9b74fa8d-411e-41da-acac-62bf3ff9a31b",
        "colab": {
          "base_uri": "https://localhost:8080/",
          "height": 293
        }
      },
      "source": [
        "plt.scatter(x[:, 1], x[:, 2],s=x[:,0],c=y_kmeans,cmap=\"viridis\")\n",
        "cen=kmeans.cluster_centers_\n",
        "plt.scatter(cen[:,1],cen[:,2],c=\"black\",s=40,alpha=0.8)"
      ],
      "execution_count": 190,
      "outputs": [
        {
          "output_type": "execute_result",
          "data": {
            "text/plain": [
              "<matplotlib.collections.PathCollection at 0x7f42ee225fd0>"
            ]
          },
          "metadata": {
            "tags": []
          },
          "execution_count": 190
        },
        {
          "output_type": "display_data",
          "data": {
            "image/png": "[encoded data removed]",
            "text/plain": [
              "<Figure size 432x288 with 1 Axes>"
            ]
          },
          "metadata": {
            "tags": []
          }
        }
      ]
    },
    {
      "cell_type": "markdown",
      "metadata": {
        "id": "tvxv3ZN3f39H",
        "colab_type": "text"
      },
      "source": [
        "**Finding the centers of three clusters.**"
      ]
    },
    {
      "cell_type": "code",
      "metadata": {
        "id": "_UHWtBN3fhSn",
        "colab_type": "code",
        "outputId": "59b86bd4-1b67-43b4-c06a-858a580d0c29",
        "colab": {
          "base_uri": "https://localhost:8080/",
          "height": 69
        }
      },
      "source": [
        "cen=kmeans.cluster_centers_\n",
        "cen"
      ],
      "execution_count": 16,
      "outputs": [
        {
          "output_type": "execute_result",
          "data": {
            "text/plain": [
              "array([[2.95522776e+03, 3.15302491e+01, 1.32373665e+03],\n",
              "       [2.69148700e+06, 1.05501000e+05, 1.20494100e+06],\n",
              "       [1.15719500e+06, 4.61230000e+04, 1.30508000e+05]])"
            ]
          },
          "metadata": {
            "tags": []
          },
          "execution_count": 16
        }
      ]
    },
    {
      "cell_type": "markdown",
      "metadata": {
        "id": "JCWulMsTgx0a",
        "colab_type": "text"
      },
      "source": [
        "**But bubble plot is not recommended for the large amount of data we do scatter plot of the clusters.**"
      ]
    },
    {
      "cell_type": "code",
      "metadata": {
        "id": "eAqCy9aLY_X0",
        "colab_type": "code",
        "colab": {
          "base_uri": "https://localhost:8080/",
          "height": 293
        },
        "outputId": "a543fdba-32b0-4137-8fa7-de3a28cdd4d5"
      },
      "source": [
        "plt.scatter(x[y_kmeans == 0, 1], x[y_kmeans == 0, 2], s = 283, c = 'blue')\n",
        "plt.scatter(x[y_kmeans == 1, 1], x[y_kmeans == 1, 2], s = 283, c = 'yellow')\n",
        "plt.scatter(x[y_kmeans == 2, 1], x[y_kmeans == 2, 2], s = 283, c = 'green')\n",
        "cen=kmeans.cluster_centers_\n",
        "plt.scatter(cen[:,1],cen[:,2],c=\"black\",s=40,alpha=0.8)"
      ],
      "execution_count": 19,
      "outputs": [
        {
          "output_type": "execute_result",
          "data": {
            "text/plain": [
              "<matplotlib.collections.PathCollection at 0x7f4db4d97978>"
            ]
          },
          "metadata": {
            "tags": []
          },
          "execution_count": 19
        },
        {
          "output_type": "display_data",
          "data": {
            "image/png": "[encoded data removed]",
            "text/plain": [
              "<Figure size 432x288 with 1 Axes>"
            ]
          },
          "metadata": {
            "tags": []
          }
        }
      ]
    },
    {
      "cell_type": "markdown",
      "metadata": {
        "id": "ovL3wDzjhs7S",
        "colab_type": "text"
      },
      "source": [
        "\n",
        "1.   clusters of green and yellow color will have zero error.\n",
        "2.   From the above graph we can conclude that some clusters have variable death and recovery rates.\n",
        "\n"
      ]
    },
    {
      "cell_type": "markdown",
      "metadata": {
        "id": "kUhvhfCwrPTP",
        "colab_type": "text"
      },
      "source": [
        "# **Forming a dataframe having confirmed cases equal to 1 in any city,deaths and recovered will be fraction of that number.**"
      ]
    },
    {
      "cell_type": "code",
      "metadata": {
        "id": "bMhcBDdUiB-B",
        "colab_type": "code",
        "colab": {
          "base_uri": "https://localhost:8080/",
          "height": 415
        },
        "outputId": "117012fc-9e23-475c-954e-015d03f0c2bc"
      },
      "source": [
        "covid19[\"Confirmed\"]=1\n",
        "covid19[\"Deaths\"]=np.random.rand(283)\n",
        "covid19[\"Recovered\"]=np.random.rand(283)\n",
        "covid19"
      ],
      "execution_count": 32,
      "outputs": [
        {
          "output_type": "execute_result",
          "data": {
            "text/html": [
              "<div>\n",
              "<style scoped>\n",
              "    .dataframe tbody tr th:only-of-type {\n",
              "        vertical-align: middle;\n",
              "    }\n",
              "\n",
              "    .dataframe tbody tr th {\n",
              "        vertical-align: top;\n",
              "    }\n",
              "\n",
              "    .dataframe thead th {\n",
              "        text-align: right;\n",
              "    }\n",
              "</style>\n",
              "<table border=\"1\" class=\"dataframe\">\n",
              "  <thead>\n",
              "    <tr style=\"text-align: right;\">\n",
              "      <th></th>\n",
              "      <th>Province/State</th>\n",
              "      <th>Confirmed</th>\n",
              "      <th>Deaths</th>\n",
              "      <th>Recovered</th>\n",
              "    </tr>\n",
              "  </thead>\n",
              "  <tbody>\n",
              "    <tr>\n",
              "      <th>0</th>\n",
              "      <td>Montreal, QC</td>\n",
              "      <td>1</td>\n",
              "      <td>0.709639</td>\n",
              "      <td>0.550615</td>\n",
              "    </tr>\n",
              "    <tr>\n",
              "      <th>1</th>\n",
              "      <td>Norfolk County, MA</td>\n",
              "      <td>1</td>\n",
              "      <td>0.813409</td>\n",
              "      <td>0.081315</td>\n",
              "    </tr>\n",
              "    <tr>\n",
              "      <th>2</th>\n",
              "      <td>Alabama</td>\n",
              "      <td>1</td>\n",
              "      <td>0.207174</td>\n",
              "      <td>0.399488</td>\n",
              "    </tr>\n",
              "    <tr>\n",
              "      <th>3</th>\n",
              "      <td>Alameda County, CA</td>\n",
              "      <td>1</td>\n",
              "      <td>0.523486</td>\n",
              "      <td>0.529237</td>\n",
              "    </tr>\n",
              "    <tr>\n",
              "      <th>4</th>\n",
              "      <td>Alaska</td>\n",
              "      <td>1</td>\n",
              "      <td>0.558120</td>\n",
              "      <td>0.548971</td>\n",
              "    </tr>\n",
              "    <tr>\n",
              "      <th>...</th>\n",
              "      <td>...</td>\n",
              "      <td>...</td>\n",
              "      <td>...</td>\n",
              "      <td>...</td>\n",
              "    </tr>\n",
              "    <tr>\n",
              "      <th>278</th>\n",
              "      <td>Wyoming</td>\n",
              "      <td>1</td>\n",
              "      <td>0.768181</td>\n",
              "      <td>0.011165</td>\n",
              "    </tr>\n",
              "    <tr>\n",
              "      <th>279</th>\n",
              "      <td>Xinjiang</td>\n",
              "      <td>1</td>\n",
              "      <td>0.420131</td>\n",
              "      <td>0.053688</td>\n",
              "    </tr>\n",
              "    <tr>\n",
              "      <th>280</th>\n",
              "      <td>Yolo County, CA</td>\n",
              "      <td>1</td>\n",
              "      <td>0.161104</td>\n",
              "      <td>0.956818</td>\n",
              "    </tr>\n",
              "    <tr>\n",
              "      <th>281</th>\n",
              "      <td>Yunnan</td>\n",
              "      <td>1</td>\n",
              "      <td>0.917483</td>\n",
              "      <td>0.371247</td>\n",
              "    </tr>\n",
              "    <tr>\n",
              "      <th>282</th>\n",
              "      <td>Zhejiang</td>\n",
              "      <td>1</td>\n",
              "      <td>0.508548</td>\n",
              "      <td>0.788147</td>\n",
              "    </tr>\n",
              "  </tbody>\n",
              "</table>\n",
              "<p>283 rows × 4 columns</p>\n",
              "</div>"
            ],
            "text/plain": [
              "          Province/State  Confirmed    Deaths  Recovered\n",
              "0           Montreal, QC          1  0.709639   0.550615\n",
              "1     Norfolk County, MA          1  0.813409   0.081315\n",
              "2                Alabama          1  0.207174   0.399488\n",
              "3     Alameda County, CA          1  0.523486   0.529237\n",
              "4                 Alaska          1  0.558120   0.548971\n",
              "..                   ...        ...       ...        ...\n",
              "278              Wyoming          1  0.768181   0.011165\n",
              "279             Xinjiang          1  0.420131   0.053688\n",
              "280      Yolo County, CA          1  0.161104   0.956818\n",
              "281               Yunnan          1  0.917483   0.371247\n",
              "282             Zhejiang          1  0.508548   0.788147\n",
              "\n",
              "[283 rows x 4 columns]"
            ]
          },
          "metadata": {
            "tags": []
          },
          "execution_count": 32
        }
      ]
    },
    {
      "cell_type": "code",
      "metadata": {
        "id": "pgmlrGhPhBeZ",
        "colab_type": "code",
        "colab": {
          "base_uri": "https://localhost:8080/",
          "height": 1000
        },
        "outputId": "b8ca7ca7-1b57-4db7-bc5d-e7ae925c219b"
      },
      "source": [
        "y=covid19.iloc[:,1:4].values\n",
        "y"
      ],
      "execution_count": 34,
      "outputs": [
        {
          "output_type": "execute_result",
          "data": {
            "text/plain": [
              "array([[1.00000000e+00, 7.09638904e-01, 5.50615056e-01],\n",
              "       [1.00000000e+00, 8.13408595e-01, 8.13150364e-02],\n",
              "       [1.00000000e+00, 2.07174294e-01, 3.99487550e-01],\n",
              "       [1.00000000e+00, 5.23486429e-01, 5.29236838e-01],\n",
              "       [1.00000000e+00, 5.58120106e-01, 5.48971292e-01],\n",
              "       [1.00000000e+00, 5.65940805e-02, 7.94323153e-02],\n",
              "       [1.00000000e+00, 8.48790334e-01, 8.82810003e-02],\n",
              "       [1.00000000e+00, 4.47370995e-01, 8.32908735e-02],\n",
              "       [1.00000000e+00, 9.65181184e-01, 1.24289578e-01],\n",
              "       [1.00000000e+00, 5.34781713e-01, 8.78717235e-01],\n",
              "       [1.00000000e+00, 9.00785398e-01, 3.59117116e-01],\n",
              "       [1.00000000e+00, 2.88741067e-01, 5.13112547e-01],\n",
              "       [1.00000000e+00, 2.81977369e-01, 1.41950630e-01],\n",
              "       [1.00000000e+00, 3.79363865e-01, 3.29723772e-01],\n",
              "       [1.00000000e+00, 9.55608327e-01, 4.11988070e-01],\n",
              "       [1.00000000e+00, 8.86922458e-01, 1.17743709e-01],\n",
              "       [1.00000000e+00, 7.81932182e-01, 5.78095533e-01],\n",
              "       [1.00000000e+00, 4.12939372e-02, 6.03139430e-01],\n",
              "       [1.00000000e+00, 9.21123088e-01, 3.15605493e-01],\n",
              "       [1.00000000e+00, 6.02017309e-01, 7.15353266e-01],\n",
              "       [1.00000000e+00, 7.55417115e-01, 1.83872109e-01],\n",
              "       [1.00000000e+00, 4.54082116e-01, 7.63843131e-01],\n",
              "       [1.00000000e+00, 4.91157234e-01, 8.01404635e-01],\n",
              "       [1.00000000e+00, 9.12549958e-02, 4.34454741e-01],\n",
              "       [1.00000000e+00, 5.32841252e-01, 5.18688101e-02],\n",
              "       [1.00000000e+00, 5.86162654e-01, 6.59051713e-01],\n",
              "       [1.00000000e+00, 6.20279253e-01, 4.00677513e-02],\n",
              "       [1.00000000e+00, 6.17532397e-02, 3.93877797e-01],\n",
              "       [1.00000000e+00, 1.72501445e-01, 6.33811496e-01],\n",
              "       [1.00000000e+00, 4.50813358e-01, 3.17673141e-01],\n",
              "       [1.00000000e+00, 4.62770837e-01, 2.00144049e-01],\n",
              "       [1.00000000e+00, 5.82726958e-01, 4.66763215e-01],\n",
              "       [1.00000000e+00, 4.47249325e-01, 5.16473081e-01],\n",
              "       [1.00000000e+00, 6.19456846e-01, 9.39579935e-01],\n",
              "       [1.00000000e+00, 3.39212354e-01, 2.87441570e-01],\n",
              "       [1.00000000e+00, 5.01144671e-01, 9.58956760e-01],\n",
              "       [1.00000000e+00, 2.33153015e-01, 8.62516365e-01],\n",
              "       [1.00000000e+00, 2.28694468e-01, 1.73658795e-01],\n",
              "       [1.00000000e+00, 7.20419191e-01, 2.02587042e-01],\n",
              "       [1.00000000e+00, 4.68280274e-01, 6.22414248e-01],\n",
              "       [1.00000000e+00, 4.07000979e-01, 6.48145120e-04],\n",
              "       [1.00000000e+00, 7.49426037e-01, 1.79796281e-01],\n",
              "       [1.00000000e+00, 3.89560296e-01, 1.62216263e-01],\n",
              "       [1.00000000e+00, 1.65793709e-01, 3.41094999e-01],\n",
              "       [1.00000000e+00, 8.47229228e-01, 2.00414088e-01],\n",
              "       [1.00000000e+00, 5.46304298e-01, 3.13657868e-01],\n",
              "       [1.00000000e+00, 1.59603112e-01, 6.11567333e-02],\n",
              "       [1.00000000e+00, 3.65662360e-01, 9.35072117e-01],\n",
              "       [1.00000000e+00, 6.35463548e-01, 8.06387389e-01],\n",
              "       [1.00000000e+00, 9.97364031e-03, 7.99450450e-01],\n",
              "       [1.00000000e+00, 7.62090255e-01, 4.01346906e-01],\n",
              "       [1.00000000e+00, 1.60875633e-01, 6.37665911e-01],\n",
              "       [1.00000000e+00, 6.53764539e-01, 6.92547564e-01],\n",
              "       [1.00000000e+00, 5.29476209e-02, 5.96079853e-01],\n",
              "       [1.00000000e+00, 3.43719534e-02, 7.85945801e-01],\n",
              "       [1.00000000e+00, 8.70645761e-01, 2.44046010e-01],\n",
              "       [1.00000000e+00, 2.22787798e-01, 1.37771434e-01],\n",
              "       [1.00000000e+00, 4.73057358e-01, 4.38778141e-01],\n",
              "       [1.00000000e+00, 7.50086941e-01, 2.87390165e-01],\n",
              "       [1.00000000e+00, 1.30035030e-01, 8.43617588e-01],\n",
              "       [1.00000000e+00, 9.45791524e-01, 6.04503014e-01],\n",
              "       [1.00000000e+00, 1.97977041e-01, 3.57510846e-01],\n",
              "       [1.00000000e+00, 9.04807400e-01, 8.73891823e-01],\n",
              "       [1.00000000e+00, 4.47998112e-02, 2.65048801e-01],\n",
              "       [1.00000000e+00, 8.97212713e-01, 6.14088436e-02],\n",
              "       [1.00000000e+00, 8.25850336e-01, 3.57017291e-01],\n",
              "       [1.00000000e+00, 8.99554561e-01, 1.84993801e-01],\n",
              "       [1.00000000e+00, 4.17481055e-01, 8.98085936e-01],\n",
              "       [1.00000000e+00, 8.36930946e-01, 2.82665405e-01],\n",
              "       [1.00000000e+00, 6.12941863e-01, 2.79331034e-02],\n",
              "       [1.00000000e+00, 6.85881096e-01, 2.99637756e-01],\n",
              "       [1.00000000e+00, 6.03539102e-01, 6.00911674e-01],\n",
              "       [1.00000000e+00, 5.34229073e-01, 5.43280026e-01],\n",
              "       [1.00000000e+00, 2.34872994e-01, 4.09838561e-01],\n",
              "       [1.00000000e+00, 4.71155488e-01, 7.08060241e-01],\n",
              "       [1.00000000e+00, 5.13159182e-02, 1.20620889e-01],\n",
              "       [1.00000000e+00, 8.11278363e-01, 1.93680332e-01],\n",
              "       [1.00000000e+00, 2.63746812e-01, 3.01072682e-01],\n",
              "       [1.00000000e+00, 1.03984852e-01, 5.51831310e-01],\n",
              "       [1.00000000e+00, 3.58639433e-01, 9.89211771e-01],\n",
              "       [1.00000000e+00, 8.74171615e-01, 2.05624647e-01],\n",
              "       [1.00000000e+00, 5.11213304e-01, 2.83235599e-01],\n",
              "       [1.00000000e+00, 3.33499077e-01, 8.00573251e-01],\n",
              "       [1.00000000e+00, 7.45299190e-01, 5.62626840e-01],\n",
              "       [1.00000000e+00, 5.75850548e-01, 3.63662696e-01],\n",
              "       [1.00000000e+00, 9.15558732e-01, 5.84801030e-01],\n",
              "       [1.00000000e+00, 4.03080844e-01, 6.02165195e-01],\n",
              "       [1.00000000e+00, 7.00425958e-01, 7.76691563e-01],\n",
              "       [1.00000000e+00, 4.50518249e-01, 6.08941753e-01],\n",
              "       [1.00000000e+00, 2.97522607e-01, 8.06521530e-01],\n",
              "       [1.00000000e+00, 9.18393437e-02, 5.07356877e-01],\n",
              "       [1.00000000e+00, 1.01726793e-01, 5.19098333e-01],\n",
              "       [1.00000000e+00, 6.82943343e-01, 6.47949542e-01],\n",
              "       [1.00000000e+00, 3.79148059e-01, 6.66576664e-01],\n",
              "       [1.00000000e+00, 9.09696356e-02, 5.64297118e-02],\n",
              "       [1.00000000e+00, 8.62918397e-01, 9.70293919e-01],\n",
              "       [1.00000000e+00, 9.55244807e-01, 3.83553283e-01],\n",
              "       [1.00000000e+00, 7.27040880e-01, 8.05353396e-01],\n",
              "       [1.00000000e+00, 6.54514797e-01, 6.49156380e-01],\n",
              "       [1.00000000e+00, 5.99371040e-01, 1.50806018e-01],\n",
              "       [1.00000000e+00, 2.80196759e-01, 6.65566502e-01],\n",
              "       [1.00000000e+00, 9.51317591e-01, 1.12427326e-01],\n",
              "       [1.00000000e+00, 5.67859578e-01, 3.24838715e-01],\n",
              "       [1.00000000e+00, 7.36333226e-01, 3.69798386e-01],\n",
              "       [1.00000000e+00, 5.90193092e-01, 1.21682492e-01],\n",
              "       [1.00000000e+00, 8.38040691e-01, 4.98613584e-01],\n",
              "       [1.00000000e+00, 5.53428633e-01, 2.95082178e-01],\n",
              "       [1.00000000e+00, 2.91840259e-01, 2.13464335e-01],\n",
              "       [1.00000000e+00, 8.65833437e-01, 9.16625656e-01],\n",
              "       [1.00000000e+00, 5.73590984e-01, 7.26558858e-01],\n",
              "       [1.00000000e+00, 4.54588744e-01, 7.77978053e-01],\n",
              "       [1.00000000e+00, 5.97989823e-01, 1.30565576e-01],\n",
              "       [1.00000000e+00, 7.89770967e-01, 8.47843453e-01],\n",
              "       [1.00000000e+00, 3.87458589e-01, 5.88780950e-01],\n",
              "       [1.00000000e+00, 6.21287162e-01, 6.37294128e-01],\n",
              "       [1.00000000e+00, 7.48412061e-01, 6.99369447e-01],\n",
              "       [1.00000000e+00, 5.03420080e-03, 3.18723831e-01],\n",
              "       [1.00000000e+00, 3.11622654e-01, 3.05830920e-01],\n",
              "       [1.00000000e+00, 2.19027929e-01, 6.70651940e-01],\n",
              "       [1.00000000e+00, 1.13840694e-01, 3.80771405e-01],\n",
              "       [1.00000000e+00, 4.66630375e-01, 4.15974447e-01],\n",
              "       [1.00000000e+00, 6.19597317e-01, 7.55095565e-01],\n",
              "       [1.00000000e+00, 5.35527406e-02, 3.78696724e-01],\n",
              "       [1.00000000e+00, 6.84563135e-01, 5.85590717e-01],\n",
              "       [1.00000000e+00, 9.74402820e-01, 7.38779860e-01],\n",
              "       [1.00000000e+00, 7.15557633e-01, 1.49536811e-01],\n",
              "       [1.00000000e+00, 9.18855481e-01, 1.65345828e-01],\n",
              "       [1.00000000e+00, 8.80079849e-01, 4.56611531e-01],\n",
              "       [1.00000000e+00, 6.68550599e-01, 8.69390317e-01],\n",
              "       [1.00000000e+00, 7.83205471e-01, 5.73648746e-04],\n",
              "       [1.00000000e+00, 2.22258543e-01, 3.72322451e-01],\n",
              "       [1.00000000e+00, 1.61597346e-01, 8.05239405e-01],\n",
              "       [1.00000000e+00, 5.47039378e-01, 6.90162849e-02],\n",
              "       [1.00000000e+00, 7.20818554e-01, 6.38038705e-01],\n",
              "       [1.00000000e+00, 2.25084071e-01, 8.56313720e-01],\n",
              "       [1.00000000e+00, 6.85365645e-01, 5.61804570e-01],\n",
              "       [1.00000000e+00, 3.92371867e-01, 3.61807459e-01],\n",
              "       [1.00000000e+00, 4.06926344e-01, 8.71632214e-01],\n",
              "       [1.00000000e+00, 4.61858104e-02, 1.48758502e-03],\n",
              "       [1.00000000e+00, 7.80201976e-02, 7.02567634e-01],\n",
              "       [1.00000000e+00, 8.69068336e-02, 5.74425971e-01],\n",
              "       [1.00000000e+00, 9.08877224e-03, 5.26164293e-02],\n",
              "       [1.00000000e+00, 5.54002054e-01, 5.16933808e-01],\n",
              "       [1.00000000e+00, 2.00193152e-01, 9.97142268e-01],\n",
              "       [1.00000000e+00, 4.62219702e-01, 6.56740505e-01],\n",
              "       [1.00000000e+00, 8.35836326e-03, 1.40878710e-01],\n",
              "       [1.00000000e+00, 8.34083544e-01, 6.48696886e-01],\n",
              "       [1.00000000e+00, 1.71169471e-01, 1.97146808e-01],\n",
              "       [1.00000000e+00, 9.31102912e-01, 9.12143741e-02],\n",
              "       [1.00000000e+00, 6.01220369e-01, 3.77214041e-01],\n",
              "       [1.00000000e+00, 8.69795840e-01, 8.08282640e-01],\n",
              "       [1.00000000e+00, 8.85310707e-01, 2.39289965e-01],\n",
              "       [1.00000000e+00, 2.71539764e-01, 8.46242767e-01],\n",
              "       [1.00000000e+00, 1.70430554e-01, 7.95228846e-02],\n",
              "       [1.00000000e+00, 2.46451113e-01, 3.53139860e-01],\n",
              "       [1.00000000e+00, 4.27146043e-03, 7.51423116e-01],\n",
              "       [1.00000000e+00, 1.45229931e-01, 2.99662720e-01],\n",
              "       [1.00000000e+00, 3.77169245e-01, 6.30573438e-01],\n",
              "       [1.00000000e+00, 9.49573867e-01, 6.82433391e-01],\n",
              "       [1.00000000e+00, 3.06691602e-01, 9.96939293e-02],\n",
              "       [1.00000000e+00, 5.00245196e-01, 9.41410721e-02],\n",
              "       [1.00000000e+00, 2.03381067e-01, 1.83051819e-01],\n",
              "       [1.00000000e+00, 3.50191779e-01, 7.88359084e-01],\n",
              "       [1.00000000e+00, 5.94992498e-01, 9.13503991e-02],\n",
              "       [1.00000000e+00, 7.44769019e-02, 3.07659697e-01],\n",
              "       [1.00000000e+00, 7.49167995e-01, 4.26751466e-02],\n",
              "       [1.00000000e+00, 9.26033856e-01, 5.84785552e-01],\n",
              "       [1.00000000e+00, 3.08661270e-01, 3.57220617e-02],\n",
              "       [1.00000000e+00, 6.53520366e-01, 5.31837343e-01],\n",
              "       [1.00000000e+00, 9.29491956e-01, 4.60382708e-01],\n",
              "       [1.00000000e+00, 8.95373233e-01, 6.59521816e-01],\n",
              "       [1.00000000e+00, 9.51380795e-01, 3.82019884e-01],\n",
              "       [1.00000000e+00, 8.58483343e-01, 3.17196584e-01],\n",
              "       [1.00000000e+00, 8.93153266e-01, 6.54012305e-01],\n",
              "       [1.00000000e+00, 1.49333383e-01, 3.02292177e-01],\n",
              "       [1.00000000e+00, 2.19282109e-01, 6.67024090e-01],\n",
              "       [1.00000000e+00, 7.09773708e-01, 8.94424577e-01],\n",
              "       [1.00000000e+00, 1.18712697e-01, 2.87946447e-01],\n",
              "       [1.00000000e+00, 4.47815208e-01, 5.43086227e-01],\n",
              "       [1.00000000e+00, 9.19474942e-02, 2.08284191e-01],\n",
              "       [1.00000000e+00, 7.24483336e-01, 6.72224938e-01],\n",
              "       [1.00000000e+00, 1.36065084e-01, 9.39272092e-01],\n",
              "       [1.00000000e+00, 5.27342041e-01, 3.52054190e-01],\n",
              "       [1.00000000e+00, 5.96933850e-01, 1.73051872e-01],\n",
              "       [1.00000000e+00, 1.11584439e-02, 9.16157320e-01],\n",
              "       [1.00000000e+00, 7.11684979e-01, 7.04449678e-01],\n",
              "       [1.00000000e+00, 9.70012605e-01, 9.03633504e-02],\n",
              "       [1.00000000e+00, 6.25907533e-02, 3.51481238e-02],\n",
              "       [1.00000000e+00, 1.78865580e-01, 1.20203977e-01],\n",
              "       [1.00000000e+00, 4.42952983e-01, 9.43005514e-01],\n",
              "       [1.00000000e+00, 4.31831605e-01, 4.59428907e-01],\n",
              "       [1.00000000e+00, 4.01621594e-01, 4.25542040e-01],\n",
              "       [1.00000000e+00, 1.50332119e-01, 9.82193690e-01],\n",
              "       [1.00000000e+00, 9.10782468e-01, 1.37461517e-01],\n",
              "       [1.00000000e+00, 6.53744153e-01, 9.02381833e-01],\n",
              "       [1.00000000e+00, 9.67837980e-02, 3.54515017e-01],\n",
              "       [1.00000000e+00, 4.83547840e-01, 6.53106465e-01],\n",
              "       [1.00000000e+00, 5.32533421e-01, 1.57868773e-01],\n",
              "       [1.00000000e+00, 6.58901351e-01, 4.85019479e-01],\n",
              "       [1.00000000e+00, 7.31181828e-01, 1.55083374e-01],\n",
              "       [1.00000000e+00, 3.46282904e-01, 5.77859164e-01],\n",
              "       [1.00000000e+00, 3.76335823e-01, 9.33222093e-01],\n",
              "       [1.00000000e+00, 2.89551998e-01, 1.43040863e-01],\n",
              "       [1.00000000e+00, 4.75276824e-01, 9.39432856e-01],\n",
              "       [1.00000000e+00, 4.02241254e-01, 9.31150217e-02],\n",
              "       [1.00000000e+00, 4.25409533e-01, 4.76699186e-01],\n",
              "       [1.00000000e+00, 7.59670010e-01, 4.30329278e-01],\n",
              "       [1.00000000e+00, 6.78908715e-01, 7.71735538e-01],\n",
              "       [1.00000000e+00, 6.20535684e-02, 8.21173976e-01],\n",
              "       [1.00000000e+00, 4.72814932e-01, 8.02913565e-01],\n",
              "       [1.00000000e+00, 8.81400405e-01, 3.84021080e-01],\n",
              "       [1.00000000e+00, 9.54614032e-01, 3.32978515e-01],\n",
              "       [1.00000000e+00, 7.18904724e-01, 8.92648501e-01],\n",
              "       [1.00000000e+00, 6.00697856e-01, 4.50017547e-01],\n",
              "       [1.00000000e+00, 4.48613259e-01, 8.58054855e-01],\n",
              "       [1.00000000e+00, 7.49036813e-01, 7.27684844e-01],\n",
              "       [1.00000000e+00, 9.22793193e-01, 7.46696921e-01],\n",
              "       [1.00000000e+00, 3.65154685e-01, 4.83175957e-01],\n",
              "       [1.00000000e+00, 7.76756127e-01, 5.21054702e-01],\n",
              "       [1.00000000e+00, 4.24789521e-01, 8.76534181e-01],\n",
              "       [1.00000000e+00, 9.79388471e-02, 4.62982478e-01],\n",
              "       [1.00000000e+00, 2.50096565e-02, 2.05154494e-01],\n",
              "       [1.00000000e+00, 4.93678034e-01, 7.46613147e-01],\n",
              "       [1.00000000e+00, 3.41341621e-01, 4.08836648e-02],\n",
              "       [1.00000000e+00, 2.90032706e-01, 1.45592546e-01],\n",
              "       [1.00000000e+00, 4.69468356e-01, 7.94242881e-01],\n",
              "       [1.00000000e+00, 7.23654805e-01, 8.64123298e-01],\n",
              "       [1.00000000e+00, 6.28468765e-01, 4.62691761e-01],\n",
              "       [1.00000000e+00, 6.58451706e-01, 1.22283657e-01],\n",
              "       [1.00000000e+00, 2.24112982e-01, 6.54001057e-02],\n",
              "       [1.00000000e+00, 3.62056034e-01, 5.26165053e-02],\n",
              "       [1.00000000e+00, 1.77739353e-01, 8.41021719e-01],\n",
              "       [1.00000000e+00, 3.75335427e-01, 1.18826668e-01],\n",
              "       [1.00000000e+00, 5.43596799e-01, 5.08729244e-01],\n",
              "       [1.00000000e+00, 8.75128352e-01, 9.77673500e-02],\n",
              "       [1.00000000e+00, 7.47299717e-01, 9.32651442e-01],\n",
              "       [1.00000000e+00, 8.08522466e-01, 5.27584110e-01],\n",
              "       [1.00000000e+00, 6.65785670e-01, 4.91069649e-01],\n",
              "       [1.00000000e+00, 7.60964204e-01, 7.29328734e-01],\n",
              "       [1.00000000e+00, 8.81776821e-01, 4.87212107e-01],\n",
              "       [1.00000000e+00, 8.80387295e-01, 5.22357132e-01],\n",
              "       [1.00000000e+00, 2.56852541e-01, 5.57861516e-01],\n",
              "       [1.00000000e+00, 2.02970732e-01, 5.61804618e-01],\n",
              "       [1.00000000e+00, 8.45442250e-01, 5.76482887e-01],\n",
              "       [1.00000000e+00, 6.72617659e-01, 6.75136260e-01],\n",
              "       [1.00000000e+00, 5.97425678e-01, 5.55220453e-01],\n",
              "       [1.00000000e+00, 9.98927178e-01, 1.41444833e-01],\n",
              "       [1.00000000e+00, 3.20207939e-01, 2.77446302e-01],\n",
              "       [1.00000000e+00, 6.81659942e-01, 7.94025641e-01],\n",
              "       [1.00000000e+00, 4.32816608e-01, 6.59536765e-01],\n",
              "       [1.00000000e+00, 7.01447911e-01, 7.64107702e-01],\n",
              "       [1.00000000e+00, 8.87671025e-01, 1.46830786e-01],\n",
              "       [1.00000000e+00, 4.24125606e-01, 5.62929442e-02],\n",
              "       [1.00000000e+00, 7.97838870e-01, 2.67039506e-01],\n",
              "       [1.00000000e+00, 9.88523506e-01, 4.79428610e-01],\n",
              "       [1.00000000e+00, 7.99259432e-01, 9.71444799e-01],\n",
              "       [1.00000000e+00, 2.59315650e-03, 8.12317023e-02],\n",
              "       [1.00000000e+00, 7.31697628e-01, 1.23654895e-01],\n",
              "       [1.00000000e+00, 1.14428145e-01, 2.06860542e-01],\n",
              "       [1.00000000e+00, 1.26845518e-01, 5.76432388e-01],\n",
              "       [1.00000000e+00, 7.88009980e-01, 2.49865009e-01],\n",
              "       [1.00000000e+00, 6.87329315e-01, 3.14705933e-01],\n",
              "       [1.00000000e+00, 6.35315722e-01, 5.45038505e-01],\n",
              "       [1.00000000e+00, 1.91229888e-01, 5.48709127e-01],\n",
              "       [1.00000000e+00, 1.86181009e-03, 8.74765293e-01],\n",
              "       [1.00000000e+00, 3.83049699e-01, 2.21000503e-01],\n",
              "       [1.00000000e+00, 8.94059308e-01, 8.07458907e-01],\n",
              "       [1.00000000e+00, 5.73590399e-01, 4.04115862e-01],\n",
              "       [1.00000000e+00, 1.44856607e-01, 8.11796309e-02],\n",
              "       [1.00000000e+00, 6.09172080e-01, 5.39637369e-01],\n",
              "       [1.00000000e+00, 2.74843561e-01, 3.21808615e-01],\n",
              "       [1.00000000e+00, 6.06113682e-01, 2.03773665e-01],\n",
              "       [1.00000000e+00, 5.33031604e-01, 1.05305230e-01],\n",
              "       [1.00000000e+00, 5.00888046e-01, 7.51662518e-01],\n",
              "       [1.00000000e+00, 8.24302846e-01, 3.92544627e-01],\n",
              "       [1.00000000e+00, 5.34363941e-01, 1.53433162e-01],\n",
              "       [1.00000000e+00, 7.08884925e-01, 6.27834077e-01],\n",
              "       [1.00000000e+00, 7.40399528e-01, 6.98823084e-01],\n",
              "       [1.00000000e+00, 7.68181086e-01, 1.11654504e-02],\n",
              "       [1.00000000e+00, 4.20131396e-01, 5.36883232e-02],\n",
              "       [1.00000000e+00, 1.61103502e-01, 9.56818082e-01],\n",
              "       [1.00000000e+00, 9.17483212e-01, 3.71246938e-01],\n",
              "       [1.00000000e+00, 5.08548263e-01, 7.88146926e-01]])"
            ]
          },
          "metadata": {
            "tags": []
          },
          "execution_count": 34
        }
      ]
    },
    {
      "cell_type": "markdown",
      "metadata": {
        "id": "m-t5mozLrvD2",
        "colab_type": "text"
      },
      "source": [
        "# **Visualising the raw data with scatter plot**"
      ]
    },
    {
      "cell_type": "code",
      "metadata": {
        "id": "z3172KCinC_H",
        "colab_type": "code",
        "colab": {
          "base_uri": "https://localhost:8080/",
          "height": 283
        },
        "outputId": "5ea9f62e-af01-4410-de77-1fd7ff153ce4"
      },
      "source": [
        "plt.scatter(y[:,1],y[:,2])\n"
      ],
      "execution_count": 40,
      "outputs": [
        {
          "output_type": "execute_result",
          "data": {
            "text/plain": [
              "<matplotlib.collections.PathCollection at 0x7f4db40ddd30>"
            ]
          },
          "metadata": {
            "tags": []
          },
          "execution_count": 40
        },
        {
          "output_type": "display_data",
          "data": {
            "image/png": "[encoded data removed]",
            "text/plain": [
              "<Figure size 432x288 with 1 Axes>"
            ]
          },
          "metadata": {
            "tags": []
          }
        }
      ]
    },
    {
      "cell_type": "markdown",
      "metadata": {
        "id": "1-x9QTCnr7yB",
        "colab_type": "text"
      },
      "source": [
        "# **Finding optimal value of cluster usingh elbow pattern**"
      ]
    },
    {
      "cell_type": "code",
      "metadata": {
        "id": "-rPsLNuRnZpI",
        "colab_type": "code",
        "colab": {
          "base_uri": "https://localhost:8080/",
          "height": 295
        },
        "outputId": "c730d12c-6ec0-4f32-fbbf-445f9ab2486d"
      },
      "source": [
        "pav = []\n",
        "\n",
        "for i in range(2, 21):\n",
        "    kmeans = KMeans(n_clusters = i, init = 'k-means++', max_iter = 300, n_init = 10, random_state = 0)\n",
        "    kmeans.fit(y)\n",
        "    pav.append(kmeans.score(y))\n",
        "plt.plot(range(2,21),pav)\n",
        "plt.title('The elbow method')\n",
        "plt.xlabel('Number of clusters')\n",
        "plt.ylabel('pav')\n",
        "plt.show()\n"
      ],
      "execution_count": 41,
      "outputs": [
        {
          "output_type": "display_data",
          "data": {
            "image/png": "[encoded data removed]",
            "text/plain": [
              "<Figure size 432x288 with 1 Axes>"
            ]
          },
          "metadata": {
            "tags": []
          }
        }
      ]
    },
    {
      "cell_type": "code",
      "metadata": {
        "id": "3XGKzSrMnrD8",
        "colab_type": "code",
        "colab": {
          "base_uri": "https://localhost:8080/",
          "height": 260
        },
        "outputId": "e86aed82-36c6-408e-9f31-e801ba246a8c"
      },
      "source": [
        "kmean = KMeans(n_clusters = 4, init = 'k-means++', max_iter = 300, n_init = 10, random_state = 0)\n",
        "z_kmeans = kmean.fit_predict(y)\n",
        "z_kmeans"
      ],
      "execution_count": 49,
      "outputs": [
        {
          "output_type": "execute_result",
          "data": {
            "text/plain": [
              "array([3, 0, 1, 3, 3, 1, 0, 1, 0, 2, 0, 2, 1, 1, 0, 0, 3, 2, 0, 3, 0, 2,\n",
              "       2, 1, 0, 3, 0, 1, 2, 1, 1, 3, 2, 3, 1, 2, 2, 1, 0, 2, 1, 0, 1, 1,\n",
              "       0, 0, 1, 2, 3, 2, 0, 2, 3, 2, 2, 0, 1, 1, 0, 2, 3, 1, 3, 1, 0, 0,\n",
              "       0, 2, 0, 0, 0, 3, 3, 1, 2, 1, 0, 1, 2, 2, 0, 0, 2, 3, 0, 3, 2, 3,\n",
              "       2, 2, 2, 2, 3, 2, 1, 3, 0, 3, 3, 0, 2, 0, 0, 0, 0, 3, 0, 1, 3, 3,\n",
              "       2, 0, 3, 2, 3, 3, 1, 1, 2, 1, 1, 3, 1, 3, 3, 0, 0, 3, 3, 0, 1, 2,\n",
              "       0, 3, 2, 3, 1, 2, 1, 2, 2, 1, 3, 2, 2, 1, 3, 1, 0, 0, 3, 0, 2, 1,\n",
              "       1, 2, 1, 2, 3, 1, 0, 1, 2, 0, 1, 0, 3, 1, 3, 3, 3, 0, 0, 3, 1, 2,\n",
              "       3, 1, 2, 1, 3, 2, 0, 0, 2, 3, 0, 1, 1, 2, 2, 1, 2, 0, 3, 1, 2, 0,\n",
              "       3, 0, 2, 2, 1, 2, 1, 2, 0, 3, 2, 2, 0, 0, 3, 3, 2, 3, 3, 2, 3, 2,\n",
              "       1, 1, 2, 1, 1, 2, 3, 3, 0, 1, 1, 2, 1, 3, 0, 3, 3, 3, 3, 3, 3, 2,\n",
              "       2, 3, 3, 3, 0, 1, 3, 2, 3, 0, 1, 0, 3, 3, 1, 0, 1, 2, 0, 0, 3, 2,\n",
              "       2, 1, 3, 0, 1, 3, 1, 0, 0, 2, 0, 0, 3, 3, 0, 1, 2, 0, 2],\n",
              "      dtype=int32)"
            ]
          },
          "metadata": {
            "tags": []
          },
          "execution_count": 49
        }
      ]
    },
    {
      "cell_type": "markdown",
      "metadata": {
        "id": "ynI3E8UzsJ7R",
        "colab_type": "text"
      },
      "source": [
        "# **Clustering**"
      ]
    },
    {
      "cell_type": "code",
      "metadata": {
        "id": "UwAp_lp3pL3o",
        "colab_type": "code",
        "colab": {
          "base_uri": "https://localhost:8080/",
          "height": 283
        },
        "outputId": "0a8d0c29-9aec-4826-cc10-16d11f499587"
      },
      "source": [
        "plt.scatter(y[:, 1], y[:, 2],s=40,c=z_kmeans,cmap=\"viridis\",alpha=1)\n",
        "cen=kmean.cluster_centers_\n",
        "plt.scatter(cen[:,1],cen[:,2],c=\"orange\",s=80,alpha=0.8)"
      ],
      "execution_count": 50,
      "outputs": [
        {
          "output_type": "execute_result",
          "data": {
            "text/plain": [
              "<matplotlib.collections.PathCollection at 0x7f4db4de72b0>"
            ]
          },
          "metadata": {
            "tags": []
          },
          "execution_count": 50
        },
        {
          "output_type": "display_data",
          "data": {
            "image/png": "[encoded data removed]",
            "text/plain": [
              "<Figure size 432x288 with 1 Axes>"
            ]
          },
          "metadata": {
            "tags": []
          }
        }
      ]
    },
    {
      "cell_type": "markdown",
      "metadata": {
        "id": "u2jcyZcXsw2l",
        "colab_type": "text"
      },
      "source": [
        "**In this analysis i have 4 clusters each point in each cluster is a unit circle because as we set confirmed cases in each city equal to 1.**"
      ]
    },
    {
      "cell_type": "code",
      "metadata": {
        "id": "0JBqWB0mpZPj",
        "colab_type": "code",
        "colab": {
          "base_uri": "https://localhost:8080/",
          "height": 87
        },
        "outputId": "29463fba-66d0-4514-eaf4-95d1a30c90e7"
      },
      "source": [
        "cent=kmean.cluster_centers_\n",
        "cent"
      ],
      "execution_count": 51,
      "outputs": [
        {
          "output_type": "execute_result",
          "data": {
            "text/plain": [
              "array([[1.        , 0.75510331, 0.2125347 ],\n",
              "       [1.        , 0.22496142, 0.21746287],\n",
              "       [1.        , 0.29583039, 0.73414417],\n",
              "       [1.        , 0.73500705, 0.66551051]])"
            ]
          },
          "metadata": {
            "tags": []
          },
          "execution_count": 51
        }
      ]
    }
  ]
}